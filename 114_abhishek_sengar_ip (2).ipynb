{
  "nbformat": 4,
  "nbformat_minor": 0,
  "metadata": {
    "colab": {
      "provenance": []
    },
    "kernelspec": {
      "name": "python3",
      "display_name": "Python 3"
    },
    "language_info": {
      "name": "python"
    }
  },
  "cells": [
    {
      "cell_type": "code",
      "execution_count": null,
      "metadata": {
        "colab": {
          "base_uri": "https://localhost:8080/"
        },
        "id": "ea2lJJ-KYhoI",
        "outputId": "e46e326d-da27-4392-8d42-c1a4b6dd7b87"
      },
      "outputs": [
        {
          "output_type": "stream",
          "name": "stdout",
          "text": [
            "a as int : 25\n"
          ]
        }
      ],
      "source": [
        "#Numbers\n",
        "a= 25\n",
        "print(\"a as int :\",a)\n"
      ]
    },
    {
      "cell_type": "code",
      "source": [
        "#Numbers\n",
        "b= 548468\n",
        "print(\"b as long\",b)"
      ],
      "metadata": {
        "colab": {
          "base_uri": "https://localhost:8080/"
        },
        "id": "FluhAFTncT3i",
        "outputId": "c0adaffa-b64b-4a53-edc7-718d76bca668"
      },
      "execution_count": null,
      "outputs": [
        {
          "output_type": "stream",
          "name": "stdout",
          "text": [
            "b as long 548468\n"
          ]
        }
      ]
    },
    {
      "cell_type": "code",
      "source": [
        "#Numbers\n",
        "c= 14.25\n",
        "print(\"c as float\",c)\n"
      ],
      "metadata": {
        "colab": {
          "base_uri": "https://localhost:8080/"
        },
        "id": "DEugs1Y4cZ-p",
        "outputId": "2a322456-8842-4645-b480-5b745db848a4"
      },
      "execution_count": null,
      "outputs": [
        {
          "output_type": "stream",
          "name": "stdout",
          "text": [
            "c as float 14.25\n"
          ]
        }
      ]
    },
    {
      "cell_type": "code",
      "source": [
        "#Numbers\n",
        "d=3.14j\n",
        "print(\"d as complex\",d)"
      ],
      "metadata": {
        "colab": {
          "base_uri": "https://localhost:8080/"
        },
        "id": "tDrLBavIcykq",
        "outputId": "aba05e82-eac1-4280-f76e-5ff7a90bed61"
      },
      "execution_count": null,
      "outputs": [
        {
          "output_type": "stream",
          "name": "stdout",
          "text": [
            "d as complex 3.14j\n"
          ]
        }
      ]
    },
    {
      "cell_type": "code",
      "source": [
        "#string\n",
        "str1= \"Welcome to Python\"\n",
        "print(str1)"
      ],
      "metadata": {
        "colab": {
          "base_uri": "https://localhost:8080/"
        },
        "id": "qtEHsIdkQza-",
        "outputId": "c9bac7ce-5c70-45e0-990b-370f54e76dd1"
      },
      "execution_count": null,
      "outputs": [
        {
          "output_type": "stream",
          "name": "stdout",
          "text": [
            "Welcome to Python\n"
          ]
        }
      ]
    },
    {
      "cell_type": "code",
      "source": [
        "#list\n",
        "l1=[15,25.6,\"Python\"]\n",
        "print(l1)"
      ],
      "metadata": {
        "colab": {
          "base_uri": "https://localhost:8080/"
        },
        "id": "gd3A42u9iGMX",
        "outputId": "97f23ec8-1668-4fcf-a52c-0ff58961ea91"
      },
      "execution_count": null,
      "outputs": [
        {
          "output_type": "stream",
          "name": "stdout",
          "text": [
            "[15, 25.6, 'Python']\n"
          ]
        }
      ]
    },
    {
      "cell_type": "code",
      "source": [
        "#Tuple\n",
        "t1=(21,\"Python\",21.45)\n",
        "print(t1)"
      ],
      "metadata": {
        "colab": {
          "base_uri": "https://localhost:8080/"
        },
        "id": "29e6uzAmiKjf",
        "outputId": "9efeb64e-8e10-4964-e468-bf2e51b1ff2f"
      },
      "execution_count": null,
      "outputs": [
        {
          "output_type": "stream",
          "name": "stdout",
          "text": [
            "(21, 'Python', 21.45)\n"
          ]
        }
      ]
    },
    {
      "cell_type": "code",
      "source": [
        "#dictionary\n",
        "d1={\"Aradhana\":21,\"Prarthana\": 22,\"Rugved\": 23}\n",
        "print(d1)"
      ],
      "metadata": {
        "colab": {
          "base_uri": "https://localhost:8080/"
        },
        "id": "lpQSCgWfiQI3",
        "outputId": "3fb2eee4-2564-4c02-c6da-7eded0af3d70"
      },
      "execution_count": null,
      "outputs": [
        {
          "output_type": "stream",
          "name": "stdout",
          "text": [
            "{'Aradhana': 21, 'Prarthana': 22, 'Rugved': 23}\n"
          ]
        }
      ]
    },
    {
      "cell_type": "code",
      "source": [
        "#Decision making Statement\n",
        "#if-else statement\n",
        "print(\"Enter a Number\")\n",
        "num = int(input())\n",
        "if num%2==0:\n",
        "  print(num,\" is even\")\n",
        "else:\n",
        "  print(num, \"is odd\")\n",
        "\n"
      ],
      "metadata": {
        "id": "qvnlbclIiz7o",
        "colab": {
          "base_uri": "https://localhost:8080/"
        },
        "outputId": "6c70618c-a7f2-45bf-b5ad-c28cf3c794f6"
      },
      "execution_count": null,
      "outputs": [
        {
          "output_type": "stream",
          "name": "stdout",
          "text": [
            "Enter a Number\n",
            "2\n",
            "2  is even\n"
          ]
        }
      ]
    },
    {
      "cell_type": "code",
      "source": [
        " # if statement\n",
        "n1 = int(input())\n",
        "n2 = int(input())\n",
        "n3 = int(input())\n",
        "if n1>n2 and n1>n3:\n",
        "  print(n1,\"is largest\")\n",
        "if n2>n1 and n2>n3:\n",
        "  print(n2, \"is largest\")\n",
        "if n3>n1 and n3>n2:\n",
        "  print(n3, \"is largest\")"
      ],
      "metadata": {
        "colab": {
          "base_uri": "https://localhost:8080/"
        },
        "id": "XLxhXXnsuX1E",
        "outputId": "33e7f2cf-5f26-4174-8692-93ae77e8e3b2"
      },
      "execution_count": null,
      "outputs": [
        {
          "output_type": "stream",
          "name": "stdout",
          "text": [
            "2\n",
            "3\n",
            "4\n",
            "4 is largest\n"
          ]
        }
      ]
    },
    {
      "cell_type": "code",
      "source": [
        "#nested if else\n",
        "n1 = int(input())\n",
        "n2 = int(input())\n",
        "n3 = int(input())\n",
        "if n1>n2:\n",
        "  if n1>n3:\n",
        "    print(n1,\"is largest\")\n",
        "if n2>n1:\n",
        "  if n2>n3:\n",
        "    print(n2,\"is largest\")\n",
        "if n3>n1:\n",
        "  if n3>n2:\n",
        "    print(n3,\"is largest\")"
      ],
      "metadata": {
        "colab": {
          "base_uri": "https://localhost:8080/"
        },
        "id": "a2rF7yVB0HLp",
        "outputId": "db6dce5b-73a2-4827-d5af-9b0d1e13eecb"
      },
      "execution_count": null,
      "outputs": [
        {
          "output_type": "stream",
          "name": "stdout",
          "text": [
            "3\n",
            "4\n",
            "7\n",
            "7 is largest\n"
          ]
        }
      ]
    },
    {
      "cell_type": "code",
      "source": [
        "#short hand if-else\n",
        "print(\"enter any number\")\n",
        "num = int(input())\n",
        "print(num,\"is even\") if num%2==0 else print(num,\"is odd\")"
      ],
      "metadata": {
        "colab": {
          "base_uri": "https://localhost:8080/"
        },
        "id": "YJiSVSgP1UXb",
        "outputId": "c7ceb63a-8426-488a-bca8-acaf8863b81a"
      },
      "execution_count": null,
      "outputs": [
        {
          "output_type": "stream",
          "name": "stdout",
          "text": [
            "enter any number\n",
            "7\n",
            "7 is odd\n"
          ]
        }
      ]
    },
    {
      "cell_type": "code",
      "source": [
        "#elif\n",
        "weather = input(\"what is the weather today?\")\n",
        "if weather == \"Sunny\":\n",
        "  print(\"It is great day to go for picnic!\")\n",
        "elif weather == \"Rainy\":\n",
        "  print(\"remember to bring an umbrella!\")\n",
        "elif weather == \"Cloudy\":\n",
        "  print(\"Don't forget to bring a jacket in case it rain\")\n",
        "else:\n",
        "  print(\"sorry! I don't understand that weather condition\")"
      ],
      "metadata": {
        "colab": {
          "base_uri": "https://localhost:8080/"
        },
        "id": "dUSPzU6o1Xms",
        "outputId": "634156fa-c6a7-4d81-e9f1-f21de73aac92"
      },
      "execution_count": null,
      "outputs": [
        {
          "output_type": "stream",
          "name": "stdout",
          "text": [
            "what is the weather today?Sunny\n",
            "It is great day to go for picnic!\n"
          ]
        }
      ]
    },
    {
      "cell_type": "code",
      "source": [
        "#loop manipulation\n",
        "i=1\n",
        "while i<10:\n",
        "  print(\"Welcome\")\n",
        "  i=i+1"
      ],
      "metadata": {
        "colab": {
          "base_uri": "https://localhost:8080/"
        },
        "id": "S3SMdcatuoN_",
        "outputId": "17db375b-5e79-4f02-8fb2-c6b7107a6146"
      },
      "execution_count": null,
      "outputs": [
        {
          "output_type": "stream",
          "name": "stdout",
          "text": [
            "Welcome\n",
            "Welcome\n",
            "Welcome\n",
            "Welcome\n",
            "Welcome\n",
            "Welcome\n",
            "Welcome\n",
            "Welcome\n",
            "Welcome\n"
          ]
        }
      ]
    },
    {
      "cell_type": "code",
      "source": [
        "print(\"Enter a value\")\n",
        "num =int(input())\n",
        "sum=0\n",
        "i=1\n",
        "while i<=num:\n",
        "  sum=sum+i\n",
        "  i=i+1\n",
        "  print(\"sum\",sum)"
      ],
      "metadata": {
        "colab": {
          "base_uri": "https://localhost:8080/"
        },
        "id": "tYzsuYmCuxK6",
        "outputId": "6722154e-a31b-4099-b2fb-53e8e792f998"
      },
      "execution_count": null,
      "outputs": [
        {
          "output_type": "stream",
          "name": "stdout",
          "text": [
            "Enter a value\n",
            "4\n",
            "sum 1\n",
            "sum 3\n",
            "sum 6\n",
            "sum 10\n"
          ]
        }
      ]
    },
    {
      "cell_type": "code",
      "source": [
        "#for loop\n",
        "l1=[\"C++\",\"java\",\"python\"]\n",
        "for i in l1:\n",
        "  print(\"loop refers to book\",i)"
      ],
      "metadata": {
        "colab": {
          "base_uri": "https://localhost:8080/"
        },
        "id": "RBguOlDt1NK4",
        "outputId": "23e2b3cd-15da-4436-c803-ada38627211c"
      },
      "execution_count": null,
      "outputs": [
        {
          "output_type": "stream",
          "name": "stdout",
          "text": [
            "loop refers to book C++\n",
            "loop refers to book java\n",
            "loop refers to book python\n"
          ]
        }
      ]
    },
    {
      "cell_type": "code",
      "source": [
        "#Function is defined by using keyword def\n",
        "#def followed by name of your choosing\n",
        "#followed by ()\n",
        "#followed by:\n",
        "#1\n",
        "def sayhello() :\n",
        "   print(\"Welcome to python\")\n",
        "sayhello()"
      ],
      "metadata": {
        "colab": {
          "base_uri": "https://localhost:8080/"
        },
        "id": "wWem6Z01WC3a",
        "outputId": "3be22c57-eb90-48c1-e0ce-33c1bfdaf69b"
      },
      "execution_count": null,
      "outputs": [
        {
          "output_type": "stream",
          "name": "stdout",
          "text": [
            "Welcome to python\n"
          ]
        }
      ]
    },
    {
      "cell_type": "code",
      "source": [
        "#2\n",
        "def even():\n",
        "  print(\"Enter a number\")\n",
        "  num = int(input())\n",
        "  if(num%2==0):\n",
        "    print(num,\"is even\")\n",
        "  else:\n",
        "    print(num,\"is odd\")\n",
        "even()"
      ],
      "metadata": {
        "colab": {
          "base_uri": "https://localhost:8080/"
        },
        "id": "PK4goLX8WY0d",
        "outputId": "006db38a-9ad1-44eb-e521-7df5966faea0"
      },
      "execution_count": null,
      "outputs": [
        {
          "output_type": "stream",
          "name": "stdout",
          "text": [
            "Enter a number\n",
            "2\n",
            "2 is even\n"
          ]
        }
      ]
    },
    {
      "cell_type": "code",
      "source": [
        "#3\n",
        "def Bill():\n",
        "  p1 = int(input()) #p:product\n",
        "  p2 = int(input())\n",
        "  p3 = int(input())\n",
        "  p4 = int(input())\n",
        "  sum = p1+p2+p3+p4\n",
        "  print(\"The Total price of all products = \",sum)\n",
        "Bill()"
      ],
      "metadata": {
        "colab": {
          "base_uri": "https://localhost:8080/"
        },
        "id": "wI4KgAISuaI8",
        "outputId": "23762392-9f39-4e7c-e735-1e773a9d543a"
      },
      "execution_count": null,
      "outputs": [
        {
          "output_type": "stream",
          "name": "stdout",
          "text": [
            "50\n",
            "30\n",
            "40\n",
            "20\n",
            "The Total price of all products =  140\n"
          ]
        }
      ]
    },
    {
      "cell_type": "code",
      "source": [
        "#4\n",
        "def sum():\n",
        "  a=5\n",
        "  b=7\n",
        "  sum=a+b\n",
        "  print(\"sum=\",sum)\n",
        "sum()"
      ],
      "metadata": {
        "id": "J4SQ-hyfckfu",
        "colab": {
          "base_uri": "https://localhost:8080/"
        },
        "outputId": "4ccaac77-570a-4d33-8ef4-9ac03cc19894"
      },
      "execution_count": null,
      "outputs": [
        {
          "output_type": "stream",
          "name": "stdout",
          "text": [
            "sum= 12\n"
          ]
        }
      ]
    },
    {
      "cell_type": "code",
      "source": [
        "#5\n",
        "def Loopoffruits():\n",
        "  fruits = [\"Apple\",\"Banana\",\"Cherry\"]\n",
        "  for i in fruits:\n",
        "    print(i,\"it is an fruit name\")\n",
        "Loopoffruits()"
      ],
      "metadata": {
        "colab": {
          "base_uri": "https://localhost:8080/"
        },
        "id": "Dx_KDAMOvxnZ",
        "outputId": "b03023f5-674d-42a8-8517-562c5733fc69"
      },
      "execution_count": null,
      "outputs": [
        {
          "output_type": "stream",
          "name": "stdout",
          "text": [
            "Apple it is an fruit name\n",
            "Banana it is an fruit name\n",
            "Cherry it is an fruit name\n"
          ]
        }
      ]
    },
    {
      "cell_type": "code",
      "source": [
        "#6\n",
        "def Marksheet():\n",
        "  print(\"Enter marks (0-300)\")\n",
        "  physics = int(input())\n",
        "  chemistry = int(input())\n",
        "  math = int(input())\n",
        "  Total_Marks = physics + chemistry + math\n",
        "  if (Total_Marks>=30 and Total_Marks<=300 ):\n",
        "    print(\"Pass\")\n",
        "  else:\n",
        "    print(\"fail\")"
      ],
      "metadata": {
        "id": "ntN3NpLW5ote"
      },
      "execution_count": null,
      "outputs": []
    },
    {
      "cell_type": "code",
      "source": [
        "#datatype and object related function\n",
        "#type() return the type of parameter\n",
        "a=10\n",
        "b=True\n",
        "c=16.55\n",
        "d=[10,20,30]\n",
        "print(type(a))\n",
        "print(type(b))\n",
        "print(type(d))\n"
      ],
      "metadata": {
        "colab": {
          "base_uri": "https://localhost:8080/"
        },
        "id": "kHZGNkHreLDT",
        "outputId": "188e5eb8-d11f-4c13-c341-aafef0648d00"
      },
      "execution_count": null,
      "outputs": [
        {
          "output_type": "stream",
          "name": "stdout",
          "text": [
            "<class 'int'>\n",
            "<class 'bool'>\n",
            "<class 'list'>\n"
          ]
        }
      ]
    },
    {
      "cell_type": "code",
      "source": [
        "#all() This function takes swquence (List,Tuple,String) as a parameter\n",
        "#returns true if all values in parameter are true\n",
        "l1=[\"\",\"\",\"\"]\n",
        "l2=[\"a\",\"\",\"\"]\n",
        "l3=[True,True]\n",
        "l4 = [True,False]\n",
        "l5 = [False,False]\n",
        "a=all(l1)\n",
        "b=all(l2)\n",
        "c=all(l3)\n",
        "d=all(l4)\n",
        "e=all(l5)\n",
        "print(a)\n",
        "print(b)\n",
        "print(c)\n",
        "print(d)\n",
        "print(e)"
      ],
      "metadata": {
        "colab": {
          "base_uri": "https://localhost:8080/"
        },
        "id": "lx16ezbIv-Io",
        "outputId": "7d4bfdf2-41a6-4456-9b8b-7523a9edff32"
      },
      "execution_count": null,
      "outputs": [
        {
          "output_type": "stream",
          "name": "stdout",
          "text": [
            "False\n",
            "False\n",
            "True\n",
            "False\n",
            "False\n"
          ]
        }
      ]
    },
    {
      "cell_type": "code",
      "source": [
        "a=[\"\",\"a\",\"\"]\n",
        "b=[\"a\",\"a\",\"\"]\n",
        "c=[True,False]\n",
        "d=[False,False]\n",
        "e=[True,True]\n",
        "l1=any(a)\n",
        "l2=any(b)\n",
        "l3=any(c)\n",
        "l4=any(d)\n",
        "l5=any(e)\n",
        "print(l1)\n",
        "print(l2)\n",
        "print(l3)\n",
        "print(l4)\n",
        "print(l5)"
      ],
      "metadata": {
        "colab": {
          "base_uri": "https://localhost:8080/"
        },
        "id": "y8eGZEDayj9p",
        "outputId": "bef15da4-91ff-4a43-c93c-61c06caa3028"
      },
      "execution_count": null,
      "outputs": [
        {
          "output_type": "stream",
          "name": "stdout",
          "text": [
            "True\n",
            "True\n",
            "True\n",
            "False\n",
            "True\n"
          ]
        }
      ]
    },
    {
      "cell_type": "code",
      "source": [
        "#insert\n",
        "l1=[\"Python\",\"Java\",\"Essentials of data science\"]\n",
        "print(l1)\n",
        "l1.insert(2,\"Hadoop\")\n",
        "print(l1)"
      ],
      "metadata": {
        "colab": {
          "base_uri": "https://localhost:8080/"
        },
        "id": "p9GBYGXZah6a",
        "outputId": "a8b196e0-37a4-4e2c-9a51-81d47370067e"
      },
      "execution_count": null,
      "outputs": [
        {
          "output_type": "stream",
          "name": "stdout",
          "text": [
            "['Python', 'Java', 'Essentials of data science']\n",
            "['Python', 'Java', 'Hadoop', 'Essentials of data science']\n"
          ]
        }
      ]
    },
    {
      "cell_type": "code",
      "source": [
        "# basic list operations append(), insert(), extend() functions\n",
        "# append() : appends and adds the specified element to list adds the spe\n",
        "l1=[10,20,\"Python\",94.2,314]\n",
        "l1.append(21)\n",
        "print(l1)"
      ],
      "metadata": {
        "colab": {
          "base_uri": "https://localhost:8080/"
        },
        "id": "tO8RJkRrbhTZ",
        "outputId": "5a647022-5625-49f7-d40a-a2583726e84a"
      },
      "execution_count": null,
      "outputs": [
        {
          "output_type": "stream",
          "name": "stdout",
          "text": [
            "[10, 20, 'Python', 94.2, 314, 21]\n"
          ]
        }
      ]
    },
    {
      "cell_type": "code",
      "source": [
        "#extend() This function adds the elements of parameter list with invoking list\n",
        "# list1.extends (list2)\n",
        "l1=[10,20,30]\n",
        "l2=[15,35,45,55]\n",
        "l1.extend(l2)\n",
        "print(l1)"
      ],
      "metadata": {
        "colab": {
          "base_uri": "https://localhost:8080/"
        },
        "id": "dHVe1zVacM2C",
        "outputId": "cb9da0f5-2ff5-47d8-ead0-76cf31a10a6f"
      },
      "execution_count": null,
      "outputs": [
        {
          "output_type": "stream",
          "name": "stdout",
          "text": [
            "[10, 20, 30, 15, 35, 45, 55]\n"
          ]
        }
      ]
    },
    {
      "cell_type": "code",
      "source": [
        "l1= [485,21.344, \"Python\", 25678]\n",
        "a = l1.__len__()      #Function returns the length of list\n",
        "print(a)"
      ],
      "metadata": {
        "colab": {
          "base_uri": "https://localhost:8080/"
        },
        "id": "dMqxmFk-wTsv",
        "outputId": "c378046c-c8e1-4bd8-d0b0-7884adfc6ad3"
      },
      "execution_count": null,
      "outputs": [
        {
          "output_type": "stream",
          "name": "stdout",
          "text": [
            "4\n"
          ]
        }
      ]
    },
    {
      "cell_type": "code",
      "source": [
        "#Statistics,in general, is method of collection of data ,tabulation, and interpretation\n",
        "import statistics\n",
        "l1=[1,2,3,3,2,2,2,1]\n",
        "print(statistics.mean(l1))"
      ],
      "metadata": {
        "colab": {
          "base_uri": "https://localhost:8080/"
        },
        "id": "kYcZqUKHdzEI",
        "outputId": "c9e47b65-6293-4ae7-c96c-26a7a0b17ae1"
      },
      "execution_count": null,
      "outputs": [
        {
          "output_type": "stream",
          "name": "stdout",
          "text": [
            "2\n"
          ]
        }
      ]
    },
    {
      "cell_type": "code",
      "source": [
        "#It is the middle value of the data set. It splits the data into two halves.\n",
        "import statistics\n",
        "t1= (21,23,45,67)\n",
        "print(statistics.median(t1))"
      ],
      "metadata": {
        "colab": {
          "base_uri": "https://localhost:8080/"
        },
        "id": "9hqYS1bvwSmM",
        "outputId": "21b914db-253f-4a6e-cc87-6a602ace05c5"
      },
      "execution_count": null,
      "outputs": [
        {
          "output_type": "stream",
          "name": "stdout",
          "text": [
            "34.0\n"
          ]
        }
      ]
    },
    {
      "cell_type": "code",
      "source": [
        "#The median_low() function returns the median of data in case of odd number of elements,\n",
        "#but in case of even number of elements, returns the lower of two middle elements.\n",
        "#The statistics.median_low() method calculates the low median of the given data set.\n",
        "#This method also sorts the data in ascending order before calculating the low median.\n",
        "import statistics\n",
        "set1 = [1,2,3,4,5]\n",
        "print(\"low median of the set is\",(statistics.median_low(set1)))"
      ],
      "metadata": {
        "colab": {
          "base_uri": "https://localhost:8080/"
        },
        "id": "8JHScjRAoYYk",
        "outputId": "60858681-9bf6-42c7-9e18-318ee0a8113a"
      },
      "execution_count": null,
      "outputs": [
        {
          "output_type": "stream",
          "name": "stdout",
          "text": [
            "low median of the set is 3\n"
          ]
        }
      ]
    },
    {
      "cell_type": "code",
      "source": [
        "#median_high()\n",
        "#function returns the median of data in case of odd number of elements,\n",
        "#but in case of even number of elements, returns the higher of two middle elements.\n",
        "#median_high() method calculates the high median of the given data set.\n",
        "#This method also sorts the data in ascending order before calculating the high median.\n",
        "import statistics\n",
        "set1 = [1,3,3,4,5]\n",
        "print(\"High median of the set is\",(statistics.median_high(set1)))"
      ],
      "metadata": {
        "colab": {
          "base_uri": "https://localhost:8080/"
        },
        "id": "Xamy_VKWzXjD",
        "outputId": "96d03a38-248d-4970-e34a-a7b59a9c65a9"
      },
      "execution_count": null,
      "outputs": [
        {
          "output_type": "stream",
          "name": "stdout",
          "text": [
            "High median of the set is 3\n"
          ]
        }
      ]
    },
    {
      "cell_type": "code",
      "source": [
        "#Mode\n",
        "#It is the value that has the highest frequency in the given data set.\n",
        "#The data set may have no mode if the frequency of all data points is the same.\n",
        "from statistics import mode\n",
        "from statistics import mode\n",
        "t1 = (6,6,6,5,5,4,4,3,3,2,3,2,1,3)\n",
        "print(\"mode of data set is\",(mode(t1)))"
      ],
      "metadata": {
        "colab": {
          "base_uri": "https://localhost:8080/"
        },
        "id": "yqIRWwv6zjSL",
        "outputId": "a988910b-64b1-478d-ff32-0508ff89fff2"
      },
      "execution_count": null,
      "outputs": [
        {
          "output_type": "stream",
          "name": "stdout",
          "text": [
            "mode of data set is 3\n"
          ]
        }
      ]
    },
    {
      "cell_type": "code",
      "source": [
        "#Range = largest data value-smallest data Value\n",
        "arr = [1,2,3,4,5]\n",
        "maximum = max(arr)\n",
        "minimum = min(arr)\n",
        "range = maximum-minimum\n",
        "print(\"maximum={}, minimum={}, and range={}\".format(maximum,minimum,range))"
      ],
      "metadata": {
        "colab": {
          "base_uri": "https://localhost:8080/"
        },
        "id": "9fj_X148zlX7",
        "outputId": "1caae472-efa2-47d2-cd28-ad736d443c6f"
      },
      "execution_count": null,
      "outputs": [
        {
          "output_type": "stream",
          "name": "stdout",
          "text": [
            "maximum=5, minimum=1, and range=4\n"
          ]
        }
      ]
    },
    {
      "cell_type": "code",
      "source": [
        "#It is defined as an average squared deviation from the mean.\n",
        "from statistics import variance\n",
        "t1=(1, 2, 5, 4, 8, 9, 12)\n",
        "print(\"Variance of Sample1 is % s\",(variance(t1)))\n"
      ],
      "metadata": {
        "colab": {
          "base_uri": "https://localhost:8080/"
        },
        "id": "HZ3wb-QQGEVR",
        "outputId": "b52f87de-068b-471e-ade3-19c7b76da385"
      },
      "execution_count": null,
      "outputs": [
        {
          "output_type": "stream",
          "name": "stdout",
          "text": [
            "Variance of Sample1 is % s 15.80952380952381\n"
          ]
        }
      ]
    },
    {
      "cell_type": "code",
      "source": [
        "#standard deviation\n",
        "#It is defined as the square root of the variance.\n",
        "#It is calculated by finding the Mean, then subtracting each number from the Mean which is\n",
        "from statistics import stdev\n",
        "from statistics import stdev\n",
        "s1=(1,2,3,5,7,8,12)\n",
        "print(\"the standard deviation of sampel is s\",(stdev(s1)))"
      ],
      "metadata": {
        "colab": {
          "base_uri": "https://localhost:8080/"
        },
        "id": "7_iYp7NzwvcJ",
        "outputId": "87c3e3fa-7bb9-4b66-a636-46b829c474c1"
      },
      "execution_count": null,
      "outputs": [
        {
          "output_type": "stream",
          "name": "stdout",
          "text": [
            "the standard deviation of sampel is s 3.866830866792722\n"
          ]
        }
      ]
    },
    {
      "cell_type": "code",
      "source": [
        "import pandas as pd\n",
        "df= pd.read_excel('/content/drive/MyDrive/abhishek sengar 114(A1).xlsx')\n",
        "#df.set_index(\"date,inplace=True\")\n",
        "display(df)\n",
        "df1= pd.read_excel(r'/content/drive/MyDrive/salary.xlsx')\n"
      ],
      "metadata": {
        "id": "VvaG8N7GSpyJ"
      },
      "execution_count": null,
      "outputs": []
    },
    {
      "cell_type": "code",
      "source": [
        "import pandas as pd\n",
        "df=pd.read_excel('/content/drive/MyDrive/EMPLOYEE.xlsx')\n",
        "#df.set_index(\"date\",inplace=True)\n",
        "display(df)\n",
        "df1= pd.read_excel(r'/content/drive/MyDrive/Salary.xlsx')\n",
        "print(df1)"
      ],
      "metadata": {
        "colab": {
          "base_uri": "https://localhost:8080/",
          "height": 585
        },
        "id": "EDq1OX8rlCw-",
        "outputId": "d383eb68-dfef-4b28-8be2-6814f2b4fac0"
      },
      "execution_count": null,
      "outputs": [
        {
          "output_type": "display_data",
          "data": {
            "text/plain": [
              "   Unnamed: 0 Unnamed: 1 Unnamed: 2           Unnamed: 3 Unnamed: 4\n",
              "0      Sr no.   Emp Name     Emp id                 Date     Leaves\n",
              "1           1    Ganesh        1001  2023-01-21 00:00:00          2\n",
              "2           2  Abhishek        1002  2023-01-22 00:00:00          4\n",
              "3           3      Veera       1003  2023-01-23 00:00:00          8\n",
              "4           4  Sanskruti       1004  2023-01-24 00:00:00          6\n",
              "5           5    Archana       1005  2023-01-25 00:00:00          1\n",
              "6           6     Aditya       1006  2023-01-26 00:00:00          2\n",
              "7           7    samarth       1007  2023-01-27 00:00:00          3\n",
              "8           8     Sayali       1008  2023-01-28 00:00:00          5\n",
              "9           9     Smruti       1009  2023-01-29 00:00:00          9\n",
              "10         10      Vipul       1010  2023-01-30 00:00:00          7"
            ],
            "text/html": [
              "\n",
              "  <div id=\"df-748f9d6b-3600-466d-a20d-08cae5718ac7\">\n",
              "    <div class=\"colab-df-container\">\n",
              "      <div>\n",
              "<style scoped>\n",
              "    .dataframe tbody tr th:only-of-type {\n",
              "        vertical-align: middle;\n",
              "    }\n",
              "\n",
              "    .dataframe tbody tr th {\n",
              "        vertical-align: top;\n",
              "    }\n",
              "\n",
              "    .dataframe thead th {\n",
              "        text-align: right;\n",
              "    }\n",
              "</style>\n",
              "<table border=\"1\" class=\"dataframe\">\n",
              "  <thead>\n",
              "    <tr style=\"text-align: right;\">\n",
              "      <th></th>\n",
              "      <th>Unnamed: 0</th>\n",
              "      <th>Unnamed: 1</th>\n",
              "      <th>Unnamed: 2</th>\n",
              "      <th>Unnamed: 3</th>\n",
              "      <th>Unnamed: 4</th>\n",
              "    </tr>\n",
              "  </thead>\n",
              "  <tbody>\n",
              "    <tr>\n",
              "      <th>0</th>\n",
              "      <td>Sr no.</td>\n",
              "      <td>Emp Name</td>\n",
              "      <td>Emp id</td>\n",
              "      <td>Date</td>\n",
              "      <td>Leaves</td>\n",
              "    </tr>\n",
              "    <tr>\n",
              "      <th>1</th>\n",
              "      <td>1</td>\n",
              "      <td>Ganesh</td>\n",
              "      <td>1001</td>\n",
              "      <td>2023-01-21 00:00:00</td>\n",
              "      <td>2</td>\n",
              "    </tr>\n",
              "    <tr>\n",
              "      <th>2</th>\n",
              "      <td>2</td>\n",
              "      <td>Abhishek</td>\n",
              "      <td>1002</td>\n",
              "      <td>2023-01-22 00:00:00</td>\n",
              "      <td>4</td>\n",
              "    </tr>\n",
              "    <tr>\n",
              "      <th>3</th>\n",
              "      <td>3</td>\n",
              "      <td>Veera</td>\n",
              "      <td>1003</td>\n",
              "      <td>2023-01-23 00:00:00</td>\n",
              "      <td>8</td>\n",
              "    </tr>\n",
              "    <tr>\n",
              "      <th>4</th>\n",
              "      <td>4</td>\n",
              "      <td>Sanskruti</td>\n",
              "      <td>1004</td>\n",
              "      <td>2023-01-24 00:00:00</td>\n",
              "      <td>6</td>\n",
              "    </tr>\n",
              "    <tr>\n",
              "      <th>5</th>\n",
              "      <td>5</td>\n",
              "      <td>Archana</td>\n",
              "      <td>1005</td>\n",
              "      <td>2023-01-25 00:00:00</td>\n",
              "      <td>1</td>\n",
              "    </tr>\n",
              "    <tr>\n",
              "      <th>6</th>\n",
              "      <td>6</td>\n",
              "      <td>Aditya</td>\n",
              "      <td>1006</td>\n",
              "      <td>2023-01-26 00:00:00</td>\n",
              "      <td>2</td>\n",
              "    </tr>\n",
              "    <tr>\n",
              "      <th>7</th>\n",
              "      <td>7</td>\n",
              "      <td>samarth</td>\n",
              "      <td>1007</td>\n",
              "      <td>2023-01-27 00:00:00</td>\n",
              "      <td>3</td>\n",
              "    </tr>\n",
              "    <tr>\n",
              "      <th>8</th>\n",
              "      <td>8</td>\n",
              "      <td>Sayali</td>\n",
              "      <td>1008</td>\n",
              "      <td>2023-01-28 00:00:00</td>\n",
              "      <td>5</td>\n",
              "    </tr>\n",
              "    <tr>\n",
              "      <th>9</th>\n",
              "      <td>9</td>\n",
              "      <td>Smruti</td>\n",
              "      <td>1009</td>\n",
              "      <td>2023-01-29 00:00:00</td>\n",
              "      <td>9</td>\n",
              "    </tr>\n",
              "    <tr>\n",
              "      <th>10</th>\n",
              "      <td>10</td>\n",
              "      <td>Vipul</td>\n",
              "      <td>1010</td>\n",
              "      <td>2023-01-30 00:00:00</td>\n",
              "      <td>7</td>\n",
              "    </tr>\n",
              "  </tbody>\n",
              "</table>\n",
              "</div>\n",
              "      <button class=\"colab-df-convert\" onclick=\"convertToInteractive('df-748f9d6b-3600-466d-a20d-08cae5718ac7')\"\n",
              "              title=\"Convert this dataframe to an interactive table.\"\n",
              "              style=\"display:none;\">\n",
              "        \n",
              "  <svg xmlns=\"http://www.w3.org/2000/svg\" height=\"24px\"viewBox=\"0 0 24 24\"\n",
              "       width=\"24px\">\n",
              "    <path d=\"M0 0h24v24H0V0z\" fill=\"none\"/>\n",
              "    <path d=\"M18.56 5.44l.94 2.06.94-2.06 2.06-.94-2.06-.94-.94-2.06-.94 2.06-2.06.94zm-11 1L8.5 8.5l.94-2.06 2.06-.94-2.06-.94L8.5 2.5l-.94 2.06-2.06.94zm10 10l.94 2.06.94-2.06 2.06-.94-2.06-.94-.94-2.06-.94 2.06-2.06.94z\"/><path d=\"M17.41 7.96l-1.37-1.37c-.4-.4-.92-.59-1.43-.59-.52 0-1.04.2-1.43.59L10.3 9.45l-7.72 7.72c-.78.78-.78 2.05 0 2.83L4 21.41c.39.39.9.59 1.41.59.51 0 1.02-.2 1.41-.59l7.78-7.78 2.81-2.81c.8-.78.8-2.07 0-2.86zM5.41 20L4 18.59l7.72-7.72 1.47 1.35L5.41 20z\"/>\n",
              "  </svg>\n",
              "      </button>\n",
              "      \n",
              "  <style>\n",
              "    .colab-df-container {\n",
              "      display:flex;\n",
              "      flex-wrap:wrap;\n",
              "      gap: 12px;\n",
              "    }\n",
              "\n",
              "    .colab-df-convert {\n",
              "      background-color: #E8F0FE;\n",
              "      border: none;\n",
              "      border-radius: 50%;\n",
              "      cursor: pointer;\n",
              "      display: none;\n",
              "      fill: #1967D2;\n",
              "      height: 32px;\n",
              "      padding: 0 0 0 0;\n",
              "      width: 32px;\n",
              "    }\n",
              "\n",
              "    .colab-df-convert:hover {\n",
              "      background-color: #E2EBFA;\n",
              "      box-shadow: 0px 1px 2px rgba(60, 64, 67, 0.3), 0px 1px 3px 1px rgba(60, 64, 67, 0.15);\n",
              "      fill: #174EA6;\n",
              "    }\n",
              "\n",
              "    [theme=dark] .colab-df-convert {\n",
              "      background-color: #3B4455;\n",
              "      fill: #D2E3FC;\n",
              "    }\n",
              "\n",
              "    [theme=dark] .colab-df-convert:hover {\n",
              "      background-color: #434B5C;\n",
              "      box-shadow: 0px 1px 3px 1px rgba(0, 0, 0, 0.15);\n",
              "      filter: drop-shadow(0px 1px 2px rgba(0, 0, 0, 0.3));\n",
              "      fill: #FFFFFF;\n",
              "    }\n",
              "  </style>\n",
              "\n",
              "      <script>\n",
              "        const buttonEl =\n",
              "          document.querySelector('#df-748f9d6b-3600-466d-a20d-08cae5718ac7 button.colab-df-convert');\n",
              "        buttonEl.style.display =\n",
              "          google.colab.kernel.accessAllowed ? 'block' : 'none';\n",
              "\n",
              "        async function convertToInteractive(key) {\n",
              "          const element = document.querySelector('#df-748f9d6b-3600-466d-a20d-08cae5718ac7');\n",
              "          const dataTable =\n",
              "            await google.colab.kernel.invokeFunction('convertToInteractive',\n",
              "                                                     [key], {});\n",
              "          if (!dataTable) return;\n",
              "\n",
              "          const docLinkHtml = 'Like what you see? Visit the ' +\n",
              "            '<a target=\"_blank\" href=https://colab.research.google.com/notebooks/data_table.ipynb>data table notebook</a>'\n",
              "            + ' to learn more about interactive tables.';\n",
              "          element.innerHTML = '';\n",
              "          dataTable['output_type'] = 'display_data';\n",
              "          await google.colab.output.renderOutput(dataTable, element);\n",
              "          const docLink = document.createElement('div');\n",
              "          docLink.innerHTML = docLinkHtml;\n",
              "          element.appendChild(docLink);\n",
              "        }\n",
              "      </script>\n",
              "    </div>\n",
              "  </div>\n",
              "  "
            ]
          },
          "metadata": {}
        },
        {
          "output_type": "stream",
          "name": "stdout",
          "text": [
            "    Emp Name  Emp id  Salary\n",
            "0    Ganesh     1001   25000\n",
            "1   abhishek    1002   40000\n",
            "2      Veera    1003   80000\n",
            "3  Sanskruti    1004   60000\n",
            "4     aditya    1005   50000\n",
            "5    samarth    1006   30000\n",
            "6    Pratham    1007   15000\n",
            "7     Sayali    1008   55000\n",
            "8     Smruti    1009   80000\n",
            "9      vipul    1010  100000\n"
          ]
        }
      ]
    },
    {
      "cell_type": "code",
      "source": [
        "#sort the record in ascending order\n",
        "import pandas as pa\n",
        "df1.sort_values(by=['Salary'])"
      ],
      "metadata": {
        "colab": {
          "base_uri": "https://localhost:8080/",
          "height": 363
        },
        "id": "3MB-KOtOlwgN",
        "outputId": "8dabd6bd-b31c-460f-8e77-76866236fd49"
      },
      "execution_count": null,
      "outputs": [
        {
          "output_type": "execute_result",
          "data": {
            "text/plain": [
              "    Emp Name  Emp id  Salary\n",
              "6    Pratham    1007   15000\n",
              "0    Ganesh     1001   25000\n",
              "5    samarth    1006   30000\n",
              "1   abhishek    1002   40000\n",
              "4     aditya    1005   50000\n",
              "7     Sayali    1008   55000\n",
              "3  Sanskruti    1004   60000\n",
              "2      Veera    1003   80000\n",
              "8     Smruti    1009   80000\n",
              "9      vipul    1010  100000"
            ],
            "text/html": [
              "\n",
              "  <div id=\"df-83e42c06-3281-49f1-b30b-6540ea225840\">\n",
              "    <div class=\"colab-df-container\">\n",
              "      <div>\n",
              "<style scoped>\n",
              "    .dataframe tbody tr th:only-of-type {\n",
              "        vertical-align: middle;\n",
              "    }\n",
              "\n",
              "    .dataframe tbody tr th {\n",
              "        vertical-align: top;\n",
              "    }\n",
              "\n",
              "    .dataframe thead th {\n",
              "        text-align: right;\n",
              "    }\n",
              "</style>\n",
              "<table border=\"1\" class=\"dataframe\">\n",
              "  <thead>\n",
              "    <tr style=\"text-align: right;\">\n",
              "      <th></th>\n",
              "      <th>Emp Name</th>\n",
              "      <th>Emp id</th>\n",
              "      <th>Salary</th>\n",
              "    </tr>\n",
              "  </thead>\n",
              "  <tbody>\n",
              "    <tr>\n",
              "      <th>6</th>\n",
              "      <td>Pratham</td>\n",
              "      <td>1007</td>\n",
              "      <td>15000</td>\n",
              "    </tr>\n",
              "    <tr>\n",
              "      <th>0</th>\n",
              "      <td>Ganesh</td>\n",
              "      <td>1001</td>\n",
              "      <td>25000</td>\n",
              "    </tr>\n",
              "    <tr>\n",
              "      <th>5</th>\n",
              "      <td>samarth</td>\n",
              "      <td>1006</td>\n",
              "      <td>30000</td>\n",
              "    </tr>\n",
              "    <tr>\n",
              "      <th>1</th>\n",
              "      <td>abhishek</td>\n",
              "      <td>1002</td>\n",
              "      <td>40000</td>\n",
              "    </tr>\n",
              "    <tr>\n",
              "      <th>4</th>\n",
              "      <td>aditya</td>\n",
              "      <td>1005</td>\n",
              "      <td>50000</td>\n",
              "    </tr>\n",
              "    <tr>\n",
              "      <th>7</th>\n",
              "      <td>Sayali</td>\n",
              "      <td>1008</td>\n",
              "      <td>55000</td>\n",
              "    </tr>\n",
              "    <tr>\n",
              "      <th>3</th>\n",
              "      <td>Sanskruti</td>\n",
              "      <td>1004</td>\n",
              "      <td>60000</td>\n",
              "    </tr>\n",
              "    <tr>\n",
              "      <th>2</th>\n",
              "      <td>Veera</td>\n",
              "      <td>1003</td>\n",
              "      <td>80000</td>\n",
              "    </tr>\n",
              "    <tr>\n",
              "      <th>8</th>\n",
              "      <td>Smruti</td>\n",
              "      <td>1009</td>\n",
              "      <td>80000</td>\n",
              "    </tr>\n",
              "    <tr>\n",
              "      <th>9</th>\n",
              "      <td>vipul</td>\n",
              "      <td>1010</td>\n",
              "      <td>100000</td>\n",
              "    </tr>\n",
              "  </tbody>\n",
              "</table>\n",
              "</div>\n",
              "      <button class=\"colab-df-convert\" onclick=\"convertToInteractive('df-83e42c06-3281-49f1-b30b-6540ea225840')\"\n",
              "              title=\"Convert this dataframe to an interactive table.\"\n",
              "              style=\"display:none;\">\n",
              "        \n",
              "  <svg xmlns=\"http://www.w3.org/2000/svg\" height=\"24px\"viewBox=\"0 0 24 24\"\n",
              "       width=\"24px\">\n",
              "    <path d=\"M0 0h24v24H0V0z\" fill=\"none\"/>\n",
              "    <path d=\"M18.56 5.44l.94 2.06.94-2.06 2.06-.94-2.06-.94-.94-2.06-.94 2.06-2.06.94zm-11 1L8.5 8.5l.94-2.06 2.06-.94-2.06-.94L8.5 2.5l-.94 2.06-2.06.94zm10 10l.94 2.06.94-2.06 2.06-.94-2.06-.94-.94-2.06-.94 2.06-2.06.94z\"/><path d=\"M17.41 7.96l-1.37-1.37c-.4-.4-.92-.59-1.43-.59-.52 0-1.04.2-1.43.59L10.3 9.45l-7.72 7.72c-.78.78-.78 2.05 0 2.83L4 21.41c.39.39.9.59 1.41.59.51 0 1.02-.2 1.41-.59l7.78-7.78 2.81-2.81c.8-.78.8-2.07 0-2.86zM5.41 20L4 18.59l7.72-7.72 1.47 1.35L5.41 20z\"/>\n",
              "  </svg>\n",
              "      </button>\n",
              "      \n",
              "  <style>\n",
              "    .colab-df-container {\n",
              "      display:flex;\n",
              "      flex-wrap:wrap;\n",
              "      gap: 12px;\n",
              "    }\n",
              "\n",
              "    .colab-df-convert {\n",
              "      background-color: #E8F0FE;\n",
              "      border: none;\n",
              "      border-radius: 50%;\n",
              "      cursor: pointer;\n",
              "      display: none;\n",
              "      fill: #1967D2;\n",
              "      height: 32px;\n",
              "      padding: 0 0 0 0;\n",
              "      width: 32px;\n",
              "    }\n",
              "\n",
              "    .colab-df-convert:hover {\n",
              "      background-color: #E2EBFA;\n",
              "      box-shadow: 0px 1px 2px rgba(60, 64, 67, 0.3), 0px 1px 3px 1px rgba(60, 64, 67, 0.15);\n",
              "      fill: #174EA6;\n",
              "    }\n",
              "\n",
              "    [theme=dark] .colab-df-convert {\n",
              "      background-color: #3B4455;\n",
              "      fill: #D2E3FC;\n",
              "    }\n",
              "\n",
              "    [theme=dark] .colab-df-convert:hover {\n",
              "      background-color: #434B5C;\n",
              "      box-shadow: 0px 1px 3px 1px rgba(0, 0, 0, 0.15);\n",
              "      filter: drop-shadow(0px 1px 2px rgba(0, 0, 0, 0.3));\n",
              "      fill: #FFFFFF;\n",
              "    }\n",
              "  </style>\n",
              "\n",
              "      <script>\n",
              "        const buttonEl =\n",
              "          document.querySelector('#df-83e42c06-3281-49f1-b30b-6540ea225840 button.colab-df-convert');\n",
              "        buttonEl.style.display =\n",
              "          google.colab.kernel.accessAllowed ? 'block' : 'none';\n",
              "\n",
              "        async function convertToInteractive(key) {\n",
              "          const element = document.querySelector('#df-83e42c06-3281-49f1-b30b-6540ea225840');\n",
              "          const dataTable =\n",
              "            await google.colab.kernel.invokeFunction('convertToInteractive',\n",
              "                                                     [key], {});\n",
              "          if (!dataTable) return;\n",
              "\n",
              "          const docLinkHtml = 'Like what you see? Visit the ' +\n",
              "            '<a target=\"_blank\" href=https://colab.research.google.com/notebooks/data_table.ipynb>data table notebook</a>'\n",
              "            + ' to learn more about interactive tables.';\n",
              "          element.innerHTML = '';\n",
              "          dataTable['output_type'] = 'display_data';\n",
              "          await google.colab.output.renderOutput(dataTable, element);\n",
              "          const docLink = document.createElement('div');\n",
              "          docLink.innerHTML = docLinkHtml;\n",
              "          element.appendChild(docLink);\n",
              "        }\n",
              "      </script>\n",
              "    </div>\n",
              "  </div>\n",
              "  "
            ]
          },
          "metadata": {},
          "execution_count": 2
        }
      ]
    },
    {
      "cell_type": "code",
      "source": [
        "#Sort the record in decending order\n",
        "df1.sort_values(by=['Salary'], ascending=False)"
      ],
      "metadata": {
        "colab": {
          "base_uri": "https://localhost:8080/",
          "height": 363
        },
        "id": "daJgHTodmBxu",
        "outputId": "a3a0f255-0ace-47c8-83c9-b4a5f20baf15"
      },
      "execution_count": null,
      "outputs": [
        {
          "output_type": "execute_result",
          "data": {
            "text/plain": [
              "    Emp Name  Emp id  Salary\n",
              "9      vipul    1010  100000\n",
              "2      Veera    1003   80000\n",
              "8     Smruti    1009   80000\n",
              "3  Sanskruti    1004   60000\n",
              "7     Sayali    1008   55000\n",
              "4     aditya    1005   50000\n",
              "1   abhishek    1002   40000\n",
              "5    samarth    1006   30000\n",
              "0    Ganesh     1001   25000\n",
              "6    Pratham    1007   15000"
            ],
            "text/html": [
              "\n",
              "  <div id=\"df-f3f6c36c-d754-4f83-be22-9238a9c35eee\">\n",
              "    <div class=\"colab-df-container\">\n",
              "      <div>\n",
              "<style scoped>\n",
              "    .dataframe tbody tr th:only-of-type {\n",
              "        vertical-align: middle;\n",
              "    }\n",
              "\n",
              "    .dataframe tbody tr th {\n",
              "        vertical-align: top;\n",
              "    }\n",
              "\n",
              "    .dataframe thead th {\n",
              "        text-align: right;\n",
              "    }\n",
              "</style>\n",
              "<table border=\"1\" class=\"dataframe\">\n",
              "  <thead>\n",
              "    <tr style=\"text-align: right;\">\n",
              "      <th></th>\n",
              "      <th>Emp Name</th>\n",
              "      <th>Emp id</th>\n",
              "      <th>Salary</th>\n",
              "    </tr>\n",
              "  </thead>\n",
              "  <tbody>\n",
              "    <tr>\n",
              "      <th>9</th>\n",
              "      <td>vipul</td>\n",
              "      <td>1010</td>\n",
              "      <td>100000</td>\n",
              "    </tr>\n",
              "    <tr>\n",
              "      <th>2</th>\n",
              "      <td>Veera</td>\n",
              "      <td>1003</td>\n",
              "      <td>80000</td>\n",
              "    </tr>\n",
              "    <tr>\n",
              "      <th>8</th>\n",
              "      <td>Smruti</td>\n",
              "      <td>1009</td>\n",
              "      <td>80000</td>\n",
              "    </tr>\n",
              "    <tr>\n",
              "      <th>3</th>\n",
              "      <td>Sanskruti</td>\n",
              "      <td>1004</td>\n",
              "      <td>60000</td>\n",
              "    </tr>\n",
              "    <tr>\n",
              "      <th>7</th>\n",
              "      <td>Sayali</td>\n",
              "      <td>1008</td>\n",
              "      <td>55000</td>\n",
              "    </tr>\n",
              "    <tr>\n",
              "      <th>4</th>\n",
              "      <td>aditya</td>\n",
              "      <td>1005</td>\n",
              "      <td>50000</td>\n",
              "    </tr>\n",
              "    <tr>\n",
              "      <th>1</th>\n",
              "      <td>abhishek</td>\n",
              "      <td>1002</td>\n",
              "      <td>40000</td>\n",
              "    </tr>\n",
              "    <tr>\n",
              "      <th>5</th>\n",
              "      <td>samarth</td>\n",
              "      <td>1006</td>\n",
              "      <td>30000</td>\n",
              "    </tr>\n",
              "    <tr>\n",
              "      <th>0</th>\n",
              "      <td>Ganesh</td>\n",
              "      <td>1001</td>\n",
              "      <td>25000</td>\n",
              "    </tr>\n",
              "    <tr>\n",
              "      <th>6</th>\n",
              "      <td>Pratham</td>\n",
              "      <td>1007</td>\n",
              "      <td>15000</td>\n",
              "    </tr>\n",
              "  </tbody>\n",
              "</table>\n",
              "</div>\n",
              "      <button class=\"colab-df-convert\" onclick=\"convertToInteractive('df-f3f6c36c-d754-4f83-be22-9238a9c35eee')\"\n",
              "              title=\"Convert this dataframe to an interactive table.\"\n",
              "              style=\"display:none;\">\n",
              "        \n",
              "  <svg xmlns=\"http://www.w3.org/2000/svg\" height=\"24px\"viewBox=\"0 0 24 24\"\n",
              "       width=\"24px\">\n",
              "    <path d=\"M0 0h24v24H0V0z\" fill=\"none\"/>\n",
              "    <path d=\"M18.56 5.44l.94 2.06.94-2.06 2.06-.94-2.06-.94-.94-2.06-.94 2.06-2.06.94zm-11 1L8.5 8.5l.94-2.06 2.06-.94-2.06-.94L8.5 2.5l-.94 2.06-2.06.94zm10 10l.94 2.06.94-2.06 2.06-.94-2.06-.94-.94-2.06-.94 2.06-2.06.94z\"/><path d=\"M17.41 7.96l-1.37-1.37c-.4-.4-.92-.59-1.43-.59-.52 0-1.04.2-1.43.59L10.3 9.45l-7.72 7.72c-.78.78-.78 2.05 0 2.83L4 21.41c.39.39.9.59 1.41.59.51 0 1.02-.2 1.41-.59l7.78-7.78 2.81-2.81c.8-.78.8-2.07 0-2.86zM5.41 20L4 18.59l7.72-7.72 1.47 1.35L5.41 20z\"/>\n",
              "  </svg>\n",
              "      </button>\n",
              "      \n",
              "  <style>\n",
              "    .colab-df-container {\n",
              "      display:flex;\n",
              "      flex-wrap:wrap;\n",
              "      gap: 12px;\n",
              "    }\n",
              "\n",
              "    .colab-df-convert {\n",
              "      background-color: #E8F0FE;\n",
              "      border: none;\n",
              "      border-radius: 50%;\n",
              "      cursor: pointer;\n",
              "      display: none;\n",
              "      fill: #1967D2;\n",
              "      height: 32px;\n",
              "      padding: 0 0 0 0;\n",
              "      width: 32px;\n",
              "    }\n",
              "\n",
              "    .colab-df-convert:hover {\n",
              "      background-color: #E2EBFA;\n",
              "      box-shadow: 0px 1px 2px rgba(60, 64, 67, 0.3), 0px 1px 3px 1px rgba(60, 64, 67, 0.15);\n",
              "      fill: #174EA6;\n",
              "    }\n",
              "\n",
              "    [theme=dark] .colab-df-convert {\n",
              "      background-color: #3B4455;\n",
              "      fill: #D2E3FC;\n",
              "    }\n",
              "\n",
              "    [theme=dark] .colab-df-convert:hover {\n",
              "      background-color: #434B5C;\n",
              "      box-shadow: 0px 1px 3px 1px rgba(0, 0, 0, 0.15);\n",
              "      filter: drop-shadow(0px 1px 2px rgba(0, 0, 0, 0.3));\n",
              "      fill: #FFFFFF;\n",
              "    }\n",
              "  </style>\n",
              "\n",
              "      <script>\n",
              "        const buttonEl =\n",
              "          document.querySelector('#df-f3f6c36c-d754-4f83-be22-9238a9c35eee button.colab-df-convert');\n",
              "        buttonEl.style.display =\n",
              "          google.colab.kernel.accessAllowed ? 'block' : 'none';\n",
              "\n",
              "        async function convertToInteractive(key) {\n",
              "          const element = document.querySelector('#df-f3f6c36c-d754-4f83-be22-9238a9c35eee');\n",
              "          const dataTable =\n",
              "            await google.colab.kernel.invokeFunction('convertToInteractive',\n",
              "                                                     [key], {});\n",
              "          if (!dataTable) return;\n",
              "\n",
              "          const docLinkHtml = 'Like what you see? Visit the ' +\n",
              "            '<a target=\"_blank\" href=https://colab.research.google.com/notebooks/data_table.ipynb>data table notebook</a>'\n",
              "            + ' to learn more about interactive tables.';\n",
              "          element.innerHTML = '';\n",
              "          dataTable['output_type'] = 'display_data';\n",
              "          await google.colab.output.renderOutput(dataTable, element);\n",
              "          const docLink = document.createElement('div');\n",
              "          docLink.innerHTML = docLinkHtml;\n",
              "          element.appendChild(docLink);\n",
              "        }\n",
              "      </script>\n",
              "    </div>\n",
              "  </div>\n",
              "  "
            ]
          },
          "metadata": {},
          "execution_count": 5
        }
      ]
    },
    {
      "cell_type": "code",
      "source": [
        "#display,dataset\n",
        "display(df,df1)\n"
      ],
      "metadata": {
        "colab": {
          "base_uri": "https://localhost:8080/",
          "height": 740
        },
        "id": "NxqzYpFamlNw",
        "outputId": "6f820e85-9967-4891-f36c-86f938597f70"
      },
      "execution_count": null,
      "outputs": [
        {
          "output_type": "display_data",
          "data": {
            "text/plain": [
              "   Unnamed: 0 Unnamed: 1 Unnamed: 2           Unnamed: 3 Unnamed: 4\n",
              "0      Sr no.   Emp Name     Emp id                 Date     Leaves\n",
              "1           1    Ganesh        1001  2023-01-21 00:00:00          2\n",
              "2           2  Abhishek        1002  2023-01-22 00:00:00          4\n",
              "3           3      Veera       1003  2023-01-23 00:00:00          8\n",
              "4           4  Sanskruti       1004  2023-01-24 00:00:00          6\n",
              "5           5    Archana       1005  2023-01-25 00:00:00          1\n",
              "6           6     Aditya       1006  2023-01-26 00:00:00          2\n",
              "7           7    samarth       1007  2023-01-27 00:00:00          3\n",
              "8           8     Sayali       1008  2023-01-28 00:00:00          5\n",
              "9           9     Smruti       1009  2023-01-29 00:00:00          9\n",
              "10         10      Vipul       1010  2023-01-30 00:00:00          7"
            ],
            "text/html": [
              "\n",
              "  <div id=\"df-80d8bf32-c0bd-4b73-b614-307733f2d547\">\n",
              "    <div class=\"colab-df-container\">\n",
              "      <div>\n",
              "<style scoped>\n",
              "    .dataframe tbody tr th:only-of-type {\n",
              "        vertical-align: middle;\n",
              "    }\n",
              "\n",
              "    .dataframe tbody tr th {\n",
              "        vertical-align: top;\n",
              "    }\n",
              "\n",
              "    .dataframe thead th {\n",
              "        text-align: right;\n",
              "    }\n",
              "</style>\n",
              "<table border=\"1\" class=\"dataframe\">\n",
              "  <thead>\n",
              "    <tr style=\"text-align: right;\">\n",
              "      <th></th>\n",
              "      <th>Unnamed: 0</th>\n",
              "      <th>Unnamed: 1</th>\n",
              "      <th>Unnamed: 2</th>\n",
              "      <th>Unnamed: 3</th>\n",
              "      <th>Unnamed: 4</th>\n",
              "    </tr>\n",
              "  </thead>\n",
              "  <tbody>\n",
              "    <tr>\n",
              "      <th>0</th>\n",
              "      <td>Sr no.</td>\n",
              "      <td>Emp Name</td>\n",
              "      <td>Emp id</td>\n",
              "      <td>Date</td>\n",
              "      <td>Leaves</td>\n",
              "    </tr>\n",
              "    <tr>\n",
              "      <th>1</th>\n",
              "      <td>1</td>\n",
              "      <td>Ganesh</td>\n",
              "      <td>1001</td>\n",
              "      <td>2023-01-21 00:00:00</td>\n",
              "      <td>2</td>\n",
              "    </tr>\n",
              "    <tr>\n",
              "      <th>2</th>\n",
              "      <td>2</td>\n",
              "      <td>Abhishek</td>\n",
              "      <td>1002</td>\n",
              "      <td>2023-01-22 00:00:00</td>\n",
              "      <td>4</td>\n",
              "    </tr>\n",
              "    <tr>\n",
              "      <th>3</th>\n",
              "      <td>3</td>\n",
              "      <td>Veera</td>\n",
              "      <td>1003</td>\n",
              "      <td>2023-01-23 00:00:00</td>\n",
              "      <td>8</td>\n",
              "    </tr>\n",
              "    <tr>\n",
              "      <th>4</th>\n",
              "      <td>4</td>\n",
              "      <td>Sanskruti</td>\n",
              "      <td>1004</td>\n",
              "      <td>2023-01-24 00:00:00</td>\n",
              "      <td>6</td>\n",
              "    </tr>\n",
              "    <tr>\n",
              "      <th>5</th>\n",
              "      <td>5</td>\n",
              "      <td>Archana</td>\n",
              "      <td>1005</td>\n",
              "      <td>2023-01-25 00:00:00</td>\n",
              "      <td>1</td>\n",
              "    </tr>\n",
              "    <tr>\n",
              "      <th>6</th>\n",
              "      <td>6</td>\n",
              "      <td>Aditya</td>\n",
              "      <td>1006</td>\n",
              "      <td>2023-01-26 00:00:00</td>\n",
              "      <td>2</td>\n",
              "    </tr>\n",
              "    <tr>\n",
              "      <th>7</th>\n",
              "      <td>7</td>\n",
              "      <td>samarth</td>\n",
              "      <td>1007</td>\n",
              "      <td>2023-01-27 00:00:00</td>\n",
              "      <td>3</td>\n",
              "    </tr>\n",
              "    <tr>\n",
              "      <th>8</th>\n",
              "      <td>8</td>\n",
              "      <td>Sayali</td>\n",
              "      <td>1008</td>\n",
              "      <td>2023-01-28 00:00:00</td>\n",
              "      <td>5</td>\n",
              "    </tr>\n",
              "    <tr>\n",
              "      <th>9</th>\n",
              "      <td>9</td>\n",
              "      <td>Smruti</td>\n",
              "      <td>1009</td>\n",
              "      <td>2023-01-29 00:00:00</td>\n",
              "      <td>9</td>\n",
              "    </tr>\n",
              "    <tr>\n",
              "      <th>10</th>\n",
              "      <td>10</td>\n",
              "      <td>Vipul</td>\n",
              "      <td>1010</td>\n",
              "      <td>2023-01-30 00:00:00</td>\n",
              "      <td>7</td>\n",
              "    </tr>\n",
              "  </tbody>\n",
              "</table>\n",
              "</div>\n",
              "      <button class=\"colab-df-convert\" onclick=\"convertToInteractive('df-80d8bf32-c0bd-4b73-b614-307733f2d547')\"\n",
              "              title=\"Convert this dataframe to an interactive table.\"\n",
              "              style=\"display:none;\">\n",
              "        \n",
              "  <svg xmlns=\"http://www.w3.org/2000/svg\" height=\"24px\"viewBox=\"0 0 24 24\"\n",
              "       width=\"24px\">\n",
              "    <path d=\"M0 0h24v24H0V0z\" fill=\"none\"/>\n",
              "    <path d=\"M18.56 5.44l.94 2.06.94-2.06 2.06-.94-2.06-.94-.94-2.06-.94 2.06-2.06.94zm-11 1L8.5 8.5l.94-2.06 2.06-.94-2.06-.94L8.5 2.5l-.94 2.06-2.06.94zm10 10l.94 2.06.94-2.06 2.06-.94-2.06-.94-.94-2.06-.94 2.06-2.06.94z\"/><path d=\"M17.41 7.96l-1.37-1.37c-.4-.4-.92-.59-1.43-.59-.52 0-1.04.2-1.43.59L10.3 9.45l-7.72 7.72c-.78.78-.78 2.05 0 2.83L4 21.41c.39.39.9.59 1.41.59.51 0 1.02-.2 1.41-.59l7.78-7.78 2.81-2.81c.8-.78.8-2.07 0-2.86zM5.41 20L4 18.59l7.72-7.72 1.47 1.35L5.41 20z\"/>\n",
              "  </svg>\n",
              "      </button>\n",
              "      \n",
              "  <style>\n",
              "    .colab-df-container {\n",
              "      display:flex;\n",
              "      flex-wrap:wrap;\n",
              "      gap: 12px;\n",
              "    }\n",
              "\n",
              "    .colab-df-convert {\n",
              "      background-color: #E8F0FE;\n",
              "      border: none;\n",
              "      border-radius: 50%;\n",
              "      cursor: pointer;\n",
              "      display: none;\n",
              "      fill: #1967D2;\n",
              "      height: 32px;\n",
              "      padding: 0 0 0 0;\n",
              "      width: 32px;\n",
              "    }\n",
              "\n",
              "    .colab-df-convert:hover {\n",
              "      background-color: #E2EBFA;\n",
              "      box-shadow: 0px 1px 2px rgba(60, 64, 67, 0.3), 0px 1px 3px 1px rgba(60, 64, 67, 0.15);\n",
              "      fill: #174EA6;\n",
              "    }\n",
              "\n",
              "    [theme=dark] .colab-df-convert {\n",
              "      background-color: #3B4455;\n",
              "      fill: #D2E3FC;\n",
              "    }\n",
              "\n",
              "    [theme=dark] .colab-df-convert:hover {\n",
              "      background-color: #434B5C;\n",
              "      box-shadow: 0px 1px 3px 1px rgba(0, 0, 0, 0.15);\n",
              "      filter: drop-shadow(0px 1px 2px rgba(0, 0, 0, 0.3));\n",
              "      fill: #FFFFFF;\n",
              "    }\n",
              "  </style>\n",
              "\n",
              "      <script>\n",
              "        const buttonEl =\n",
              "          document.querySelector('#df-80d8bf32-c0bd-4b73-b614-307733f2d547 button.colab-df-convert');\n",
              "        buttonEl.style.display =\n",
              "          google.colab.kernel.accessAllowed ? 'block' : 'none';\n",
              "\n",
              "        async function convertToInteractive(key) {\n",
              "          const element = document.querySelector('#df-80d8bf32-c0bd-4b73-b614-307733f2d547');\n",
              "          const dataTable =\n",
              "            await google.colab.kernel.invokeFunction('convertToInteractive',\n",
              "                                                     [key], {});\n",
              "          if (!dataTable) return;\n",
              "\n",
              "          const docLinkHtml = 'Like what you see? Visit the ' +\n",
              "            '<a target=\"_blank\" href=https://colab.research.google.com/notebooks/data_table.ipynb>data table notebook</a>'\n",
              "            + ' to learn more about interactive tables.';\n",
              "          element.innerHTML = '';\n",
              "          dataTable['output_type'] = 'display_data';\n",
              "          await google.colab.output.renderOutput(dataTable, element);\n",
              "          const docLink = document.createElement('div');\n",
              "          docLink.innerHTML = docLinkHtml;\n",
              "          element.appendChild(docLink);\n",
              "        }\n",
              "      </script>\n",
              "    </div>\n",
              "  </div>\n",
              "  "
            ]
          },
          "metadata": {}
        },
        {
          "output_type": "display_data",
          "data": {
            "text/plain": [
              "    Emp Name  Emp id  Salary\n",
              "0    Ganesh     1001   25000\n",
              "1   abhishek    1002   40000\n",
              "2      Veera    1003   80000\n",
              "3  Sanskruti    1004   60000\n",
              "4     aditya    1005   50000\n",
              "5    samarth    1006   30000\n",
              "6    Pratham    1007   15000\n",
              "7     Sayali    1008   55000\n",
              "8     Smruti    1009   80000\n",
              "9      vipul    1010  100000"
            ],
            "text/html": [
              "\n",
              "  <div id=\"df-e74f9b94-16bd-4b1b-ba4f-a4f33b6861e6\">\n",
              "    <div class=\"colab-df-container\">\n",
              "      <div>\n",
              "<style scoped>\n",
              "    .dataframe tbody tr th:only-of-type {\n",
              "        vertical-align: middle;\n",
              "    }\n",
              "\n",
              "    .dataframe tbody tr th {\n",
              "        vertical-align: top;\n",
              "    }\n",
              "\n",
              "    .dataframe thead th {\n",
              "        text-align: right;\n",
              "    }\n",
              "</style>\n",
              "<table border=\"1\" class=\"dataframe\">\n",
              "  <thead>\n",
              "    <tr style=\"text-align: right;\">\n",
              "      <th></th>\n",
              "      <th>Emp Name</th>\n",
              "      <th>Emp id</th>\n",
              "      <th>Salary</th>\n",
              "    </tr>\n",
              "  </thead>\n",
              "  <tbody>\n",
              "    <tr>\n",
              "      <th>0</th>\n",
              "      <td>Ganesh</td>\n",
              "      <td>1001</td>\n",
              "      <td>25000</td>\n",
              "    </tr>\n",
              "    <tr>\n",
              "      <th>1</th>\n",
              "      <td>abhishek</td>\n",
              "      <td>1002</td>\n",
              "      <td>40000</td>\n",
              "    </tr>\n",
              "    <tr>\n",
              "      <th>2</th>\n",
              "      <td>Veera</td>\n",
              "      <td>1003</td>\n",
              "      <td>80000</td>\n",
              "    </tr>\n",
              "    <tr>\n",
              "      <th>3</th>\n",
              "      <td>Sanskruti</td>\n",
              "      <td>1004</td>\n",
              "      <td>60000</td>\n",
              "    </tr>\n",
              "    <tr>\n",
              "      <th>4</th>\n",
              "      <td>aditya</td>\n",
              "      <td>1005</td>\n",
              "      <td>50000</td>\n",
              "    </tr>\n",
              "    <tr>\n",
              "      <th>5</th>\n",
              "      <td>samarth</td>\n",
              "      <td>1006</td>\n",
              "      <td>30000</td>\n",
              "    </tr>\n",
              "    <tr>\n",
              "      <th>6</th>\n",
              "      <td>Pratham</td>\n",
              "      <td>1007</td>\n",
              "      <td>15000</td>\n",
              "    </tr>\n",
              "    <tr>\n",
              "      <th>7</th>\n",
              "      <td>Sayali</td>\n",
              "      <td>1008</td>\n",
              "      <td>55000</td>\n",
              "    </tr>\n",
              "    <tr>\n",
              "      <th>8</th>\n",
              "      <td>Smruti</td>\n",
              "      <td>1009</td>\n",
              "      <td>80000</td>\n",
              "    </tr>\n",
              "    <tr>\n",
              "      <th>9</th>\n",
              "      <td>vipul</td>\n",
              "      <td>1010</td>\n",
              "      <td>100000</td>\n",
              "    </tr>\n",
              "  </tbody>\n",
              "</table>\n",
              "</div>\n",
              "      <button class=\"colab-df-convert\" onclick=\"convertToInteractive('df-e74f9b94-16bd-4b1b-ba4f-a4f33b6861e6')\"\n",
              "              title=\"Convert this dataframe to an interactive table.\"\n",
              "              style=\"display:none;\">\n",
              "        \n",
              "  <svg xmlns=\"http://www.w3.org/2000/svg\" height=\"24px\"viewBox=\"0 0 24 24\"\n",
              "       width=\"24px\">\n",
              "    <path d=\"M0 0h24v24H0V0z\" fill=\"none\"/>\n",
              "    <path d=\"M18.56 5.44l.94 2.06.94-2.06 2.06-.94-2.06-.94-.94-2.06-.94 2.06-2.06.94zm-11 1L8.5 8.5l.94-2.06 2.06-.94-2.06-.94L8.5 2.5l-.94 2.06-2.06.94zm10 10l.94 2.06.94-2.06 2.06-.94-2.06-.94-.94-2.06-.94 2.06-2.06.94z\"/><path d=\"M17.41 7.96l-1.37-1.37c-.4-.4-.92-.59-1.43-.59-.52 0-1.04.2-1.43.59L10.3 9.45l-7.72 7.72c-.78.78-.78 2.05 0 2.83L4 21.41c.39.39.9.59 1.41.59.51 0 1.02-.2 1.41-.59l7.78-7.78 2.81-2.81c.8-.78.8-2.07 0-2.86zM5.41 20L4 18.59l7.72-7.72 1.47 1.35L5.41 20z\"/>\n",
              "  </svg>\n",
              "      </button>\n",
              "      \n",
              "  <style>\n",
              "    .colab-df-container {\n",
              "      display:flex;\n",
              "      flex-wrap:wrap;\n",
              "      gap: 12px;\n",
              "    }\n",
              "\n",
              "    .colab-df-convert {\n",
              "      background-color: #E8F0FE;\n",
              "      border: none;\n",
              "      border-radius: 50%;\n",
              "      cursor: pointer;\n",
              "      display: none;\n",
              "      fill: #1967D2;\n",
              "      height: 32px;\n",
              "      padding: 0 0 0 0;\n",
              "      width: 32px;\n",
              "    }\n",
              "\n",
              "    .colab-df-convert:hover {\n",
              "      background-color: #E2EBFA;\n",
              "      box-shadow: 0px 1px 2px rgba(60, 64, 67, 0.3), 0px 1px 3px 1px rgba(60, 64, 67, 0.15);\n",
              "      fill: #174EA6;\n",
              "    }\n",
              "\n",
              "    [theme=dark] .colab-df-convert {\n",
              "      background-color: #3B4455;\n",
              "      fill: #D2E3FC;\n",
              "    }\n",
              "\n",
              "    [theme=dark] .colab-df-convert:hover {\n",
              "      background-color: #434B5C;\n",
              "      box-shadow: 0px 1px 3px 1px rgba(0, 0, 0, 0.15);\n",
              "      filter: drop-shadow(0px 1px 2px rgba(0, 0, 0, 0.3));\n",
              "      fill: #FFFFFF;\n",
              "    }\n",
              "  </style>\n",
              "\n",
              "      <script>\n",
              "        const buttonEl =\n",
              "          document.querySelector('#df-e74f9b94-16bd-4b1b-ba4f-a4f33b6861e6 button.colab-df-convert');\n",
              "        buttonEl.style.display =\n",
              "          google.colab.kernel.accessAllowed ? 'block' : 'none';\n",
              "\n",
              "        async function convertToInteractive(key) {\n",
              "          const element = document.querySelector('#df-e74f9b94-16bd-4b1b-ba4f-a4f33b6861e6');\n",
              "          const dataTable =\n",
              "            await google.colab.kernel.invokeFunction('convertToInteractive',\n",
              "                                                     [key], {});\n",
              "          if (!dataTable) return;\n",
              "\n",
              "          const docLinkHtml = 'Like what you see? Visit the ' +\n",
              "            '<a target=\"_blank\" href=https://colab.research.google.com/notebooks/data_table.ipynb>data table notebook</a>'\n",
              "            + ' to learn more about interactive tables.';\n",
              "          element.innerHTML = '';\n",
              "          dataTable['output_type'] = 'display_data';\n",
              "          await google.colab.output.renderOutput(dataTable, element);\n",
              "          const docLink = document.createElement('div');\n",
              "          docLink.innerHTML = docLinkHtml;\n",
              "          element.appendChild(docLink);\n",
              "        }\n",
              "      </script>\n",
              "    </div>\n",
              "  </div>\n",
              "  "
            ]
          },
          "metadata": {}
        }
      ]
    },
    {
      "cell_type": "code",
      "source": [
        "import pandas as pd\n",
        "a = pd.merge (df, df1)\n",
        "display (a)"
      ],
      "metadata": {
        "colab": {
          "base_uri": "https://localhost:8080/",
          "height": 200
        },
        "id": "QGDXQt83m0zm",
        "outputId": "e819a623-a7d6-43c0-8547-ff3cb3f933b9"
      },
      "execution_count": null,
      "outputs": [
        {
          "output_type": "error",
          "ename": "NameError",
          "evalue": "ignored",
          "traceback": [
            "\u001b[0;31m---------------------------------------------------------------------------\u001b[0m",
            "\u001b[0;31mNameError\u001b[0m                                 Traceback (most recent call last)",
            "\u001b[0;32m<ipython-input-2-3ac817e98e95>\u001b[0m in \u001b[0;36m<cell line: 2>\u001b[0;34m()\u001b[0m\n\u001b[1;32m      1\u001b[0m \u001b[0;32mimport\u001b[0m \u001b[0mpandas\u001b[0m \u001b[0;32mas\u001b[0m \u001b[0mpd\u001b[0m\u001b[0;34m\u001b[0m\u001b[0;34m\u001b[0m\u001b[0m\n\u001b[0;32m----> 2\u001b[0;31m \u001b[0ma\u001b[0m \u001b[0;34m=\u001b[0m \u001b[0mpd\u001b[0m\u001b[0;34m.\u001b[0m\u001b[0mmerge\u001b[0m \u001b[0;34m(\u001b[0m\u001b[0mdf\u001b[0m\u001b[0;34m,\u001b[0m \u001b[0mdf1\u001b[0m\u001b[0;34m)\u001b[0m\u001b[0;34m\u001b[0m\u001b[0;34m\u001b[0m\u001b[0m\n\u001b[0m\u001b[1;32m      3\u001b[0m \u001b[0mdisplay\u001b[0m \u001b[0;34m(\u001b[0m\u001b[0ma\u001b[0m\u001b[0;34m)\u001b[0m\u001b[0;34m\u001b[0m\u001b[0;34m\u001b[0m\u001b[0m\n",
            "\u001b[0;31mNameError\u001b[0m: name 'df' is not defined"
          ]
        }
      ]
    },
    {
      "cell_type": "code",
      "source": [
        "#function to find 5emp having high salary\n",
        "def sal():\n",
        "  import pandas as pd\n",
        "  a=pd1.sort_values(by=['Salary'],ascending=False)\n",
        "\n",
        "  g=a.nlargest(3,'Salary','first')\n",
        "  #f= a.nlargest(2,['Salary])#g or f (both are same)\n",
        "  print(g)\n",
        "  #print(f)\n",
        "  sal() #function call"
      ],
      "metadata": {
        "id": "_0ovUmhAnADu"
      },
      "execution_count": null,
      "outputs": []
    },
    {
      "cell_type": "code",
      "source": [
        "# Tuple operations\n",
        "\n",
        "t1 = (10, 20, 30, \"Python\", 15.71) # declearing tuple\n",
        "t2 = (80.87,21, \"Durwa\")\n",
        "print(t1)\n",
        "print (t2)\n",
        "\n",
        "# Accessing Tuple elements using Indexing\n",
        "print(t1[0])\n",
        "\n",
        "# Navigate tuple Index\n",
        "print(t1[-1])\n",
        "print(t2[-2])\n",
        "\n",
        "#iterating through tuple\n",
        "\n",
        "for i in t1:\n",
        "  print(i)\n",
        "\n",
        "#slicing tuple\n",
        "stl = t1[1:4]\n",
        "print(stl)\n",
        "\n",
        "#tuples are immutable\n",
        "str2 = t1 + (50,60)\n",
        "print(str2)\n",
        "\n",
        "\n",
        "#finding length of tuple\n",
        "str3 = t1. __len__()\n",
        "print(str3)\n",
        "\n",
        "\n",
        "#Membership operators\n",
        "print (10 in t1)\n",
        "print(10 not in t1)\n",
        "\n",
        "#concatinate tuple\n",
        "t3 = t1+t2\n",
        "print(t3)\n",
        "\n",
        "#Multiplying tuple\n",
        "t4 = t1*3\n",
        "print(t4)\n",
        "\n",
        "#deleting tuple\n",
        "del t1\n"
      ],
      "metadata": {
        "colab": {
          "base_uri": "https://localhost:8080/"
        },
        "id": "4wNFl0SbVx8T",
        "outputId": "3443cfbc-67c5-4831-94d7-06fe7ff4ecea"
      },
      "execution_count": null,
      "outputs": [
        {
          "output_type": "stream",
          "name": "stdout",
          "text": [
            "(10, 20, 30, 'Python', 15.71)\n",
            "(80.87, 21, 'Durwa')\n",
            "10\n",
            "15.71\n",
            "21\n",
            "10\n",
            "20\n",
            "30\n",
            "Python\n",
            "15.71\n",
            "(20, 30, 'Python')\n",
            "(10, 20, 30, 'Python', 15.71, 50, 60)\n",
            "5\n",
            "True\n",
            "False\n",
            "(10, 20, 30, 'Python', 15.71, 80.87, 21, 'Durwa')\n",
            "(10, 20, 30, 'Python', 15.71, 10, 20, 30, 'Python', 15.71, 10, 20, 30, 'Python', 15.71)\n"
          ]
        }
      ]
    },
    {
      "cell_type": "code",
      "source": [
        "import pandas as pd\n",
        "df= pd.read_csv('/content/drive/MyDrive/SALES.ABHI.NEW.csv')\n",
        "#df\n",
        "print(df.values.tolist())"
      ],
      "metadata": {
        "colab": {
          "base_uri": "https://localhost:8080/"
        },
        "id": "0xc2D3GijlHJ",
        "outputId": "43b3fb9a-2a5e-40d9-cfb9-fe8366671a8e"
      },
      "execution_count": null,
      "outputs": [
        {
          "output_type": "stream",
          "name": "stdout",
          "text": [
            "[[2341, 'REGISTER', 4, 80, 320], [3421, 'NOTEBOOK', 6, 40, 240], [3424, 'PENCIL', 10, 3, 30], [3200, 'PEN', 10, 5, 50], [4530, 'ERASER', 15, 10, 150], [4512, 'STEPLER', 5, 15, 75], [4511, 'COLOUR PAPER ', 5, 3, 15], [875, 'MARKER', 4, 15, 60], [567, 'CELLO TAPE', 5, 2, 10], [2356, 'DRAWING BOARD', 2, 150, 300], [890, 'ZEROX', 4, 10, 40], [5671, 'TOYS', 3, 200, 600], [6134, 'GLUE', 10, 20, 200], [3461, 'CHARTPAPER', 10, 5, 50], [6372, 'SHARPNER', 4, 2, 9], [6718, 'CRAYONS', 3, 80, 240], [9026, 'FILE ', 10, 20, 200], [6251, 'BOOK', 1, 100, 100], [561, 'DRAWING BOOK', 2, 60, 120]]\n"
          ]
        }
      ]
    },
    {
      "cell_type": "code",
      "source": [
        "import pandas as pd\n",
        "df= pd.read_csv('/content/drive/MyDrive/SUPPLIER.ABHI.csv')\n",
        "#df\n",
        "print(df.values.tolist())"
      ],
      "metadata": {
        "colab": {
          "base_uri": "https://localhost:8080/"
        },
        "id": "wUy_pkfKqwFY",
        "outputId": "ddefc828-bc50-4bd9-f755-3a98204fc13a"
      },
      "execution_count": null,
      "outputs": [
        {
          "output_type": "stream",
          "name": "stdout",
          "text": [
            "[[2341, 'REGISTER', 40, 32], [3421, 'NOTEBOOK', 50, 45], [3424, 'PENCIL', 70, 65], [3200, 'PEN', 60, 55], [4530, 'ERASER', 50, 45], [4512, 'STEPLER', 10, 7], [4511, 'COLOUR PAPER ', 50, 49], [875, 'MARKER', 60, 55], [567, 'CELLO TAPE', 40, 35], [2356, 'DRAWING BOARD', 60, 55], [890, 'ZEROX', 61, 55], [5671, 'TOYS', 13, 10], [6134, 'GLUE', 41, 40], [3461, 'CHARTPAPER', 54, 50], [6372, 'SHARPNER', 71, 50], [6718, 'CRAYONS', 41, 40], [9026, 'FILE ', 54, 50], [6251, 'BOOK', 32, 30], [561, 'DRAWING BOOK', 12, 10]]\n"
          ]
        }
      ]
    },
    {
      "cell_type": "code",
      "source": [
        "#set theory\n",
        "#set is mutable\n",
        "s1= {10,20,30}\n",
        "for i in s1:\n",
        "  print(s1)\n"
      ],
      "metadata": {
        "colab": {
          "base_uri": "https://localhost:8080/"
        },
        "id": "bLydN-bPEAbA",
        "outputId": "b3a5d741-7e2f-44b6-afa4-522b89994bdd"
      },
      "execution_count": null,
      "outputs": [
        {
          "output_type": "stream",
          "name": "stdout",
          "text": [
            "{10, 20, 30}\n",
            "{10, 20, 30}\n",
            "{10, 20, 30}\n"
          ]
        }
      ]
    },
    {
      "cell_type": "code",
      "source": [
        "a = {10,20,30}\n",
        "print(a)"
      ],
      "metadata": {
        "colab": {
          "base_uri": "https://localhost:8080/"
        },
        "id": "dLEfFwhBONBN",
        "outputId": "198a030a-0a0c-43d6-93d8-296604d6348d"
      },
      "execution_count": null,
      "outputs": [
        {
          "output_type": "stream",
          "name": "stdout",
          "text": [
            "{10, 20, 30}\n"
          ]
        }
      ]
    },
    {
      "cell_type": "code",
      "source": [
        "s1 = {10,20,30}\n",
        "for i in s1:\n",
        "  print(i)"
      ],
      "metadata": {
        "colab": {
          "base_uri": "https://localhost:8080/"
        },
        "id": "EyDv_iDPOabR",
        "outputId": "76cb881f-57b9-4f73-f14a-0b54cddd6b8d"
      },
      "execution_count": null,
      "outputs": [
        {
          "output_type": "stream",
          "name": "stdout",
          "text": [
            "10\n",
            "20\n",
            "30\n"
          ]
        }
      ]
    },
    {
      "cell_type": "code",
      "source": [
        "# we can add  single element with add\n",
        "s1= {10,20,30}\n",
        "s1.add(5)\n",
        "print(s1)\n"
      ],
      "metadata": {
        "colab": {
          "base_uri": "https://localhost:8080/"
        },
        "id": "wESMCxckOoV0",
        "outputId": "00d0f52d-8061-46c7-cac1-3683b4b1bff6"
      },
      "execution_count": null,
      "outputs": [
        {
          "output_type": "stream",
          "name": "stdout",
          "text": [
            "{10, 20, 5, 30}\n"
          ]
        }
      ]
    },
    {
      "cell_type": "code",
      "source": [
        "#we can add multiple elements with update\n",
        "s1= {10,20,30}\n",
        "s1.update((7,8,1))\n",
        "print(s1)"
      ],
      "metadata": {
        "colab": {
          "base_uri": "https://localhost:8080/"
        },
        "id": "cNRNuyG5O7_B",
        "outputId": "466d28b6-12ad-435e-9394-46b720dd5276"
      },
      "execution_count": null,
      "outputs": [
        {
          "output_type": "stream",
          "name": "stdout",
          "text": [
            "{1, 7, 8, 10, 20, 30}\n"
          ]
        }
      ]
    },
    {
      "cell_type": "code",
      "source": [
        "#discard and remove are same but if the item is not there it will not erase the key error\n",
        "s1= {2,3,4,6}\n",
        "s1.discard(2)\n",
        "print(s1)\n"
      ],
      "metadata": {
        "colab": {
          "base_uri": "https://localhost:8080/"
        },
        "id": "6xHzKT8pPVtP",
        "outputId": "877b6aad-5f14-40ec-ddd8-cbed660df6ab"
      },
      "execution_count": null,
      "outputs": [
        {
          "output_type": "stream",
          "name": "stdout",
          "text": [
            "{3, 4, 6}\n"
          ]
        }
      ]
    },
    {
      "cell_type": "code",
      "source": [
        "#set union\n",
        "# set of all elements from both sides\n",
        "t1= {1,2,3,4,8}\n",
        "t2= {5,6,7,8}\n",
        "c1 = t1  t2\n",
        "print(c1)"
      ],
      "metadata": {
        "colab": {
          "base_uri": "https://localhost:8080/",
          "height": 217
        },
        "id": "10CfUZhiP_WV",
        "outputId": "3b362676-bd8b-4aa9-d145-a9a21412172d"
      },
      "execution_count": null,
      "outputs": [
        {
          "output_type": "error",
          "ename": "TypeError",
          "evalue": "ignored",
          "traceback": [
            "\u001b[0;31m---------------------------------------------------------------------------\u001b[0m",
            "\u001b[0;31mTypeError\u001b[0m                                 Traceback (most recent call last)",
            "\u001b[0;32m<ipython-input-8-0cd020dc48b6>\u001b[0m in \u001b[0;36m<cell line: 5>\u001b[0;34m()\u001b[0m\n\u001b[1;32m      3\u001b[0m \u001b[0mt1\u001b[0m\u001b[0;34m=\u001b[0m \u001b[0;34m{\u001b[0m\u001b[0;36m1\u001b[0m\u001b[0;34m,\u001b[0m\u001b[0;36m2\u001b[0m\u001b[0;34m,\u001b[0m\u001b[0;36m3\u001b[0m\u001b[0;34m,\u001b[0m\u001b[0;36m4\u001b[0m\u001b[0;34m,\u001b[0m\u001b[0;36m8\u001b[0m\u001b[0;34m}\u001b[0m\u001b[0;34m\u001b[0m\u001b[0;34m\u001b[0m\u001b[0m\n\u001b[1;32m      4\u001b[0m \u001b[0mt2\u001b[0m\u001b[0;34m=\u001b[0m \u001b[0;34m{\u001b[0m\u001b[0;36m5\u001b[0m\u001b[0;34m,\u001b[0m\u001b[0;36m6\u001b[0m\u001b[0;34m,\u001b[0m\u001b[0;36m7\u001b[0m\u001b[0;34m,\u001b[0m\u001b[0;36m8\u001b[0m\u001b[0;34m}\u001b[0m\u001b[0;34m\u001b[0m\u001b[0;34m\u001b[0m\u001b[0m\n\u001b[0;32m----> 5\u001b[0;31m \u001b[0mc1\u001b[0m \u001b[0;34m=\u001b[0m \u001b[0mt1\u001b[0m \u001b[0;34m/\u001b[0m \u001b[0mt2\u001b[0m\u001b[0;34m\u001b[0m\u001b[0;34m\u001b[0m\u001b[0m\n\u001b[0m\u001b[1;32m      6\u001b[0m \u001b[0mprint\u001b[0m\u001b[0;34m(\u001b[0m\u001b[0mc1\u001b[0m\u001b[0;34m)\u001b[0m\u001b[0;34m\u001b[0m\u001b[0;34m\u001b[0m\u001b[0m\n",
            "\u001b[0;31mTypeError\u001b[0m: unsupported operand type(s) for /: 'set' and 'set'"
          ]
        }
      ]
    },
    {
      "cell_type": "code",
      "source": [
        "# set interaction\n",
        "# take the common elements from both the sets\n",
        "i1 = t1 & t2\n",
        "print(i1)\n"
      ],
      "metadata": {
        "colab": {
          "base_uri": "https://localhost:8080/"
        },
        "id": "71qTaGMrRT07",
        "outputId": "908a6e49-3cb9-4aa6-9181-932d36037520"
      },
      "execution_count": null,
      "outputs": [
        {
          "output_type": "stream",
          "name": "stdout",
          "text": [
            "{8}\n"
          ]
        }
      ]
    },
    {
      "cell_type": "code",
      "source": [
        "#set difference\n",
        "# display elements that are only in t1 and not in t2\n",
        "i1 = t1-t2\n",
        "print(i1)"
      ],
      "metadata": {
        "colab": {
          "base_uri": "https://localhost:8080/"
        },
        "id": "fizC7Q2lR0x5",
        "outputId": "cdfe3bdc-3b2c-4191-f855-33f799dcb277"
      },
      "execution_count": null,
      "outputs": [
        {
          "output_type": "stream",
          "name": "stdout",
          "text": [
            "{1, 2, 3, 4}\n"
          ]
        }
      ]
    },
    {
      "cell_type": "code",
      "source": [
        "import numpy as np.\n",
        "arr= np.array([1,2,3,4,5])\n",
        "x = arr.copy() y= arr.view()\n",
        "#2 = arr.cut()\n",
        "arr[1] 42 arr[0] -45\n",
        "print (arr)\n",
        "print(x)\n",
        "print (y)\n"
      ],
      "metadata": {
        "colab": {
          "base_uri": "https://localhost:8080/",
          "height": 131
        },
        "id": "A5Y6SFNkT_ji",
        "outputId": "140c128a-48dc-47ed-87f0-ae46fc63c3a1"
      },
      "execution_count": null,
      "outputs": [
        {
          "output_type": "error",
          "ename": "SyntaxError",
          "evalue": "ignored",
          "traceback": [
            "\u001b[0;36m  File \u001b[0;32m\"<ipython-input-2-0dcfd707d4d6>\"\u001b[0;36m, line \u001b[0;32m1\u001b[0m\n\u001b[0;31m    import numpy as np.\u001b[0m\n\u001b[0m                      ^\u001b[0m\n\u001b[0;31mSyntaxError\u001b[0m\u001b[0;31m:\u001b[0m invalid syntax\n"
          ]
        }
      ]
    },
    {
      "cell_type": "code",
      "source": [
        "import numpy\n",
        "np\n",
        "x= np.array([[1,2], [4,511) y= np.array([[6,7], [9,10]])\n",
        "print(\"Addition of matrix\") print (np.add(x,y))\n",
        "print(\"Subtraction of matrix\") print(np.subtract(x,y))\n",
        "#reciprocal\n",
        "#print (np.reciprocal(x))"
      ],
      "metadata": {
        "colab": {
          "base_uri": "https://localhost:8080/",
          "height": 131
        },
        "id": "3hJ7pip8lB35",
        "outputId": "2ac73253-fae5-4437-eb18-717d33eee491"
      },
      "execution_count": null,
      "outputs": [
        {
          "output_type": "error",
          "ename": "SyntaxError",
          "evalue": "ignored",
          "traceback": [
            "\u001b[0;36m  File \u001b[0;32m\"<ipython-input-3-d46c0c027c99>\"\u001b[0;36m, line \u001b[0;32m3\u001b[0m\n\u001b[0;31m    x= np.array([[1,2], [4,511) y= np.array([[6,7], [9,10]])\u001b[0m\n\u001b[0m                              ^\u001b[0m\n\u001b[0;31mSyntaxError\u001b[0m\u001b[0;31m:\u001b[0m closing parenthesis ')' does not match opening parenthesis '['\n"
          ]
        }
      ]
    },
    {
      "cell_type": "code",
      "source": [
        "#np array\n",
        "11 np.matrix('1,2,3 4,5,6; 7,8,9)\n",
        "a = np.array(11)\n",
        "print (a)\n",
        "#transpose of matrix\n",
        "print(a.T)"
      ],
      "metadata": {
        "colab": {
          "base_uri": "https://localhost:8080/",
          "height": 131
        },
        "id": "Mqg3MeqrlrgB",
        "outputId": "96db3552-a72c-4b20-a85d-436780943368"
      },
      "execution_count": null,
      "outputs": [
        {
          "output_type": "error",
          "ename": "SyntaxError",
          "evalue": "ignored",
          "traceback": [
            "\u001b[0;36m  File \u001b[0;32m\"<ipython-input-5-be6b07c65295>\"\u001b[0;36m, line \u001b[0;32m2\u001b[0m\n\u001b[0;31m    11 np.matrix('1,2,3 4,5,6; 7,8,9)\u001b[0m\n\u001b[0m       ^\u001b[0m\n\u001b[0;31mSyntaxError\u001b[0m\u001b[0;31m:\u001b[0m invalid syntax\n"
          ]
        }
      ]
    },
    {
      "cell_type": "code",
      "source": [
        "Odef outer(): print(\"outer function\")\n",
        "def inner(): print(\"Inner function\")\n",
        "inner()\n",
        "outer()"
      ],
      "metadata": {
        "colab": {
          "base_uri": "https://localhost:8080/",
          "height": 131
        },
        "id": "yvpR14WwmH4S",
        "outputId": "d6e6495c-c135-4327-aa09-401cadfbe113"
      },
      "execution_count": null,
      "outputs": [
        {
          "output_type": "error",
          "ename": "SyntaxError",
          "evalue": "ignored",
          "traceback": [
            "\u001b[0;36m  File \u001b[0;32m\"<ipython-input-6-830fd7cf3bc6>\"\u001b[0;36m, line \u001b[0;32m1\u001b[0m\n\u001b[0;31m    Odef outer(): print(\"outer function\")\u001b[0m\n\u001b[0m         ^\u001b[0m\n\u001b[0;31mSyntaxError\u001b[0m\u001b[0;31m:\u001b[0m invalid syntax\n"
          ]
        }
      ]
    },
    {
      "cell_type": "code",
      "source": [
        "import pandas as pd\n",
        "df=pd.read_excel('')\n",
        "#df.set_index(\"date\",inplace=True)\n",
        "display(df)\n",
        "df1= pd.read_excel(r'')\n",
        "print(df1)"
      ],
      "metadata": {
        "id": "-zapNZoaKxjW"
      },
      "execution_count": null,
      "outputs": []
    },
    {
      "cell_type": "code",
      "source": [
        "print('Timetable:')\n",
        "for day in weekdays:\n",
        "    print(day)\n",
        "    for time in timeslots:\n",
        "        print(f'{time}: {timetable[(day, time)]}')\n",
        "    print()"
      ],
      "metadata": {
        "colab": {
          "base_uri": "https://localhost:8080/",
          "height": 252
        },
        "id": "t8bB-xldRFfa",
        "outputId": "53302b0f-cd10-4238-b5e4-a9075023a732"
      },
      "execution_count": null,
      "outputs": [
        {
          "output_type": "stream",
          "name": "stdout",
          "text": [
            "Timetable:\n"
          ]
        },
        {
          "output_type": "error",
          "ename": "NameError",
          "evalue": "ignored",
          "traceback": [
            "\u001b[0;31m---------------------------------------------------------------------------\u001b[0m",
            "\u001b[0;31mNameError\u001b[0m                                 Traceback (most recent call last)",
            "\u001b[0;32m<ipython-input-1-3c00b97f5cd8>\u001b[0m in \u001b[0;36m<cell line: 2>\u001b[0;34m()\u001b[0m\n\u001b[1;32m      1\u001b[0m \u001b[0mprint\u001b[0m\u001b[0;34m(\u001b[0m\u001b[0;34m'Timetable:'\u001b[0m\u001b[0;34m)\u001b[0m\u001b[0;34m\u001b[0m\u001b[0;34m\u001b[0m\u001b[0m\n\u001b[0;32m----> 2\u001b[0;31m \u001b[0;32mfor\u001b[0m \u001b[0mday\u001b[0m \u001b[0;32min\u001b[0m \u001b[0mweekdays\u001b[0m\u001b[0;34m:\u001b[0m\u001b[0;34m\u001b[0m\u001b[0;34m\u001b[0m\u001b[0m\n\u001b[0m\u001b[1;32m      3\u001b[0m     \u001b[0mprint\u001b[0m\u001b[0;34m(\u001b[0m\u001b[0mday\u001b[0m\u001b[0;34m)\u001b[0m\u001b[0;34m\u001b[0m\u001b[0;34m\u001b[0m\u001b[0m\n\u001b[1;32m      4\u001b[0m     \u001b[0;32mfor\u001b[0m \u001b[0mtime\u001b[0m \u001b[0;32min\u001b[0m \u001b[0mtimeslots\u001b[0m\u001b[0;34m:\u001b[0m\u001b[0;34m\u001b[0m\u001b[0;34m\u001b[0m\u001b[0m\n\u001b[1;32m      5\u001b[0m         \u001b[0mprint\u001b[0m\u001b[0;34m(\u001b[0m\u001b[0;34mf'{time}: {timetable[(day, time)]}'\u001b[0m\u001b[0;34m)\u001b[0m\u001b[0;34m\u001b[0m\u001b[0;34m\u001b[0m\u001b[0m\n",
            "\u001b[0;31mNameError\u001b[0m: name 'weekdays' is not defined"
          ]
        }
      ]
    },
    {
      "cell_type": "code",
      "source": [],
      "metadata": {
        "id": "o8Jkxn6bfO9W"
      },
      "execution_count": null,
      "outputs": []
    },
    {
      "cell_type": "code",
      "source": [
        "\n",
        "           'Science': [('Tuesday', '8:00-9:00'), ('Thursday', '11:00-12:00')],\n",
        "           'English': [('Monday', '11:00-12:00'), ('Wednesday', '9:00-10:00'), ('Friday', '2:00-3:00')],\n",
        "           'History': [('Tuesday', '3:00-4:00'), ('Thursday', '2:00-3:00')],\n",
        "           'Geography': [('Monday', '3:00-4:00'), ('Wednesday', '2:00-3:00')],\n",
        "           'Computer Science': [('Tuesday', '10:00-11:00'), ('Thursday', '4:00-5:00')]}\n",
        "ourses = {'Maths': [('Monday', '9:00-10:00'), ('Wednesday', '10:00-11:00'), ('Friday', '8:00-9:00')],"
      ],
      "metadata": {
        "id": "ZQVTl5CERmnQ"
      },
      "execution_count": null,
      "outputs": []
    },
    {
      "cell_type": "code",
      "source": [],
      "metadata": {
        "id": "XYdaGbv3Rmhv"
      },
      "execution_count": null,
      "outputs": []
    },
    {
      "cell_type": "code",
      "source": [
        "list#code to fetch alternate elements\n",
        "list1 = [1,2,3,4,5,6,7,8,9,10]\n",
        "list2 = [20,21,22,23,24,25,26,27,28,29,30]\n",
        "alternate = list1[::2]\n",
        "even = list1[1:10:2]\n",
        "print(alternate)\n",
        "print(even)"
      ],
      "metadata": {
        "colab": {
          "base_uri": "https://localhost:8080/"
        },
        "id": "ZjQ51MXycpn6",
        "outputId": "42129cea-af2b-4340-f35a-cf403b8ee193"
      },
      "execution_count": null,
      "outputs": [
        {
          "output_type": "stream",
          "name": "stdout",
          "text": [
            "[1, 3, 5, 7, 9]\n",
            "[2, 4, 6, 8, 10]\n"
          ]
        }
      ]
    },
    {
      "cell_type": "code",
      "source": [
        "import pandas as pd\n",
        "def t(1)\n",
        "  return 1*10\n",
        "l = [1,2,3,4,5]\n",
        "df="
      ],
      "metadata": {
        "id": "gJoAl_3ges_p"
      },
      "execution_count": null,
      "outputs": []
    },
    {
      "cell_type": "code",
      "source": [
        "imp csvfile= open(\"/content/sal.csv\",\"r\") data= list(csv.reader(file))\n",
        "data.sort()\n",
        "print(data)\n",
        "file.close()\n",
        "file1 = open(\"/content/emp.csv\",\"r\")\n",
        "data1 list(csv.reader(file1))\n",
        "print(data1)\n",
        "#merging two files\n",
        "data2 []\n",
        "for i in range(len(data)): data2.append(data[i]+data[i])\n",
        "print(data2)\n",
        "print(data2[0])\n",
        "#sorting as per records\n",
        "data2.sort(key-lambda x: int(x[2]), reverse= True)\n",
        "print(data2)\n",
        "#converting list to csv file\n",
        "file2- open(\"/content/emp-sal.csv\",\"\")\n",
        "CM = CSV.writer(file2) cw.writerows(data2)\n",
        "file.close() file1.close()"
      ],
      "metadata": {
        "id": "M-n6UPkoQA2_"
      },
      "execution_count": null,
      "outputs": []
    },
    {
      "cell_type": "code",
      "source": [
        "import csv\n",
        "file= open(\")\n",
        "file= open()\n",
        "data= list(csv.reader(file))\n",
        "data.sort()\n",
        "print(data)\n",
        "file.close()\n",
        "file1 = open('/content/drive/MyDrive/EMPLOYEE.xlsx)\n",
        "data1 list(csv.reader(file1))\n",
        "print(data1)\n",
        "#merging two files\n",
        "data2 []\n",
        "for i in range(len(data)):\n",
        "   data2.append(data[i]+data[i])\n",
        "print(data2)\n",
        "print(data2[0])\n",
        "#sorting as per records\n",
        "data2.sort(key-lambda x: int(x[2]), reverse= True)\n",
        "print(data2)\n",
        "#converting list to csv file\n",
        "file2- open('/content/drive/MyDrive/EMPLOYEE.xlsx)\n",
        "cw = CSV.writer(file2)\n",
        " cw.writerows(data2)\n",
        "file.close()\n",
        " file1.close()\n",
        "file2.close()\n"
      ],
      "metadata": {
        "colab": {
          "base_uri": "https://localhost:8080/",
          "height": 130
        },
        "id": "UhuI5zlgXWk3",
        "outputId": "01b7f606-79a2-40e4-a614-9a1c401ab25a"
      },
      "execution_count": null,
      "outputs": [
        {
          "output_type": "error",
          "ename": "SyntaxError",
          "evalue": "ignored",
          "traceback": [
            "\u001b[0;36m  File \u001b[0;32m\"<ipython-input-3-27a5fb0ba78f>\"\u001b[0;36m, line \u001b[0;32m8\u001b[0m\n\u001b[0;31m    data1 list(csv.reader(file1))\u001b[0m\n\u001b[0m          ^\u001b[0m\n\u001b[0;31mSyntaxError\u001b[0m\u001b[0;31m:\u001b[0m invalid syntax\n"
          ]
        }
      ]
    },
    {
      "cell_type": "code",
      "source": [
        "import csv\n",
        "file= open(\"/content/drive/MyDrive/Salary.114-A1.csv\",\"r\")\n",
        "data = list(csv.reader(file))\n",
        "data.sort()\n",
        "print(data)\n",
        "file.close()\n",
        "file1 = open(\"/content/drive/MyDrive/employee.114-A1.csv\",\"r\")\n",
        "data1 = list(csv.reader(file1))\n",
        "print(data1)\n",
        "\n",
        "#merging two files\n",
        "data2 = []\n",
        "for i in range(len(data)):\n",
        "  data2.append(data[i]+data[i])\n",
        "print(data2)\n",
        "print(data2[0])\n",
        "\n",
        "#sorting as per records\n",
        "data2.sort()#(key-lambda x: int(x[2]), reverse- True)\n",
        "print(data2)\n",
        "\n",
        "#converting list to csv file\n",
        "file2 = open(\"/content/drive/MyDrive/new fresh.csv\",\"w\")\n",
        "cw = csv.writer(file2)\n",
        "cw.writerows(data2)\n",
        "file.close()\n",
        "file1.close()\n",
        "file2.close()"
      ],
      "metadata": {
        "id": "YtaYuXEHd0VD",
        "outputId": "064f493a-bc7c-44e0-8c91-94823e14b800",
        "colab": {
          "base_uri": "https://localhost:8080/"
        }
      },
      "execution_count": null,
      "outputs": [
        {
          "output_type": "stream",
          "name": "stdout",
          "text": [
            "[['Emp Name', 'Emp id', 'Salary'], ['Ganesh ', '1001', '25000'], ['Pratham', '1007', '15000'], ['Sanskruti', '1004', '60000'], ['Sayali', '1008', '55000'], ['Smruti', '1009', '80000'], ['Veera', '1003', '80000'], ['abhishek', '1002', '40000'], ['aditya', '1005', '50000'], ['samarth', '1006', '30000'], ['vipul', '1010', '100000']]\n",
            "[['Sr no.', 'Emp Name', 'Emp id', 'Date', 'Leaves'], ['1', 'Ganesh ', '1001', '21-01-2023', '2'], ['2', 'Abhishek ', '1002', '22-01-2023', '4'], ['3', 'Veera', '1003', '23-01-2023', '8'], ['4', 'Sanskruti', '1004', '24-01-2023', '6'], ['5', 'Archana', '1005', '25-01-2023', '1'], ['6', 'Aditya', '1006', '26-01-2023', '2'], ['7', 'samarth', '1007', '27-01-2023', '3'], ['8', 'Sayali', '1008', '28-01-2023', '5'], ['9', 'Smruti', '1009', '29-01-2023', '9'], ['10', 'Vipul', '1010', '30-01-2023', '7']]\n",
            "[['Emp Name', 'Emp id', 'Salary', 'Emp Name', 'Emp id', 'Salary'], ['Ganesh ', '1001', '25000', 'Ganesh ', '1001', '25000'], ['Pratham', '1007', '15000', 'Pratham', '1007', '15000'], ['Sanskruti', '1004', '60000', 'Sanskruti', '1004', '60000'], ['Sayali', '1008', '55000', 'Sayali', '1008', '55000'], ['Smruti', '1009', '80000', 'Smruti', '1009', '80000'], ['Veera', '1003', '80000', 'Veera', '1003', '80000'], ['abhishek', '1002', '40000', 'abhishek', '1002', '40000'], ['aditya', '1005', '50000', 'aditya', '1005', '50000'], ['samarth', '1006', '30000', 'samarth', '1006', '30000'], ['vipul', '1010', '100000', 'vipul', '1010', '100000']]\n",
            "['Emp Name', 'Emp id', 'Salary', 'Emp Name', 'Emp id', 'Salary']\n",
            "[['Emp Name', 'Emp id', 'Salary', 'Emp Name', 'Emp id', 'Salary'], ['Ganesh ', '1001', '25000', 'Ganesh ', '1001', '25000'], ['Pratham', '1007', '15000', 'Pratham', '1007', '15000'], ['Sanskruti', '1004', '60000', 'Sanskruti', '1004', '60000'], ['Sayali', '1008', '55000', 'Sayali', '1008', '55000'], ['Smruti', '1009', '80000', 'Smruti', '1009', '80000'], ['Veera', '1003', '80000', 'Veera', '1003', '80000'], ['abhishek', '1002', '40000', 'abhishek', '1002', '40000'], ['aditya', '1005', '50000', 'aditya', '1005', '50000'], ['samarth', '1006', '30000', 'samarth', '1006', '30000'], ['vipul', '1010', '100000', 'vipul', '1010', '100000']]\n"
          ]
        }
      ]
    },
    {
      "cell_type": "code",
      "source": [
        "import panda as pd\n",
        "df=pd.read_excle(\"/content/drive/mydrive/salary.xlsx\")\n",
        "a=df\n",
        "\n",
        "print (a.values.tolist())#convert the data frame into list\n",
        "\n",
        "df1 = pd.read_excle(r\"/content/drive/mydrive/salary.xlsx\")\n",
        "#print(df1)\n",
        "1 = list(df1.itertuples(index=false))\n",
        "\n",
        "\n"
      ],
      "metadata": {
        "colab": {
          "base_uri": "https://localhost:8080/"
        },
        "id": "HZad-dopsMLr",
        "outputId": "d19bc5e5-19f0-4532-8405-6cf35af6fd2d"
      },
      "execution_count": null,
      "outputs": [
        {
          "output_type": "error",
          "ename": "SyntaxError",
          "evalue": "ignored",
          "traceback": [
            "\u001b[0;36m  File \u001b[0;32m\"<ipython-input-1-e693434dcded>\"\u001b[0;36m, line \u001b[0;32m9\u001b[0m\n\u001b[0;31m    1 = list(df1.itertuples(index=false))\u001b[0m\n\u001b[0m    ^\u001b[0m\n\u001b[0;31mSyntaxError\u001b[0m\u001b[0;31m:\u001b[0m cannot assign to literal here. Maybe you meant '==' instead of '='?\n"
          ]
        }
      ]
    },
    {
      "cell_type": "code",
      "source": [
        "#To read the last element from each row.\n",
        "for i in range (matrix_length):\n",
        "  print(array[i][-1])"
      ],
      "metadata": {
        "id": "Y8FDSJAjaQCg",
        "colab": {
          "base_uri": "https://localhost:8080/",
          "height": 200
        },
        "outputId": "0143cc37-b39d-43ab-da28-3a886acc5697"
      },
      "execution_count": null,
      "outputs": [
        {
          "output_type": "error",
          "ename": "NameError",
          "evalue": "ignored",
          "traceback": [
            "\u001b[0;31m---------------------------------------------------------------------------\u001b[0m",
            "\u001b[0;31mNameError\u001b[0m                                 Traceback (most recent call last)",
            "\u001b[0;32m<ipython-input-6-119672a58760>\u001b[0m in \u001b[0;36m<cell line: 2>\u001b[0;34m()\u001b[0m\n\u001b[1;32m      1\u001b[0m \u001b[0;31m#To read the last element from each row.\u001b[0m\u001b[0;34m\u001b[0m\u001b[0;34m\u001b[0m\u001b[0m\n\u001b[0;32m----> 2\u001b[0;31m \u001b[0;32mfor\u001b[0m \u001b[0mi\u001b[0m \u001b[0;32min\u001b[0m \u001b[0mrange\u001b[0m \u001b[0;34m(\u001b[0m\u001b[0mmatrix_length\u001b[0m\u001b[0;34m)\u001b[0m\u001b[0;34m:\u001b[0m\u001b[0;34m\u001b[0m\u001b[0;34m\u001b[0m\u001b[0m\n\u001b[0m\u001b[1;32m      3\u001b[0m   \u001b[0mprint\u001b[0m\u001b[0;34m(\u001b[0m\u001b[0marray\u001b[0m\u001b[0;34m[\u001b[0m\u001b[0mi\u001b[0m\u001b[0;34m]\u001b[0m\u001b[0;34m[\u001b[0m\u001b[0;34m-\u001b[0m\u001b[0;36m1\u001b[0m\u001b[0;34m]\u001b[0m\u001b[0;34m)\u001b[0m\u001b[0;34m\u001b[0m\u001b[0;34m\u001b[0m\u001b[0m\n",
            "\u001b[0;31mNameError\u001b[0m: name 'matrix_length' is not defined"
          ]
        }
      ]
    },
    {
      "cell_type": "code",
      "source": [
        "# Array operations in python\n",
        "\n",
        "import pandas as pd\n",
        "import numpy as np\n",
        "df = pd.read_excel ('/content/emp.sal.xlsx', header=None)\n",
        "df1 = pd.read_excel('/content/emp.sal.xlsx', header=None)\n",
        "\n",
        "array = df.to_numpy()\n",
        "array1= df1.to_numpy()\n",
        "\n",
        "print(array)\n",
        "print (array1)"
      ],
      "metadata": {
        "colab": {
          "base_uri": "https://localhost:8080/"
        },
        "id": "7TvtSM0_zOuH",
        "outputId": "3aaa4a74-f248-4268-cb1a-c7c8364006a2"
      },
      "execution_count": null,
      "outputs": [
        {
          "output_type": "stream",
          "name": "stdout",
          "text": [
            "[['EMPID' 'EducationField' 'Salary ($)' 'YearsAtCompany']\n",
            " ['E00001' 'Life Sciences' 19479 6]\n",
            " ['E00002' 'Life Sciences' 24907 10]\n",
            " ['E00003' 'Other' 2396 0]\n",
            " ['E00004' 'Life Sciences' 23159 8]\n",
            " ['E00005' 'Medical' 16632 2]\n",
            " ['E00006' 'Life Sciences' 11864 7]\n",
            " ['E00007' 'Medical' 9964 1]\n",
            " ['E00008' 'Life Sciences' 13335 1]\n",
            " ['E00009' 'Life Sciences' 8787 9]\n",
            " ['E00010' 'Medical' 16577 7]\n",
            " ['E00011' 'Medical' 16479 5]\n",
            " ['E00012' 'Life Sciences' 12682 9]\n",
            " ['E00013' 'Life Sciences' 15170 5]\n",
            " ['E00014' 'Medical' 8758 2]\n",
            " ['E00015' 'Life Sciences' 12947 4]\n",
            " ['E00016' 'Life Sciences' 10195 10]\n",
            " ['E00017' 'Life Sciences' 15053 6]\n",
            " ['E00018' 'Medical' 7324 1]\n",
            " ['E00019' 'Life Sciences' 22021 25]\n",
            " ['E00020' 'Life Sciences' 4306 3]\n",
            " ['E00021' 'Other' 8232 4]\n",
            " ['E00022' 'Life Sciences' 6986 5]\n",
            " ['E00023' 'Life Sciences' 21293 12]\n",
            " ['E00024' 'Life Sciences' 19281 0]\n",
            " ['E00025' 'Medical' 17102 4]\n",
            " ['E00026' 'Other' 10735 14]\n",
            " ['E00027' 'Life Sciences' 4681 10]\n",
            " ['E00028' 'Marketing' 21173 9]\n",
            " ['E00029' 'Medical' 2094 22]\n",
            " ['E00030' 'Marketing' 22822 2]\n",
            " ['E00031' 'Medical' 6670 1]\n",
            " ['E00032' 'Other' 19121 4]\n",
            " ['E00033' 'Medical' 16117 10]\n",
            " ['E00034' 'Technical Degree' 3335 1]\n",
            " ['E00035' 'Medical' 3020 2]\n",
            " ['E00036' 'Medical' 21923 5]\n",
            " ['E00037' 'Marketing' 3810 3]\n",
            " ['E00038' 'Marketing' 9687 2]\n",
            " ['E00039' 'Life Sciences' 13072 1]\n",
            " ['E00040' 'Life Sciences' 3193 5]\n",
            " ['E00041' 'Other' 10910 1]]\n",
            "[['EMPID' 'EducationField' 'Salary ($)' 'YearsAtCompany']\n",
            " ['E00001' 'Life Sciences' 19479 6]\n",
            " ['E00002' 'Life Sciences' 24907 10]\n",
            " ['E00003' 'Other' 2396 0]\n",
            " ['E00004' 'Life Sciences' 23159 8]\n",
            " ['E00005' 'Medical' 16632 2]\n",
            " ['E00006' 'Life Sciences' 11864 7]\n",
            " ['E00007' 'Medical' 9964 1]\n",
            " ['E00008' 'Life Sciences' 13335 1]\n",
            " ['E00009' 'Life Sciences' 8787 9]\n",
            " ['E00010' 'Medical' 16577 7]\n",
            " ['E00011' 'Medical' 16479 5]\n",
            " ['E00012' 'Life Sciences' 12682 9]\n",
            " ['E00013' 'Life Sciences' 15170 5]\n",
            " ['E00014' 'Medical' 8758 2]\n",
            " ['E00015' 'Life Sciences' 12947 4]\n",
            " ['E00016' 'Life Sciences' 10195 10]\n",
            " ['E00017' 'Life Sciences' 15053 6]\n",
            " ['E00018' 'Medical' 7324 1]\n",
            " ['E00019' 'Life Sciences' 22021 25]\n",
            " ['E00020' 'Life Sciences' 4306 3]\n",
            " ['E00021' 'Other' 8232 4]\n",
            " ['E00022' 'Life Sciences' 6986 5]\n",
            " ['E00023' 'Life Sciences' 21293 12]\n",
            " ['E00024' 'Life Sciences' 19281 0]\n",
            " ['E00025' 'Medical' 17102 4]\n",
            " ['E00026' 'Other' 10735 14]\n",
            " ['E00027' 'Life Sciences' 4681 10]\n",
            " ['E00028' 'Marketing' 21173 9]\n",
            " ['E00029' 'Medical' 2094 22]\n",
            " ['E00030' 'Marketing' 22822 2]\n",
            " ['E00031' 'Medical' 6670 1]\n",
            " ['E00032' 'Other' 19121 4]\n",
            " ['E00033' 'Medical' 16117 10]\n",
            " ['E00034' 'Technical Degree' 3335 1]\n",
            " ['E00035' 'Medical' 3020 2]\n",
            " ['E00036' 'Medical' 21923 5]\n",
            " ['E00037' 'Marketing' 3810 3]\n",
            " ['E00038' 'Marketing' 9687 2]\n",
            " ['E00039' 'Life Sciences' 13072 1]\n",
            " ['E00040' 'Life Sciences' 3193 5]\n",
            " ['E00041' 'Other' 10910 1]]\n"
          ]
        }
      ]
    },
    {
      "cell_type": "code",
      "source": [],
      "metadata": {
        "id": "apwGiwe644j9"
      },
      "execution_count": null,
      "outputs": []
    },
    {
      "cell_type": "code",
      "source": [
        "from google.colab import drive\n",
        "drive.mount('/content/drive')"
      ],
      "metadata": {
        "colab": {
          "base_uri": "https://localhost:8080/"
        },
        "id": "kVA72Xc42aOI",
        "outputId": "a9657659-9d11-45a7-af5e-f2fe3b47ad6e"
      },
      "execution_count": null,
      "outputs": [
        {
          "output_type": "stream",
          "name": "stdout",
          "text": [
            "Drive already mounted at /content/drive; to attempt to forcibly remount, call drive.mount(\"/content/drive\", force_remount=True).\n"
          ]
        }
      ]
    },
    {
      "cell_type": "code",
      "source": [
        "import pandas as pd\n",
        "df=pd.read_csv('/content/drive/MyDrive/114-abhishek sengar,a1.csv')\n",
        "#df.set_index(\"date\",inplace=True)\n",
        "display(df)"
      ],
      "metadata": {
        "colab": {
          "base_uri": "https://localhost:8080/",
          "height": 645
        },
        "id": "MNGsA3FwiygZ",
        "outputId": "6bc63fd9-454f-443d-db32-f3576e23b6d7"
      },
      "execution_count": null,
      "outputs": [
        {
          "output_type": "display_data",
          "data": {
            "text/plain": [
              "                  field of study  duration        degree   salary expected  \\\n",
              "0                    engineering         4         b.tech                5   \n",
              "1                            law         3            llb               10   \n",
              "2                        medical         5           mbbs               15   \n",
              "3                       commerce         3          b.com                3   \n",
              "4                       teaching         3             ba                4   \n",
              "5           computer application         3            bca                4   \n",
              "6                      humanites         3             ba                3   \n",
              "7                           arts         3             ba                3   \n",
              "8                        diploma         6      b.diploma                3   \n",
              "9                    polytechnic         3  b.polytechnic                3   \n",
              "10                           iti         3          b.iti                3   \n",
              "11                     fine arts         2    b.fine arts                6   \n",
              "12   marketing in human resource         3            bba                6   \n",
              "13         internatinal business         3            bba                7   \n",
              "14                   hospitality         3            bba                6   \n",
              "15              entrepreneurship         3            bba                7   \n",
              "16                       tourism         3            bba                5   \n",
              "17                   agriculture         3            bba                6   \n",
              "18                 biotechnology         3            bsc                6   \n",
              "\n",
              "          masters  \n",
              "0          m.tech  \n",
              "1           m.llb  \n",
              "2             m.d  \n",
              "3           m.com  \n",
              "4         masters  \n",
              "5             mca  \n",
              "6              ma  \n",
              "7              ma  \n",
              "8       m.diploma  \n",
              "9   m.polytechnic  \n",
              "10         m,.iti  \n",
              "11    m.fine arts  \n",
              "12            mba  \n",
              "13            mba  \n",
              "14            mba  \n",
              "15            mba  \n",
              "16            mba  \n",
              "17            mba  \n",
              "18            msc  "
            ],
            "text/html": [
              "\n",
              "  <div id=\"df-af9325d5-0a28-4871-9b9b-d676b4c43086\">\n",
              "    <div class=\"colab-df-container\">\n",
              "      <div>\n",
              "<style scoped>\n",
              "    .dataframe tbody tr th:only-of-type {\n",
              "        vertical-align: middle;\n",
              "    }\n",
              "\n",
              "    .dataframe tbody tr th {\n",
              "        vertical-align: top;\n",
              "    }\n",
              "\n",
              "    .dataframe thead th {\n",
              "        text-align: right;\n",
              "    }\n",
              "</style>\n",
              "<table border=\"1\" class=\"dataframe\">\n",
              "  <thead>\n",
              "    <tr style=\"text-align: right;\">\n",
              "      <th></th>\n",
              "      <th>field of study</th>\n",
              "      <th>duration</th>\n",
              "      <th>degree</th>\n",
              "      <th>salary expected</th>\n",
              "      <th>masters</th>\n",
              "    </tr>\n",
              "  </thead>\n",
              "  <tbody>\n",
              "    <tr>\n",
              "      <th>0</th>\n",
              "      <td>engineering</td>\n",
              "      <td>4</td>\n",
              "      <td>b.tech</td>\n",
              "      <td>5</td>\n",
              "      <td>m.tech</td>\n",
              "    </tr>\n",
              "    <tr>\n",
              "      <th>1</th>\n",
              "      <td>law</td>\n",
              "      <td>3</td>\n",
              "      <td>llb</td>\n",
              "      <td>10</td>\n",
              "      <td>m.llb</td>\n",
              "    </tr>\n",
              "    <tr>\n",
              "      <th>2</th>\n",
              "      <td>medical</td>\n",
              "      <td>5</td>\n",
              "      <td>mbbs</td>\n",
              "      <td>15</td>\n",
              "      <td>m.d</td>\n",
              "    </tr>\n",
              "    <tr>\n",
              "      <th>3</th>\n",
              "      <td>commerce</td>\n",
              "      <td>3</td>\n",
              "      <td>b.com</td>\n",
              "      <td>3</td>\n",
              "      <td>m.com</td>\n",
              "    </tr>\n",
              "    <tr>\n",
              "      <th>4</th>\n",
              "      <td>teaching</td>\n",
              "      <td>3</td>\n",
              "      <td>ba</td>\n",
              "      <td>4</td>\n",
              "      <td>masters</td>\n",
              "    </tr>\n",
              "    <tr>\n",
              "      <th>5</th>\n",
              "      <td>computer application</td>\n",
              "      <td>3</td>\n",
              "      <td>bca</td>\n",
              "      <td>4</td>\n",
              "      <td>mca</td>\n",
              "    </tr>\n",
              "    <tr>\n",
              "      <th>6</th>\n",
              "      <td>humanites</td>\n",
              "      <td>3</td>\n",
              "      <td>ba</td>\n",
              "      <td>3</td>\n",
              "      <td>ma</td>\n",
              "    </tr>\n",
              "    <tr>\n",
              "      <th>7</th>\n",
              "      <td>arts</td>\n",
              "      <td>3</td>\n",
              "      <td>ba</td>\n",
              "      <td>3</td>\n",
              "      <td>ma</td>\n",
              "    </tr>\n",
              "    <tr>\n",
              "      <th>8</th>\n",
              "      <td>diploma</td>\n",
              "      <td>6</td>\n",
              "      <td>b.diploma</td>\n",
              "      <td>3</td>\n",
              "      <td>m.diploma</td>\n",
              "    </tr>\n",
              "    <tr>\n",
              "      <th>9</th>\n",
              "      <td>polytechnic</td>\n",
              "      <td>3</td>\n",
              "      <td>b.polytechnic</td>\n",
              "      <td>3</td>\n",
              "      <td>m.polytechnic</td>\n",
              "    </tr>\n",
              "    <tr>\n",
              "      <th>10</th>\n",
              "      <td>iti</td>\n",
              "      <td>3</td>\n",
              "      <td>b.iti</td>\n",
              "      <td>3</td>\n",
              "      <td>m,.iti</td>\n",
              "    </tr>\n",
              "    <tr>\n",
              "      <th>11</th>\n",
              "      <td>fine arts</td>\n",
              "      <td>2</td>\n",
              "      <td>b.fine arts</td>\n",
              "      <td>6</td>\n",
              "      <td>m.fine arts</td>\n",
              "    </tr>\n",
              "    <tr>\n",
              "      <th>12</th>\n",
              "      <td>marketing in human resource</td>\n",
              "      <td>3</td>\n",
              "      <td>bba</td>\n",
              "      <td>6</td>\n",
              "      <td>mba</td>\n",
              "    </tr>\n",
              "    <tr>\n",
              "      <th>13</th>\n",
              "      <td>internatinal business</td>\n",
              "      <td>3</td>\n",
              "      <td>bba</td>\n",
              "      <td>7</td>\n",
              "      <td>mba</td>\n",
              "    </tr>\n",
              "    <tr>\n",
              "      <th>14</th>\n",
              "      <td>hospitality</td>\n",
              "      <td>3</td>\n",
              "      <td>bba</td>\n",
              "      <td>6</td>\n",
              "      <td>mba</td>\n",
              "    </tr>\n",
              "    <tr>\n",
              "      <th>15</th>\n",
              "      <td>entrepreneurship</td>\n",
              "      <td>3</td>\n",
              "      <td>bba</td>\n",
              "      <td>7</td>\n",
              "      <td>mba</td>\n",
              "    </tr>\n",
              "    <tr>\n",
              "      <th>16</th>\n",
              "      <td>tourism</td>\n",
              "      <td>3</td>\n",
              "      <td>bba</td>\n",
              "      <td>5</td>\n",
              "      <td>mba</td>\n",
              "    </tr>\n",
              "    <tr>\n",
              "      <th>17</th>\n",
              "      <td>agriculture</td>\n",
              "      <td>3</td>\n",
              "      <td>bba</td>\n",
              "      <td>6</td>\n",
              "      <td>mba</td>\n",
              "    </tr>\n",
              "    <tr>\n",
              "      <th>18</th>\n",
              "      <td>biotechnology</td>\n",
              "      <td>3</td>\n",
              "      <td>bsc</td>\n",
              "      <td>6</td>\n",
              "      <td>msc</td>\n",
              "    </tr>\n",
              "  </tbody>\n",
              "</table>\n",
              "</div>\n",
              "      <button class=\"colab-df-convert\" onclick=\"convertToInteractive('df-af9325d5-0a28-4871-9b9b-d676b4c43086')\"\n",
              "              title=\"Convert this dataframe to an interactive table.\"\n",
              "              style=\"display:none;\">\n",
              "        \n",
              "  <svg xmlns=\"http://www.w3.org/2000/svg\" height=\"24px\"viewBox=\"0 0 24 24\"\n",
              "       width=\"24px\">\n",
              "    <path d=\"M0 0h24v24H0V0z\" fill=\"none\"/>\n",
              "    <path d=\"M18.56 5.44l.94 2.06.94-2.06 2.06-.94-2.06-.94-.94-2.06-.94 2.06-2.06.94zm-11 1L8.5 8.5l.94-2.06 2.06-.94-2.06-.94L8.5 2.5l-.94 2.06-2.06.94zm10 10l.94 2.06.94-2.06 2.06-.94-2.06-.94-.94-2.06-.94 2.06-2.06.94z\"/><path d=\"M17.41 7.96l-1.37-1.37c-.4-.4-.92-.59-1.43-.59-.52 0-1.04.2-1.43.59L10.3 9.45l-7.72 7.72c-.78.78-.78 2.05 0 2.83L4 21.41c.39.39.9.59 1.41.59.51 0 1.02-.2 1.41-.59l7.78-7.78 2.81-2.81c.8-.78.8-2.07 0-2.86zM5.41 20L4 18.59l7.72-7.72 1.47 1.35L5.41 20z\"/>\n",
              "  </svg>\n",
              "      </button>\n",
              "      \n",
              "  <style>\n",
              "    .colab-df-container {\n",
              "      display:flex;\n",
              "      flex-wrap:wrap;\n",
              "      gap: 12px;\n",
              "    }\n",
              "\n",
              "    .colab-df-convert {\n",
              "      background-color: #E8F0FE;\n",
              "      border: none;\n",
              "      border-radius: 50%;\n",
              "      cursor: pointer;\n",
              "      display: none;\n",
              "      fill: #1967D2;\n",
              "      height: 32px;\n",
              "      padding: 0 0 0 0;\n",
              "      width: 32px;\n",
              "    }\n",
              "\n",
              "    .colab-df-convert:hover {\n",
              "      background-color: #E2EBFA;\n",
              "      box-shadow: 0px 1px 2px rgba(60, 64, 67, 0.3), 0px 1px 3px 1px rgba(60, 64, 67, 0.15);\n",
              "      fill: #174EA6;\n",
              "    }\n",
              "\n",
              "    [theme=dark] .colab-df-convert {\n",
              "      background-color: #3B4455;\n",
              "      fill: #D2E3FC;\n",
              "    }\n",
              "\n",
              "    [theme=dark] .colab-df-convert:hover {\n",
              "      background-color: #434B5C;\n",
              "      box-shadow: 0px 1px 3px 1px rgba(0, 0, 0, 0.15);\n",
              "      filter: drop-shadow(0px 1px 2px rgba(0, 0, 0, 0.3));\n",
              "      fill: #FFFFFF;\n",
              "    }\n",
              "  </style>\n",
              "\n",
              "      <script>\n",
              "        const buttonEl =\n",
              "          document.querySelector('#df-af9325d5-0a28-4871-9b9b-d676b4c43086 button.colab-df-convert');\n",
              "        buttonEl.style.display =\n",
              "          google.colab.kernel.accessAllowed ? 'block' : 'none';\n",
              "\n",
              "        async function convertToInteractive(key) {\n",
              "          const element = document.querySelector('#df-af9325d5-0a28-4871-9b9b-d676b4c43086');\n",
              "          const dataTable =\n",
              "            await google.colab.kernel.invokeFunction('convertToInteractive',\n",
              "                                                     [key], {});\n",
              "          if (!dataTable) return;\n",
              "\n",
              "          const docLinkHtml = 'Like what you see? Visit the ' +\n",
              "            '<a target=\"_blank\" href=https://colab.research.google.com/notebooks/data_table.ipynb>data table notebook</a>'\n",
              "            + ' to learn more about interactive tables.';\n",
              "          element.innerHTML = '';\n",
              "          dataTable['output_type'] = 'display_data';\n",
              "          await google.colab.output.renderOutput(dataTable, element);\n",
              "          const docLink = document.createElement('div');\n",
              "          docLink.innerHTML = docLinkHtml;\n",
              "          element.appendChild(docLink);\n",
              "        }\n",
              "      </script>\n",
              "    </div>\n",
              "  </div>\n",
              "  "
            ]
          },
          "metadata": {}
        }
      ]
    },
    {
      "cell_type": "code",
      "source": [
        "#sort the record in ascending order\n",
        "import pandas as pa\n",
        "df.sort_values(by=['duration'])"
      ],
      "metadata": {
        "colab": {
          "base_uri": "https://localhost:8080/",
          "height": 645
        },
        "id": "DpCGjZz5lNlf",
        "outputId": "d31f4920-6032-4ee3-d00a-1dc10752a83f"
      },
      "execution_count": null,
      "outputs": [
        {
          "output_type": "execute_result",
          "data": {
            "text/plain": [
              "                  field of study  duration        degree   salary expected  \\\n",
              "11                     fine arts         2    b.fine arts                6   \n",
              "9                    polytechnic         3  b.polytechnic                3   \n",
              "16                       tourism         3            bba                5   \n",
              "15              entrepreneurship         3            bba                7   \n",
              "14                   hospitality         3            bba                6   \n",
              "13         internatinal business         3            bba                7   \n",
              "12   marketing in human resource         3            bba                6   \n",
              "10                           iti         3          b.iti                3   \n",
              "17                   agriculture         3            bba                6   \n",
              "18                 biotechnology         3            bsc                6   \n",
              "7                           arts         3             ba                3   \n",
              "6                      humanites         3             ba                3   \n",
              "5           computer application         3            bca                4   \n",
              "4                       teaching         3             ba                4   \n",
              "3                       commerce         3          b.com                3   \n",
              "1                            law         3            llb               10   \n",
              "0                    engineering         4         b.tech                5   \n",
              "2                        medical         5           mbbs               15   \n",
              "8                        diploma         6      b.diploma                3   \n",
              "\n",
              "          masters  \n",
              "11    m.fine arts  \n",
              "9   m.polytechnic  \n",
              "16            mba  \n",
              "15            mba  \n",
              "14            mba  \n",
              "13            mba  \n",
              "12            mba  \n",
              "10         m,.iti  \n",
              "17            mba  \n",
              "18            msc  \n",
              "7              ma  \n",
              "6              ma  \n",
              "5             mca  \n",
              "4         masters  \n",
              "3           m.com  \n",
              "1           m.llb  \n",
              "0          m.tech  \n",
              "2             m.d  \n",
              "8       m.diploma  "
            ],
            "text/html": [
              "\n",
              "  <div id=\"df-7db2adbb-7d6a-40bf-b038-8451d0a25dfa\">\n",
              "    <div class=\"colab-df-container\">\n",
              "      <div>\n",
              "<style scoped>\n",
              "    .dataframe tbody tr th:only-of-type {\n",
              "        vertical-align: middle;\n",
              "    }\n",
              "\n",
              "    .dataframe tbody tr th {\n",
              "        vertical-align: top;\n",
              "    }\n",
              "\n",
              "    .dataframe thead th {\n",
              "        text-align: right;\n",
              "    }\n",
              "</style>\n",
              "<table border=\"1\" class=\"dataframe\">\n",
              "  <thead>\n",
              "    <tr style=\"text-align: right;\">\n",
              "      <th></th>\n",
              "      <th>field of study</th>\n",
              "      <th>duration</th>\n",
              "      <th>degree</th>\n",
              "      <th>salary expected</th>\n",
              "      <th>masters</th>\n",
              "    </tr>\n",
              "  </thead>\n",
              "  <tbody>\n",
              "    <tr>\n",
              "      <th>11</th>\n",
              "      <td>fine arts</td>\n",
              "      <td>2</td>\n",
              "      <td>b.fine arts</td>\n",
              "      <td>6</td>\n",
              "      <td>m.fine arts</td>\n",
              "    </tr>\n",
              "    <tr>\n",
              "      <th>9</th>\n",
              "      <td>polytechnic</td>\n",
              "      <td>3</td>\n",
              "      <td>b.polytechnic</td>\n",
              "      <td>3</td>\n",
              "      <td>m.polytechnic</td>\n",
              "    </tr>\n",
              "    <tr>\n",
              "      <th>16</th>\n",
              "      <td>tourism</td>\n",
              "      <td>3</td>\n",
              "      <td>bba</td>\n",
              "      <td>5</td>\n",
              "      <td>mba</td>\n",
              "    </tr>\n",
              "    <tr>\n",
              "      <th>15</th>\n",
              "      <td>entrepreneurship</td>\n",
              "      <td>3</td>\n",
              "      <td>bba</td>\n",
              "      <td>7</td>\n",
              "      <td>mba</td>\n",
              "    </tr>\n",
              "    <tr>\n",
              "      <th>14</th>\n",
              "      <td>hospitality</td>\n",
              "      <td>3</td>\n",
              "      <td>bba</td>\n",
              "      <td>6</td>\n",
              "      <td>mba</td>\n",
              "    </tr>\n",
              "    <tr>\n",
              "      <th>13</th>\n",
              "      <td>internatinal business</td>\n",
              "      <td>3</td>\n",
              "      <td>bba</td>\n",
              "      <td>7</td>\n",
              "      <td>mba</td>\n",
              "    </tr>\n",
              "    <tr>\n",
              "      <th>12</th>\n",
              "      <td>marketing in human resource</td>\n",
              "      <td>3</td>\n",
              "      <td>bba</td>\n",
              "      <td>6</td>\n",
              "      <td>mba</td>\n",
              "    </tr>\n",
              "    <tr>\n",
              "      <th>10</th>\n",
              "      <td>iti</td>\n",
              "      <td>3</td>\n",
              "      <td>b.iti</td>\n",
              "      <td>3</td>\n",
              "      <td>m,.iti</td>\n",
              "    </tr>\n",
              "    <tr>\n",
              "      <th>17</th>\n",
              "      <td>agriculture</td>\n",
              "      <td>3</td>\n",
              "      <td>bba</td>\n",
              "      <td>6</td>\n",
              "      <td>mba</td>\n",
              "    </tr>\n",
              "    <tr>\n",
              "      <th>18</th>\n",
              "      <td>biotechnology</td>\n",
              "      <td>3</td>\n",
              "      <td>bsc</td>\n",
              "      <td>6</td>\n",
              "      <td>msc</td>\n",
              "    </tr>\n",
              "    <tr>\n",
              "      <th>7</th>\n",
              "      <td>arts</td>\n",
              "      <td>3</td>\n",
              "      <td>ba</td>\n",
              "      <td>3</td>\n",
              "      <td>ma</td>\n",
              "    </tr>\n",
              "    <tr>\n",
              "      <th>6</th>\n",
              "      <td>humanites</td>\n",
              "      <td>3</td>\n",
              "      <td>ba</td>\n",
              "      <td>3</td>\n",
              "      <td>ma</td>\n",
              "    </tr>\n",
              "    <tr>\n",
              "      <th>5</th>\n",
              "      <td>computer application</td>\n",
              "      <td>3</td>\n",
              "      <td>bca</td>\n",
              "      <td>4</td>\n",
              "      <td>mca</td>\n",
              "    </tr>\n",
              "    <tr>\n",
              "      <th>4</th>\n",
              "      <td>teaching</td>\n",
              "      <td>3</td>\n",
              "      <td>ba</td>\n",
              "      <td>4</td>\n",
              "      <td>masters</td>\n",
              "    </tr>\n",
              "    <tr>\n",
              "      <th>3</th>\n",
              "      <td>commerce</td>\n",
              "      <td>3</td>\n",
              "      <td>b.com</td>\n",
              "      <td>3</td>\n",
              "      <td>m.com</td>\n",
              "    </tr>\n",
              "    <tr>\n",
              "      <th>1</th>\n",
              "      <td>law</td>\n",
              "      <td>3</td>\n",
              "      <td>llb</td>\n",
              "      <td>10</td>\n",
              "      <td>m.llb</td>\n",
              "    </tr>\n",
              "    <tr>\n",
              "      <th>0</th>\n",
              "      <td>engineering</td>\n",
              "      <td>4</td>\n",
              "      <td>b.tech</td>\n",
              "      <td>5</td>\n",
              "      <td>m.tech</td>\n",
              "    </tr>\n",
              "    <tr>\n",
              "      <th>2</th>\n",
              "      <td>medical</td>\n",
              "      <td>5</td>\n",
              "      <td>mbbs</td>\n",
              "      <td>15</td>\n",
              "      <td>m.d</td>\n",
              "    </tr>\n",
              "    <tr>\n",
              "      <th>8</th>\n",
              "      <td>diploma</td>\n",
              "      <td>6</td>\n",
              "      <td>b.diploma</td>\n",
              "      <td>3</td>\n",
              "      <td>m.diploma</td>\n",
              "    </tr>\n",
              "  </tbody>\n",
              "</table>\n",
              "</div>\n",
              "      <button class=\"colab-df-convert\" onclick=\"convertToInteractive('df-7db2adbb-7d6a-40bf-b038-8451d0a25dfa')\"\n",
              "              title=\"Convert this dataframe to an interactive table.\"\n",
              "              style=\"display:none;\">\n",
              "        \n",
              "  <svg xmlns=\"http://www.w3.org/2000/svg\" height=\"24px\"viewBox=\"0 0 24 24\"\n",
              "       width=\"24px\">\n",
              "    <path d=\"M0 0h24v24H0V0z\" fill=\"none\"/>\n",
              "    <path d=\"M18.56 5.44l.94 2.06.94-2.06 2.06-.94-2.06-.94-.94-2.06-.94 2.06-2.06.94zm-11 1L8.5 8.5l.94-2.06 2.06-.94-2.06-.94L8.5 2.5l-.94 2.06-2.06.94zm10 10l.94 2.06.94-2.06 2.06-.94-2.06-.94-.94-2.06-.94 2.06-2.06.94z\"/><path d=\"M17.41 7.96l-1.37-1.37c-.4-.4-.92-.59-1.43-.59-.52 0-1.04.2-1.43.59L10.3 9.45l-7.72 7.72c-.78.78-.78 2.05 0 2.83L4 21.41c.39.39.9.59 1.41.59.51 0 1.02-.2 1.41-.59l7.78-7.78 2.81-2.81c.8-.78.8-2.07 0-2.86zM5.41 20L4 18.59l7.72-7.72 1.47 1.35L5.41 20z\"/>\n",
              "  </svg>\n",
              "      </button>\n",
              "      \n",
              "  <style>\n",
              "    .colab-df-container {\n",
              "      display:flex;\n",
              "      flex-wrap:wrap;\n",
              "      gap: 12px;\n",
              "    }\n",
              "\n",
              "    .colab-df-convert {\n",
              "      background-color: #E8F0FE;\n",
              "      border: none;\n",
              "      border-radius: 50%;\n",
              "      cursor: pointer;\n",
              "      display: none;\n",
              "      fill: #1967D2;\n",
              "      height: 32px;\n",
              "      padding: 0 0 0 0;\n",
              "      width: 32px;\n",
              "    }\n",
              "\n",
              "    .colab-df-convert:hover {\n",
              "      background-color: #E2EBFA;\n",
              "      box-shadow: 0px 1px 2px rgba(60, 64, 67, 0.3), 0px 1px 3px 1px rgba(60, 64, 67, 0.15);\n",
              "      fill: #174EA6;\n",
              "    }\n",
              "\n",
              "    [theme=dark] .colab-df-convert {\n",
              "      background-color: #3B4455;\n",
              "      fill: #D2E3FC;\n",
              "    }\n",
              "\n",
              "    [theme=dark] .colab-df-convert:hover {\n",
              "      background-color: #434B5C;\n",
              "      box-shadow: 0px 1px 3px 1px rgba(0, 0, 0, 0.15);\n",
              "      filter: drop-shadow(0px 1px 2px rgba(0, 0, 0, 0.3));\n",
              "      fill: #FFFFFF;\n",
              "    }\n",
              "  </style>\n",
              "\n",
              "      <script>\n",
              "        const buttonEl =\n",
              "          document.querySelector('#df-7db2adbb-7d6a-40bf-b038-8451d0a25dfa button.colab-df-convert');\n",
              "        buttonEl.style.display =\n",
              "          google.colab.kernel.accessAllowed ? 'block' : 'none';\n",
              "\n",
              "        async function convertToInteractive(key) {\n",
              "          const element = document.querySelector('#df-7db2adbb-7d6a-40bf-b038-8451d0a25dfa');\n",
              "          const dataTable =\n",
              "            await google.colab.kernel.invokeFunction('convertToInteractive',\n",
              "                                                     [key], {});\n",
              "          if (!dataTable) return;\n",
              "\n",
              "          const docLinkHtml = 'Like what you see? Visit the ' +\n",
              "            '<a target=\"_blank\" href=https://colab.research.google.com/notebooks/data_table.ipynb>data table notebook</a>'\n",
              "            + ' to learn more about interactive tables.';\n",
              "          element.innerHTML = '';\n",
              "          dataTable['output_type'] = 'display_data';\n",
              "          await google.colab.output.renderOutput(dataTable, element);\n",
              "          const docLink = document.createElement('div');\n",
              "          docLink.innerHTML = docLinkHtml;\n",
              "          element.appendChild(docLink);\n",
              "        }\n",
              "      </script>\n",
              "    </div>\n",
              "  </div>\n",
              "  "
            ]
          },
          "metadata": {},
          "execution_count": 5
        }
      ]
    },
    {
      "cell_type": "code",
      "source": [
        "#Sort the record in decending order\n",
        "df.sort_values(by=['duration'], ascending=False)"
      ],
      "metadata": {
        "colab": {
          "base_uri": "https://localhost:8080/",
          "height": 645
        },
        "id": "M1WGEPqqmpcC",
        "outputId": "54a065b6-2131-4933-9ad4-0d484b6fc937"
      },
      "execution_count": null,
      "outputs": [
        {
          "output_type": "execute_result",
          "data": {
            "text/plain": [
              "                  field of study  duration        degree   salary expected  \\\n",
              "8                        diploma         6      b.diploma                3   \n",
              "2                        medical         5           mbbs               15   \n",
              "0                    engineering         4         b.tech                5   \n",
              "10                           iti         3          b.iti                3   \n",
              "17                   agriculture         3            bba                6   \n",
              "16                       tourism         3            bba                5   \n",
              "15              entrepreneurship         3            bba                7   \n",
              "14                   hospitality         3            bba                6   \n",
              "13         internatinal business         3            bba                7   \n",
              "12   marketing in human resource         3            bba                6   \n",
              "9                    polytechnic         3  b.polytechnic                3   \n",
              "1                            law         3            llb               10   \n",
              "7                           arts         3             ba                3   \n",
              "6                      humanites         3             ba                3   \n",
              "5           computer application         3            bca                4   \n",
              "4                       teaching         3             ba                4   \n",
              "3                       commerce         3          b.com                3   \n",
              "18                 biotechnology         3            bsc                6   \n",
              "11                     fine arts         2    b.fine arts                6   \n",
              "\n",
              "          masters  \n",
              "8       m.diploma  \n",
              "2             m.d  \n",
              "0          m.tech  \n",
              "10         m,.iti  \n",
              "17            mba  \n",
              "16            mba  \n",
              "15            mba  \n",
              "14            mba  \n",
              "13            mba  \n",
              "12            mba  \n",
              "9   m.polytechnic  \n",
              "1           m.llb  \n",
              "7              ma  \n",
              "6              ma  \n",
              "5             mca  \n",
              "4         masters  \n",
              "3           m.com  \n",
              "18            msc  \n",
              "11    m.fine arts  "
            ],
            "text/html": [
              "\n",
              "  <div id=\"df-d1141a13-3ed2-4147-9fc5-b3ef5e5d03bf\">\n",
              "    <div class=\"colab-df-container\">\n",
              "      <div>\n",
              "<style scoped>\n",
              "    .dataframe tbody tr th:only-of-type {\n",
              "        vertical-align: middle;\n",
              "    }\n",
              "\n",
              "    .dataframe tbody tr th {\n",
              "        vertical-align: top;\n",
              "    }\n",
              "\n",
              "    .dataframe thead th {\n",
              "        text-align: right;\n",
              "    }\n",
              "</style>\n",
              "<table border=\"1\" class=\"dataframe\">\n",
              "  <thead>\n",
              "    <tr style=\"text-align: right;\">\n",
              "      <th></th>\n",
              "      <th>field of study</th>\n",
              "      <th>duration</th>\n",
              "      <th>degree</th>\n",
              "      <th>salary expected</th>\n",
              "      <th>masters</th>\n",
              "    </tr>\n",
              "  </thead>\n",
              "  <tbody>\n",
              "    <tr>\n",
              "      <th>8</th>\n",
              "      <td>diploma</td>\n",
              "      <td>6</td>\n",
              "      <td>b.diploma</td>\n",
              "      <td>3</td>\n",
              "      <td>m.diploma</td>\n",
              "    </tr>\n",
              "    <tr>\n",
              "      <th>2</th>\n",
              "      <td>medical</td>\n",
              "      <td>5</td>\n",
              "      <td>mbbs</td>\n",
              "      <td>15</td>\n",
              "      <td>m.d</td>\n",
              "    </tr>\n",
              "    <tr>\n",
              "      <th>0</th>\n",
              "      <td>engineering</td>\n",
              "      <td>4</td>\n",
              "      <td>b.tech</td>\n",
              "      <td>5</td>\n",
              "      <td>m.tech</td>\n",
              "    </tr>\n",
              "    <tr>\n",
              "      <th>10</th>\n",
              "      <td>iti</td>\n",
              "      <td>3</td>\n",
              "      <td>b.iti</td>\n",
              "      <td>3</td>\n",
              "      <td>m,.iti</td>\n",
              "    </tr>\n",
              "    <tr>\n",
              "      <th>17</th>\n",
              "      <td>agriculture</td>\n",
              "      <td>3</td>\n",
              "      <td>bba</td>\n",
              "      <td>6</td>\n",
              "      <td>mba</td>\n",
              "    </tr>\n",
              "    <tr>\n",
              "      <th>16</th>\n",
              "      <td>tourism</td>\n",
              "      <td>3</td>\n",
              "      <td>bba</td>\n",
              "      <td>5</td>\n",
              "      <td>mba</td>\n",
              "    </tr>\n",
              "    <tr>\n",
              "      <th>15</th>\n",
              "      <td>entrepreneurship</td>\n",
              "      <td>3</td>\n",
              "      <td>bba</td>\n",
              "      <td>7</td>\n",
              "      <td>mba</td>\n",
              "    </tr>\n",
              "    <tr>\n",
              "      <th>14</th>\n",
              "      <td>hospitality</td>\n",
              "      <td>3</td>\n",
              "      <td>bba</td>\n",
              "      <td>6</td>\n",
              "      <td>mba</td>\n",
              "    </tr>\n",
              "    <tr>\n",
              "      <th>13</th>\n",
              "      <td>internatinal business</td>\n",
              "      <td>3</td>\n",
              "      <td>bba</td>\n",
              "      <td>7</td>\n",
              "      <td>mba</td>\n",
              "    </tr>\n",
              "    <tr>\n",
              "      <th>12</th>\n",
              "      <td>marketing in human resource</td>\n",
              "      <td>3</td>\n",
              "      <td>bba</td>\n",
              "      <td>6</td>\n",
              "      <td>mba</td>\n",
              "    </tr>\n",
              "    <tr>\n",
              "      <th>9</th>\n",
              "      <td>polytechnic</td>\n",
              "      <td>3</td>\n",
              "      <td>b.polytechnic</td>\n",
              "      <td>3</td>\n",
              "      <td>m.polytechnic</td>\n",
              "    </tr>\n",
              "    <tr>\n",
              "      <th>1</th>\n",
              "      <td>law</td>\n",
              "      <td>3</td>\n",
              "      <td>llb</td>\n",
              "      <td>10</td>\n",
              "      <td>m.llb</td>\n",
              "    </tr>\n",
              "    <tr>\n",
              "      <th>7</th>\n",
              "      <td>arts</td>\n",
              "      <td>3</td>\n",
              "      <td>ba</td>\n",
              "      <td>3</td>\n",
              "      <td>ma</td>\n",
              "    </tr>\n",
              "    <tr>\n",
              "      <th>6</th>\n",
              "      <td>humanites</td>\n",
              "      <td>3</td>\n",
              "      <td>ba</td>\n",
              "      <td>3</td>\n",
              "      <td>ma</td>\n",
              "    </tr>\n",
              "    <tr>\n",
              "      <th>5</th>\n",
              "      <td>computer application</td>\n",
              "      <td>3</td>\n",
              "      <td>bca</td>\n",
              "      <td>4</td>\n",
              "      <td>mca</td>\n",
              "    </tr>\n",
              "    <tr>\n",
              "      <th>4</th>\n",
              "      <td>teaching</td>\n",
              "      <td>3</td>\n",
              "      <td>ba</td>\n",
              "      <td>4</td>\n",
              "      <td>masters</td>\n",
              "    </tr>\n",
              "    <tr>\n",
              "      <th>3</th>\n",
              "      <td>commerce</td>\n",
              "      <td>3</td>\n",
              "      <td>b.com</td>\n",
              "      <td>3</td>\n",
              "      <td>m.com</td>\n",
              "    </tr>\n",
              "    <tr>\n",
              "      <th>18</th>\n",
              "      <td>biotechnology</td>\n",
              "      <td>3</td>\n",
              "      <td>bsc</td>\n",
              "      <td>6</td>\n",
              "      <td>msc</td>\n",
              "    </tr>\n",
              "    <tr>\n",
              "      <th>11</th>\n",
              "      <td>fine arts</td>\n",
              "      <td>2</td>\n",
              "      <td>b.fine arts</td>\n",
              "      <td>6</td>\n",
              "      <td>m.fine arts</td>\n",
              "    </tr>\n",
              "  </tbody>\n",
              "</table>\n",
              "</div>\n",
              "      <button class=\"colab-df-convert\" onclick=\"convertToInteractive('df-d1141a13-3ed2-4147-9fc5-b3ef5e5d03bf')\"\n",
              "              title=\"Convert this dataframe to an interactive table.\"\n",
              "              style=\"display:none;\">\n",
              "        \n",
              "  <svg xmlns=\"http://www.w3.org/2000/svg\" height=\"24px\"viewBox=\"0 0 24 24\"\n",
              "       width=\"24px\">\n",
              "    <path d=\"M0 0h24v24H0V0z\" fill=\"none\"/>\n",
              "    <path d=\"M18.56 5.44l.94 2.06.94-2.06 2.06-.94-2.06-.94-.94-2.06-.94 2.06-2.06.94zm-11 1L8.5 8.5l.94-2.06 2.06-.94-2.06-.94L8.5 2.5l-.94 2.06-2.06.94zm10 10l.94 2.06.94-2.06 2.06-.94-2.06-.94-.94-2.06-.94 2.06-2.06.94z\"/><path d=\"M17.41 7.96l-1.37-1.37c-.4-.4-.92-.59-1.43-.59-.52 0-1.04.2-1.43.59L10.3 9.45l-7.72 7.72c-.78.78-.78 2.05 0 2.83L4 21.41c.39.39.9.59 1.41.59.51 0 1.02-.2 1.41-.59l7.78-7.78 2.81-2.81c.8-.78.8-2.07 0-2.86zM5.41 20L4 18.59l7.72-7.72 1.47 1.35L5.41 20z\"/>\n",
              "  </svg>\n",
              "      </button>\n",
              "      \n",
              "  <style>\n",
              "    .colab-df-container {\n",
              "      display:flex;\n",
              "      flex-wrap:wrap;\n",
              "      gap: 12px;\n",
              "    }\n",
              "\n",
              "    .colab-df-convert {\n",
              "      background-color: #E8F0FE;\n",
              "      border: none;\n",
              "      border-radius: 50%;\n",
              "      cursor: pointer;\n",
              "      display: none;\n",
              "      fill: #1967D2;\n",
              "      height: 32px;\n",
              "      padding: 0 0 0 0;\n",
              "      width: 32px;\n",
              "    }\n",
              "\n",
              "    .colab-df-convert:hover {\n",
              "      background-color: #E2EBFA;\n",
              "      box-shadow: 0px 1px 2px rgba(60, 64, 67, 0.3), 0px 1px 3px 1px rgba(60, 64, 67, 0.15);\n",
              "      fill: #174EA6;\n",
              "    }\n",
              "\n",
              "    [theme=dark] .colab-df-convert {\n",
              "      background-color: #3B4455;\n",
              "      fill: #D2E3FC;\n",
              "    }\n",
              "\n",
              "    [theme=dark] .colab-df-convert:hover {\n",
              "      background-color: #434B5C;\n",
              "      box-shadow: 0px 1px 3px 1px rgba(0, 0, 0, 0.15);\n",
              "      filter: drop-shadow(0px 1px 2px rgba(0, 0, 0, 0.3));\n",
              "      fill: #FFFFFF;\n",
              "    }\n",
              "  </style>\n",
              "\n",
              "      <script>\n",
              "        const buttonEl =\n",
              "          document.querySelector('#df-d1141a13-3ed2-4147-9fc5-b3ef5e5d03bf button.colab-df-convert');\n",
              "        buttonEl.style.display =\n",
              "          google.colab.kernel.accessAllowed ? 'block' : 'none';\n",
              "\n",
              "        async function convertToInteractive(key) {\n",
              "          const element = document.querySelector('#df-d1141a13-3ed2-4147-9fc5-b3ef5e5d03bf');\n",
              "          const dataTable =\n",
              "            await google.colab.kernel.invokeFunction('convertToInteractive',\n",
              "                                                     [key], {});\n",
              "          if (!dataTable) return;\n",
              "\n",
              "          const docLinkHtml = 'Like what you see? Visit the ' +\n",
              "            '<a target=\"_blank\" href=https://colab.research.google.com/notebooks/data_table.ipynb>data table notebook</a>'\n",
              "            + ' to learn more about interactive tables.';\n",
              "          element.innerHTML = '';\n",
              "          dataTable['output_type'] = 'display_data';\n",
              "          await google.colab.output.renderOutput(dataTable, element);\n",
              "          const docLink = document.createElement('div');\n",
              "          docLink.innerHTML = docLinkHtml;\n",
              "          element.appendChild(docLink);\n",
              "        }\n",
              "      </script>\n",
              "    </div>\n",
              "  </div>\n",
              "  "
            ]
          },
          "metadata": {},
          "execution_count": 6
        }
      ]
    },
    {
      "cell_type": "code",
      "source": [
        "import pandas as pd\n",
        "df=pd.read_csv('/content/drive/MyDrive/ABHISHEK 114-a1.csv')\n",
        "b=pd.DataFrame(df)\n",
        "print(b)\n"
      ],
      "metadata": {
        "id": "PogXZo9Cm11q",
        "colab": {
          "base_uri": "https://localhost:8080/"
        },
        "outputId": "b1dc2c34-7eb2-497b-e7e4-f74128fb13de"
      },
      "execution_count": null,
      "outputs": [
        {
          "output_type": "stream",
          "name": "stdout",
          "text": [
            "   Sr.no      Name              Hobby  div  roll no  HOURS SPENT\n",
            "0      1  Abhishek          sketching  A-1      114          1.5\n",
            "1      2     rohan              chess  A-1      178          1.0\n",
            "2      3     vipul    playing cricket  A-1      120          3.0\n",
            "3      4   samarth   playing football  A-1      106          3.0\n",
            "4      5    suyash             gaming  A-1      109          1.0\n",
            "5      6    paresh  playing badminton  A-1      104          2.0\n",
            "6      7     rahul    playing cricket  A-1      105          2.5\n",
            "7      8   atharva        playing t.t  A-1      112          1.5\n",
            "8      9    tanmay             coding  A-1      118          1.0\n",
            "9     10     sagar             gaming  A-1      111          1.5\n"
          ]
        }
      ]
    },
    {
      "cell_type": "code",
      "source": [
        "a=df['roll no']\n",
        "print(a)"
      ],
      "metadata": {
        "colab": {
          "base_uri": "https://localhost:8080/"
        },
        "id": "pKWRYfcM4oON",
        "outputId": "05b1dd1b-6c83-44ac-a7d8-5ba9581b151b"
      },
      "execution_count": null,
      "outputs": [
        {
          "output_type": "stream",
          "name": "stdout",
          "text": [
            "0    114\n",
            "1    178\n",
            "2    120\n",
            "3    106\n",
            "4    109\n",
            "5    104\n",
            "6    105\n",
            "7    112\n",
            "8    118\n",
            "9    111\n",
            "Name: roll no, dtype: int64\n"
          ]
        }
      ]
    },
    {
      "cell_type": "code",
      "source": [
        "print(b[['Name','roll no']])\n",
        "g=df.columns.tolist()\n",
        "print(g)"
      ],
      "metadata": {
        "colab": {
          "base_uri": "https://localhost:8080/"
        },
        "id": "IGyEfD2l4sJ7",
        "outputId": "8ebfb4f3-e8d7-4626-b3f3-4be0f97ab1c0"
      },
      "execution_count": null,
      "outputs": [
        {
          "output_type": "stream",
          "name": "stdout",
          "text": [
            "       Name  roll no\n",
            "0  Abhishek      114\n",
            "1     rohan      178\n",
            "2     vipul      120\n",
            "3   samarth      106\n",
            "4    suyash      109\n",
            "5    paresh      104\n",
            "6     rahul      105\n",
            "7   atharva      112\n",
            "8    tanmay      118\n",
            "9     sagar      111\n",
            "['Sr.no', 'Name', 'Hobby', 'div', 'roll no', 'HOURS SPENT']\n"
          ]
        }
      ]
    },
    {
      "cell_type": "code",
      "source": [
        "z=df['Name'].value_counts()\n",
        "print(z)"
      ],
      "metadata": {
        "colab": {
          "base_uri": "https://localhost:8080/"
        },
        "id": "jZPJi7F75CWy",
        "outputId": "047a651c-5682-4356-e0f1-62f1c74b015e"
      },
      "execution_count": null,
      "outputs": [
        {
          "output_type": "stream",
          "name": "stdout",
          "text": [
            "Abhishek    1\n",
            "rohan       1\n",
            "vipul       1\n",
            "samarth     1\n",
            "suyash      1\n",
            "paresh      1\n",
            "rahul       1\n",
            "atharva     1\n",
            "tanmay      1\n",
            "sagar       1\n",
            "Name: Name, dtype: int64\n"
          ]
        }
      ]
    },
    {
      "cell_type": "code",
      "source": [
        "x=df['Sr.no'].value_counts()[1]\n",
        "print(x)"
      ],
      "metadata": {
        "colab": {
          "base_uri": "https://localhost:8080/"
        },
        "id": "MQKw63a-5I7d",
        "outputId": "ec68db09-04bc-47b2-e901-5eaf35b3ddc9"
      },
      "execution_count": null,
      "outputs": [
        {
          "output_type": "stream",
          "name": "stdout",
          "text": [
            "1\n"
          ]
        }
      ]
    },
    {
      "cell_type": "code",
      "source": [
        "from sqlalchemy import true\n",
        "s=df.sort_values(by='roll no',ascending=True)\n",
        "print(s)"
      ],
      "metadata": {
        "id": "jZdcy2tf5RxS",
        "outputId": "e4416e33-3b65-4f2f-b35d-65a1b43be2a2",
        "colab": {
          "base_uri": "https://localhost:8080/"
        }
      },
      "execution_count": null,
      "outputs": [
        {
          "output_type": "stream",
          "name": "stdout",
          "text": [
            "   Sr.no      Name              Hobby  div  roll no  HOURS SPENT\n",
            "5      6    paresh  playing badminton  A-1      104          2.0\n",
            "6      7     rahul    playing cricket  A-1      105          2.5\n",
            "3      4   samarth   playing football  A-1      106          3.0\n",
            "4      5    suyash             gaming  A-1      109          1.0\n",
            "9     10     sagar             gaming  A-1      111          1.5\n",
            "7      8   atharva        playing t.t  A-1      112          1.5\n",
            "0      1  Abhishek          sketching  A-1      114          1.5\n",
            "8      9    tanmay             coding  A-1      118          1.0\n",
            "2      3     vipul    playing cricket  A-1      120          3.0\n",
            "1      2     rohan              chess  A-1      178          1.0\n"
          ]
        }
      ]
    },
    {
      "cell_type": "code",
      "source": [
        "import matplotlib.pyplot as plt\n",
        "import numpy as np\n",
        "\n",
        "xpoints = np.array([0, 6])\n",
        "ypoints =np.array([0, 250])\n",
        "\n",
        "plt.plot(xpoints, ypoints)\n",
        "plt.show()"
      ],
      "metadata": {
        "id": "8H7vVz4dB0Fk",
        "colab": {
          "base_uri": "https://localhost:8080/",
          "height": 430
        },
        "outputId": "6983b04e-76be-48e9-a4be-b80e0f0cc76b"
      },
      "execution_count": null,
      "outputs": [
        {
          "output_type": "display_data",
          "data": {
            "text/plain": [
              "<Figure size 640x480 with 1 Axes>"
            ],
            "image/png": "[encoded data removed]"
          },
          "metadata": {}
        }
      ]
    },
    {
      "cell_type": "code",
      "source": [
        "import pandas as pd\n",
        "\n",
        "df= pd.read_csv('/content/drive/MyDrive/agri.a1.eds.csv')\n",
        "\n",
        "\n",
        "print(df)\n"
      ],
      "metadata": {
        "colab": {
          "base_uri": "https://localhost:8080/",
          "height": 293
        },
        "id": "LV3CVLP84YAs",
        "outputId": "31b5de2c-8cfb-4b4d-ca1c-ff221447b76d"
      },
      "execution_count": null,
      "outputs": [
        {
          "output_type": "error",
          "ename": "UnicodeDecodeError",
          "evalue": "ignored",
          "traceback": [
            "\u001b[0;31m---------------------------------------------------------------------------\u001b[0m",
            "\u001b[0;31mUnicodeDecodeError\u001b[0m                        Traceback (most recent call last)",
            "\u001b[0;32m<ipython-input-7-ffccd124792c>\u001b[0m in \u001b[0;36m<cell line: 3>\u001b[0;34m()\u001b[0m\n\u001b[1;32m      1\u001b[0m \u001b[0;32mimport\u001b[0m \u001b[0mpandas\u001b[0m \u001b[0;32mas\u001b[0m \u001b[0mpd\u001b[0m\u001b[0;34m\u001b[0m\u001b[0;34m\u001b[0m\u001b[0m\n\u001b[1;32m      2\u001b[0m \u001b[0;34m\u001b[0m\u001b[0m\n\u001b[0;32m----> 3\u001b[0;31m \u001b[0mdf\u001b[0m\u001b[0;34m=\u001b[0m \u001b[0mpd\u001b[0m\u001b[0;34m.\u001b[0m\u001b[0mread_csv\u001b[0m\u001b[0;34m(\u001b[0m\u001b[0;34m'/content/drive/MyDrive/agri.a1.eds.csv'\u001b[0m\u001b[0;34m)\u001b[0m\u001b[0;34m\u001b[0m\u001b[0;34m\u001b[0m\u001b[0m\n\u001b[0m\u001b[1;32m      4\u001b[0m \u001b[0;34m\u001b[0m\u001b[0m\n\u001b[1;32m      5\u001b[0m \u001b[0;34m\u001b[0m\u001b[0m\n",
            "\u001b[0;32m/usr/local/lib/python3.10/dist-packages/pandas/util/_decorators.py\u001b[0m in \u001b[0;36mwrapper\u001b[0;34m(*args, **kwargs)\u001b[0m\n\u001b[1;32m    209\u001b[0m                 \u001b[0;32melse\u001b[0m\u001b[0;34m:\u001b[0m\u001b[0;34m\u001b[0m\u001b[0;34m\u001b[0m\u001b[0m\n\u001b[1;32m    210\u001b[0m                     \u001b[0mkwargs\u001b[0m\u001b[0;34m[\u001b[0m\u001b[0mnew_arg_name\u001b[0m\u001b[0;34m]\u001b[0m \u001b[0;34m=\u001b[0m \u001b[0mnew_arg_value\u001b[0m\u001b[0;34m\u001b[0m\u001b[0;34m\u001b[0m\u001b[0m\n\u001b[0;32m--> 211\u001b[0;31m             \u001b[0;32mreturn\u001b[0m \u001b[0mfunc\u001b[0m\u001b[0;34m(\u001b[0m\u001b[0;34m*\u001b[0m\u001b[0margs\u001b[0m\u001b[0;34m,\u001b[0m \u001b[0;34m**\u001b[0m\u001b[0mkwargs\u001b[0m\u001b[0;34m)\u001b[0m\u001b[0;34m\u001b[0m\u001b[0;34m\u001b[0m\u001b[0m\n\u001b[0m\u001b[1;32m    212\u001b[0m \u001b[0;34m\u001b[0m\u001b[0m\n\u001b[1;32m    213\u001b[0m         \u001b[0;32mreturn\u001b[0m \u001b[0mcast\u001b[0m\u001b[0;34m(\u001b[0m\u001b[0mF\u001b[0m\u001b[0;34m,\u001b[0m \u001b[0mwrapper\u001b[0m\u001b[0;34m)\u001b[0m\u001b[0;34m\u001b[0m\u001b[0;34m\u001b[0m\u001b[0m\n",
            "\u001b[0;32m/usr/local/lib/python3.10/dist-packages/pandas/util/_decorators.py\u001b[0m in \u001b[0;36mwrapper\u001b[0;34m(*args, **kwargs)\u001b[0m\n\u001b[1;32m    329\u001b[0m                     \u001b[0mstacklevel\u001b[0m\u001b[0;34m=\u001b[0m\u001b[0mfind_stack_level\u001b[0m\u001b[0;34m(\u001b[0m\u001b[0;34m)\u001b[0m\u001b[0;34m,\u001b[0m\u001b[0;34m\u001b[0m\u001b[0;34m\u001b[0m\u001b[0m\n\u001b[1;32m    330\u001b[0m                 )\n\u001b[0;32m--> 331\u001b[0;31m             \u001b[0;32mreturn\u001b[0m \u001b[0mfunc\u001b[0m\u001b[0;34m(\u001b[0m\u001b[0;34m*\u001b[0m\u001b[0margs\u001b[0m\u001b[0;34m,\u001b[0m \u001b[0;34m**\u001b[0m\u001b[0mkwargs\u001b[0m\u001b[0;34m)\u001b[0m\u001b[0;34m\u001b[0m\u001b[0;34m\u001b[0m\u001b[0m\n\u001b[0m\u001b[1;32m    332\u001b[0m \u001b[0;34m\u001b[0m\u001b[0m\n\u001b[1;32m    333\u001b[0m         \u001b[0;31m# error: \"Callable[[VarArg(Any), KwArg(Any)], Any]\" has no\u001b[0m\u001b[0;34m\u001b[0m\u001b[0;34m\u001b[0m\u001b[0m\n",
            "\u001b[0;32m/usr/local/lib/python3.10/dist-packages/pandas/io/parsers/readers.py\u001b[0m in \u001b[0;36mread_csv\u001b[0;34m(filepath_or_buffer, sep, delimiter, header, names, index_col, usecols, squeeze, prefix, mangle_dupe_cols, dtype, engine, converters, true_values, false_values, skipinitialspace, skiprows, skipfooter, nrows, na_values, keep_default_na, na_filter, verbose, skip_blank_lines, parse_dates, infer_datetime_format, keep_date_col, date_parser, dayfirst, cache_dates, iterator, chunksize, compression, thousands, decimal, lineterminator, quotechar, quoting, doublequote, escapechar, comment, encoding, encoding_errors, dialect, error_bad_lines, warn_bad_lines, on_bad_lines, delim_whitespace, low_memory, memory_map, float_precision, storage_options)\u001b[0m\n\u001b[1;32m    948\u001b[0m     \u001b[0mkwds\u001b[0m\u001b[0;34m.\u001b[0m\u001b[0mupdate\u001b[0m\u001b[0;34m(\u001b[0m\u001b[0mkwds_defaults\u001b[0m\u001b[0;34m)\u001b[0m\u001b[0;34m\u001b[0m\u001b[0;34m\u001b[0m\u001b[0m\n\u001b[1;32m    949\u001b[0m \u001b[0;34m\u001b[0m\u001b[0m\n\u001b[0;32m--> 950\u001b[0;31m     \u001b[0;32mreturn\u001b[0m \u001b[0m_read\u001b[0m\u001b[0;34m(\u001b[0m\u001b[0mfilepath_or_buffer\u001b[0m\u001b[0;34m,\u001b[0m \u001b[0mkwds\u001b[0m\u001b[0;34m)\u001b[0m\u001b[0;34m\u001b[0m\u001b[0;34m\u001b[0m\u001b[0m\n\u001b[0m\u001b[1;32m    951\u001b[0m \u001b[0;34m\u001b[0m\u001b[0m\n\u001b[1;32m    952\u001b[0m \u001b[0;34m\u001b[0m\u001b[0m\n",
            "\u001b[0;32m/usr/local/lib/python3.10/dist-packages/pandas/io/parsers/readers.py\u001b[0m in \u001b[0;36m_read\u001b[0;34m(filepath_or_buffer, kwds)\u001b[0m\n\u001b[1;32m    603\u001b[0m \u001b[0;34m\u001b[0m\u001b[0m\n\u001b[1;32m    604\u001b[0m     \u001b[0;31m# Create the parser.\u001b[0m\u001b[0;34m\u001b[0m\u001b[0;34m\u001b[0m\u001b[0m\n\u001b[0;32m--> 605\u001b[0;31m     \u001b[0mparser\u001b[0m \u001b[0;34m=\u001b[0m \u001b[0mTextFileReader\u001b[0m\u001b[0;34m(\u001b[0m\u001b[0mfilepath_or_buffer\u001b[0m\u001b[0;34m,\u001b[0m \u001b[0;34m**\u001b[0m\u001b[0mkwds\u001b[0m\u001b[0;34m)\u001b[0m\u001b[0;34m\u001b[0m\u001b[0;34m\u001b[0m\u001b[0m\n\u001b[0m\u001b[1;32m    606\u001b[0m \u001b[0;34m\u001b[0m\u001b[0m\n\u001b[1;32m    607\u001b[0m     \u001b[0;32mif\u001b[0m \u001b[0mchunksize\u001b[0m \u001b[0;32mor\u001b[0m \u001b[0miterator\u001b[0m\u001b[0;34m:\u001b[0m\u001b[0;34m\u001b[0m\u001b[0;34m\u001b[0m\u001b[0m\n",
            "\u001b[0;32m/usr/local/lib/python3.10/dist-packages/pandas/io/parsers/readers.py\u001b[0m in \u001b[0;36m__init__\u001b[0;34m(self, f, engine, **kwds)\u001b[0m\n\u001b[1;32m   1440\u001b[0m \u001b[0;34m\u001b[0m\u001b[0m\n\u001b[1;32m   1441\u001b[0m         \u001b[0mself\u001b[0m\u001b[0;34m.\u001b[0m\u001b[0mhandles\u001b[0m\u001b[0;34m:\u001b[0m \u001b[0mIOHandles\u001b[0m \u001b[0;34m|\u001b[0m \u001b[0;32mNone\u001b[0m \u001b[0;34m=\u001b[0m \u001b[0;32mNone\u001b[0m\u001b[0;34m\u001b[0m\u001b[0;34m\u001b[0m\u001b[0m\n\u001b[0;32m-> 1442\u001b[0;31m         \u001b[0mself\u001b[0m\u001b[0;34m.\u001b[0m\u001b[0m_engine\u001b[0m \u001b[0;34m=\u001b[0m \u001b[0mself\u001b[0m\u001b[0;34m.\u001b[0m\u001b[0m_make_engine\u001b[0m\u001b[0;34m(\u001b[0m\u001b[0mf\u001b[0m\u001b[0;34m,\u001b[0m \u001b[0mself\u001b[0m\u001b[0;34m.\u001b[0m\u001b[0mengine\u001b[0m\u001b[0;34m)\u001b[0m\u001b[0;34m\u001b[0m\u001b[0;34m\u001b[0m\u001b[0m\n\u001b[0m\u001b[1;32m   1443\u001b[0m \u001b[0;34m\u001b[0m\u001b[0m\n\u001b[1;32m   1444\u001b[0m     \u001b[0;32mdef\u001b[0m \u001b[0mclose\u001b[0m\u001b[0;34m(\u001b[0m\u001b[0mself\u001b[0m\u001b[0;34m)\u001b[0m \u001b[0;34m->\u001b[0m \u001b[0;32mNone\u001b[0m\u001b[0;34m:\u001b[0m\u001b[0;34m\u001b[0m\u001b[0;34m\u001b[0m\u001b[0m\n",
            "\u001b[0;32m/usr/local/lib/python3.10/dist-packages/pandas/io/parsers/readers.py\u001b[0m in \u001b[0;36m_make_engine\u001b[0;34m(self, f, engine)\u001b[0m\n\u001b[1;32m   1751\u001b[0m \u001b[0;34m\u001b[0m\u001b[0m\n\u001b[1;32m   1752\u001b[0m         \u001b[0;32mtry\u001b[0m\u001b[0;34m:\u001b[0m\u001b[0;34m\u001b[0m\u001b[0;34m\u001b[0m\u001b[0m\n\u001b[0;32m-> 1753\u001b[0;31m             \u001b[0;32mreturn\u001b[0m \u001b[0mmapping\u001b[0m\u001b[0;34m[\u001b[0m\u001b[0mengine\u001b[0m\u001b[0;34m]\u001b[0m\u001b[0;34m(\u001b[0m\u001b[0mf\u001b[0m\u001b[0;34m,\u001b[0m \u001b[0;34m**\u001b[0m\u001b[0mself\u001b[0m\u001b[0;34m.\u001b[0m\u001b[0moptions\u001b[0m\u001b[0;34m)\u001b[0m\u001b[0;34m\u001b[0m\u001b[0;34m\u001b[0m\u001b[0m\n\u001b[0m\u001b[1;32m   1754\u001b[0m         \u001b[0;32mexcept\u001b[0m \u001b[0mException\u001b[0m\u001b[0;34m:\u001b[0m\u001b[0;34m\u001b[0m\u001b[0;34m\u001b[0m\u001b[0m\n\u001b[1;32m   1755\u001b[0m             \u001b[0;32mif\u001b[0m \u001b[0mself\u001b[0m\u001b[0;34m.\u001b[0m\u001b[0mhandles\u001b[0m \u001b[0;32mis\u001b[0m \u001b[0;32mnot\u001b[0m \u001b[0;32mNone\u001b[0m\u001b[0;34m:\u001b[0m\u001b[0;34m\u001b[0m\u001b[0;34m\u001b[0m\u001b[0m\n",
            "\u001b[0;32m/usr/local/lib/python3.10/dist-packages/pandas/io/parsers/c_parser_wrapper.py\u001b[0m in \u001b[0;36m__init__\u001b[0;34m(self, src, **kwds)\u001b[0m\n\u001b[1;32m     77\u001b[0m \u001b[0;34m\u001b[0m\u001b[0m\n\u001b[1;32m     78\u001b[0m         \u001b[0mkwds\u001b[0m\u001b[0;34m[\u001b[0m\u001b[0;34m\"dtype\"\u001b[0m\u001b[0;34m]\u001b[0m \u001b[0;34m=\u001b[0m \u001b[0mensure_dtype_objs\u001b[0m\u001b[0;34m(\u001b[0m\u001b[0mkwds\u001b[0m\u001b[0;34m.\u001b[0m\u001b[0mget\u001b[0m\u001b[0;34m(\u001b[0m\u001b[0;34m\"dtype\"\u001b[0m\u001b[0;34m,\u001b[0m \u001b[0;32mNone\u001b[0m\u001b[0;34m)\u001b[0m\u001b[0;34m)\u001b[0m\u001b[0;34m\u001b[0m\u001b[0;34m\u001b[0m\u001b[0m\n\u001b[0;32m---> 79\u001b[0;31m         \u001b[0mself\u001b[0m\u001b[0;34m.\u001b[0m\u001b[0m_reader\u001b[0m \u001b[0;34m=\u001b[0m \u001b[0mparsers\u001b[0m\u001b[0;34m.\u001b[0m\u001b[0mTextReader\u001b[0m\u001b[0;34m(\u001b[0m\u001b[0msrc\u001b[0m\u001b[0;34m,\u001b[0m \u001b[0;34m**\u001b[0m\u001b[0mkwds\u001b[0m\u001b[0;34m)\u001b[0m\u001b[0;34m\u001b[0m\u001b[0;34m\u001b[0m\u001b[0m\n\u001b[0m\u001b[1;32m     80\u001b[0m \u001b[0;34m\u001b[0m\u001b[0m\n\u001b[1;32m     81\u001b[0m         \u001b[0mself\u001b[0m\u001b[0;34m.\u001b[0m\u001b[0munnamed_cols\u001b[0m \u001b[0;34m=\u001b[0m \u001b[0mself\u001b[0m\u001b[0;34m.\u001b[0m\u001b[0m_reader\u001b[0m\u001b[0;34m.\u001b[0m\u001b[0munnamed_cols\u001b[0m\u001b[0;34m\u001b[0m\u001b[0;34m\u001b[0m\u001b[0m\n",
            "\u001b[0;32m/usr/local/lib/python3.10/dist-packages/pandas/_libs/parsers.pyx\u001b[0m in \u001b[0;36mpandas._libs.parsers.TextReader.__cinit__\u001b[0;34m()\u001b[0m\n",
            "\u001b[0;32m/usr/local/lib/python3.10/dist-packages/pandas/_libs/parsers.pyx\u001b[0m in \u001b[0;36mpandas._libs.parsers.TextReader._get_header\u001b[0;34m()\u001b[0m\n",
            "\u001b[0;32m/usr/local/lib/python3.10/dist-packages/pandas/_libs/parsers.pyx\u001b[0m in \u001b[0;36mpandas._libs.parsers.TextReader._tokenize_rows\u001b[0;34m()\u001b[0m\n",
            "\u001b[0;32m/usr/local/lib/python3.10/dist-packages/pandas/_libs/parsers.pyx\u001b[0m in \u001b[0;36mpandas._libs.parsers.raise_parser_error\u001b[0;34m()\u001b[0m\n",
            "\u001b[0;31mUnicodeDecodeError\u001b[0m: 'utf-8' codec can't decode byte 0x83 in position 4383: invalid start byte"
          ]
        }
      ]
    },
    {
      "cell_type": "code",
      "source": [
        "import numpy as np\n",
        "import pandas as pd\n",
        "import matplotlib.pyplot as plt\n",
        "excel_file_path = \"/content/drive/MyDrive/agri.a1.eds.txt\"\n",
        "\n",
        "# Read the Excel file into a pandas DataFrame\n",
        "data_frame = pd.read_excel(excel_file_path)\n",
        "\n",
        "# Convert the DataFrame to a NumPy array\n",
        "array_data = np.array(data_frame)\n",
        "\n",
        "# Extract two specific columns as separate arrays\n",
        "x = np.array(data_frame[\"Price\"])\n",
        "y = np.array(data_frame[\"Producr\"])\n",
        "\n",
        "# Print the entire array\n",
        "print(array_data)\n",
        "\n",
        "# Print the extracted column arrays\n",
        "print(x)\n",
        "print(y)\n",
        "\n",
        "# Plot the data\n",
        "plt.plot(x, y, marker=\"o\")\n",
        "plt.xlabel(\"System length\")\n",
        "plt.ylabel(\"Stations\")\n",
        "plt.title(\"Graph of Column1 vs Column2\")\n",
        "\n",
        "# Display the graph\n",
        "plt.show()"
      ],
      "metadata": {
        "colab": {
          "base_uri": "https://localhost:8080/",
          "height": 1000
        },
        "id": "3UATwVPC8QqY",
        "outputId": "324519e5-6ff0-4daa-c279-990ad3b8b3e5"
      },
      "execution_count": null,
      "outputs": [
        {
          "output_type": "stream",
          "name": "stdout",
          "text": [
            "[['Algiers' 'Algeria' 'Algiers Metro' ... 19 '18.5\\xa0km (11.5\\xa0mi)'\n",
            "  '45.3 (2019)']\n",
            " ['Buenos Aires' 'Argentina' 'Buenos Aires Underground' ... 78\n",
            "  '56.7\\xa0km (35.2\\xa0mi)' '74.0 (2020)']\n",
            " ['Yerevan' 'Armenia' 'Yerevan Metro' ... 10 '12.1\\xa0km (7.5\\xa0mi)'\n",
            "  '23.3 (2022)']\n",
            " ...\n",
            " ['Tashkent' 'Uzbekistan' 'Tashkent Metro' ... 48\n",
            "  '59.1\\xa0km (36.7\\xa0mi)' '136.7 (2022)']\n",
            " ['Caracas' 'Venezuela' 'Caracas Metro' ... 49 '67.2\\xa0km (41.8\\xa0mi)'\n",
            "  '358 (2017)']\n",
            " ['Hanoi' 'Vietnam' 'Hanoi Metro' ... 12 '13.1\\xa0km (8.1\\xa0mi)' 7.5]]\n",
            "['18.5\\xa0km (11.5\\xa0mi)' '56.7\\xa0km (35.2\\xa0mi)'\n",
            " '12.1\\xa0km (7.5\\xa0mi)' '36\\xa0km (22\\xa0mi)' '83.3\\xa0km (51.8\\xa0mi)'\n",
            " '40.7\\xa0km (25.3\\xa0mi)' '11.7\\xa0km (7.3\\xa0mi)'\n",
            " '40.8\\xa0km (25.4\\xa0mi)' '39.9\\xa0km (24.8\\xa0mi)'\n",
            " '28.1\\xa0km (17.5\\xa0mi)' '42.38\\xa0km (26.33\\xa0mi)'\n",
            " '24.1\\xa0km (15.0\\xa0mi)' '43.8\\xa0km (27.2\\xa0mi)'\n",
            " '39.5\\xa0km (24.5\\xa0mi)' '58\\xa0km (36\\xa0mi)' '32.5\\xa0km (20.2\\xa0mi)'\n",
            " '104.4\\xa0km (64.9\\xa0mi)' '52\\xa0km (32\\xa0mi)'\n",
            " '69.2\\xa0km (43.0\\xa0mi)' '76.9\\xa0km (47.8\\xa0mi)'\n",
            " '79.6\\xa0km (49.5\\xa0mi)' '140\\xa0km (87\\xa0mi)'\n",
            " '785.7\\xa0km (488.2\\xa0mi)' '72.6\\xa0km (45.1\\xa0mi)'\n",
            " '207.9\\xa0km (129.2\\xa0mi)' '54.03\\xa0km (33.57\\xa0mi)'\n",
            " '518.5\\xa0km (322.2\\xa0mi)' '485.02\\xa0km (301.38\\xa0mi)'\n",
            " '237.74\\xa0km (147.72\\xa0mi)' '37.7\\xa0km (23.4\\xa0mi)'\n",
            " '112.7\\xa0km (70.0\\xa0mi)' '114.2\\xa0km (71.0\\xa0mi)'\n",
            " '617.05\\xa0km (383.42\\xa0mi)' '75.7\\xa0km (47.0\\xa0mi)'\n",
            " '516.2\\xa0km (320.8\\xa0mi)' '79.4\\xa0km (49.3\\xa0mi)'\n",
            " '170.95\\xa0km (106.22\\xa0mi)' '49.039\\xa0km (30.471\\xa0mi)'\n",
            " '209.0\\xa0km (129.9\\xa0mi)' '84.25\\xa0km (52.35\\xa0mi)'\n",
            " '118.5\\xa0km (73.6\\xa0mi)' '164.3\\xa0km (102.1\\xa0mi)'\n",
            " '25.9\\xa0km (16.1\\xa0mi)' '43.554\\xa0km (27.063\\xa0mi)'\n",
            " '128.3\\xa0km (79.7\\xa0mi)' '449.45\\xa0km (279.28\\xa0mi)'\n",
            " '128.2\\xa0km (79.7\\xa0mi)' '39.182\\xa0km (24.347\\xa0mi)'\n",
            " '185.36\\xa0km (115.18\\xa0mi)' '315.86\\xa0km (196.27\\xa0mi)'\n",
            " '795.5\\xa0km (494.3\\xa0mi)' '47.1\\xa0km (29.3\\xa0mi)'\n",
            " '115.9\\xa0km (72.0\\xa0mi)' '547.42\\xa0km (340.15\\xa0mi)'\n",
            " '76.5\\xa0km (47.5\\xa0mi)' '208.2\\xa0km (129.4\\xa0mi)'\n",
            " '23.647\\xa0km (14.694\\xa0mi)' '52.4\\xa0km (32.6\\xa0mi)'\n",
            " '288.25\\xa0km (179.11\\xa0mi)' '27.615\\xa0km (17.159\\xa0mi)'\n",
            " '53.507\\xa0km (33.248\\xa0mi)' '460.944\\xa0km (286.417\\xa0mi)'\n",
            " '114.8\\xa0km (71.3\\xa0mi)' '98.4\\xa0km (61.1\\xa0mi)'\n",
            " '278.5\\xa0km (173.1\\xa0mi)' '64.35\\xa0km (39.99\\xa0mi)'\n",
            " '232.5\\xa0km (144.5\\xa0mi)' '31.3\\xa0km (19.4\\xa0mi)'\n",
            " '65.4\\xa0km (40.6\\xa0mi)' '38.2\\xa0km (23.7\\xa0mi)'\n",
            " '31.0\\xa0km (19.3\\xa0mi)' '22.6\\xa0km (14.0\\xa0mi)'\n",
            " '93.1\\xa0km (57.8\\xa0mi)' '43\\xa0km (27\\xa0mi)' '45\\xa0km (28\\xa0mi)'\n",
            " '32.0\\xa0km (19.9\\xa0mi)' '22.7\\xa0km (14.1\\xa0mi)'\n",
            " '226.9\\xa0km (141.0\\xa0mi)' '22.4\\xa0km (13.9\\xa0mi)'\n",
            " '28.2\\xa0km (17.5\\xa0mi)' '28.6\\xa0km (17.8\\xa0mi)'\n",
            " '147.8\\xa0km (91.8\\xa0mi)' '105.8\\xa0km (65.7\\xa0mi)'\n",
            " '95\\xa0km (59\\xa0mi)' '38.2\\xa0km (23.7\\xa0mi)' '91.7\\xa0km (57.0\\xa0mi)'\n",
            " '38.2\\xa0km (23.7\\xa0mi)' '37.86\\xa0km (23.53\\xa0mi)'\n",
            " '68.6\\xa0km (42.6\\xa0mi)' '54\\xa0km (34\\xa0mi)'\n",
            " '348.12\\xa0km (216.31\\xa0mi)' '12.8\\xa0km (8.0\\xa0mi)'\n",
            " '69\\xa0km (43\\xa0mi)' '12.0\\xa0km (7.5\\xa0mi)' '8.98\\xa0km (5.58\\xa0mi)'\n",
            " '27.4\\xa0km (17.0\\xa0mi)' '46.96\\xa0km (29.18\\xa0mi)'\n",
            " '22.87\\xa0km (14.21\\xa0mi)' '46.4\\xa0km (28.8\\xa0mi)'\n",
            " '38.2\\xa0km (23.7\\xa0mi)' '29.7\\xa0km (18.5\\xa0mi)'\n",
            " '12\\xa0km (7.5\\xa0mi)' '15.7\\xa0km (9.8\\xa0mi)' '20.2\\xa0km (12.6\\xa0mi)'\n",
            " '37.5\\xa0km (23.3\\xa0mi)' '32.5\\xa0km (20.2\\xa0mi)'\n",
            " '6.5\\xa0km (4.0\\xa0mi)' '17.2\\xa0km (10.7\\xa0mi)'\n",
            " '168.2\\xa0km (104.5\\xa0mi)' '13.7\\xa0km (8.5\\xa0mi)'\n",
            " '8.8\\xa0km (5.5\\xa0mi)' '7.1\\xa0km (4.4\\xa0mi)'\n",
            " '102.5\\xa0km (63.7\\xa0mi)' '30.8\\xa0km (19.1\\xa0mi)'\n",
            " '60\\xa0km (37\\xa0mi)' '15.1\\xa0km (9.4\\xa0mi)' '31.4\\xa0km (19.5\\xa0mi)'\n",
            " '18.4\\xa0km (11.4\\xa0mi)' '38.1\\xa0km (23.7\\xa0mi)'\n",
            " '31.2\\xa0km (19.4\\xa0mi)' '93.3\\xa0km (58.0\\xa0mi)'\n",
            " '129.9\\xa0km (80.7\\xa0mi)' '48.0\\xa0km (29.8\\xa0mi)'\n",
            " '28.7\\xa0km (17.8\\xa0mi)' '109.0\\xa0km (67.7\\xa0mi)'\n",
            " '195.1\\xa0km (121.2\\xa0mi)' '12.2\\xa0km (7.6\\xa0mi)'\n",
            " '53.4\\xa0km (33.2\\xa0mi)' '4.1\\xa0km (2.5\\xa0mi)'\n",
            " '13.4\\xa0km (8.3\\xa0mi)' '22.5\\xa0km (14.0\\xa0mi)'\n",
            " '139.9\\xa0km (86.9\\xa0mi)' '82.9\\xa0km (51.5\\xa0mi)'\n",
            " '22.7\\xa0km (14.1\\xa0mi)' '20.1\\xa0km (12.5\\xa0mi)'\n",
            " '59.4\\xa0km (36.9\\xa0mi)' '345.3\\xa0km (214.6\\xa0mi)'\n",
            " '151.7\\xa0km (94.3\\xa0mi)' '33.4\\xa0km (20.8\\xa0mi)'\n",
            " '196.2\\xa0km (121.9\\xa0mi)' '46.5\\xa0km (28.9\\xa0mi)'\n",
            " '200.88\\xa0km (124.82\\xa0mi)' '40.2\\xa0km (25.0\\xa0mi)'\n",
            " '41.2\\xa0km (25.6\\xa0mi)' '103.1\\xa0km (64.1\\xa0mi)' '13 km (8.1 mi)'\n",
            " '85\\xa0km (53\\xa0mi)' '27.1\\xa0km (16.8\\xa0mi)' '39.3\\xa0km (24.4\\xa0mi)'\n",
            " '34.6\\xa0km (21.5\\xa0mi)' '37.2\\xa0km (23.1\\xa0mi)'\n",
            " '16.9\\xa0km (10.5\\xa0mi)' '41.3\\xa0km (25.7\\xa0mi)'\n",
            " '44.2\\xa0km (27.5\\xa0mi)' '76\\xa0km (47\\xa0mi)' '80.1\\xa0km (49.8\\xa0mi)'\n",
            " '16.8\\xa0km (10.4\\xa0mi)' '461.5\\xa0km (286.8\\xa0mi)'\n",
            " '21.82\\xa0km (13.56\\xa0mi)' '15.9\\xa0km (9.9\\xa0mi)'\n",
            " '124.8\\xa0km (77.5\\xa0mi)' '11.6\\xa0km (7.2\\xa0mi)'\n",
            " '12.7\\xa0km (7.9\\xa0mi)' '230.2\\xa0km (143.0\\xa0mi)'\n",
            " '128.3\\xa0km (79.7\\xa0mi)' '45.1\\xa0km (28.0\\xa0mi)'\n",
            " '293.9\\xa0km (182.6\\xa0mi)' '108\\xa0km (67\\xa0mi)'\n",
            " '5.9\\xa0km (3.7\\xa0mi)' '42.7\\xa0km (26.5\\xa0mi)'\n",
            " '146.2\\xa0km (90.8\\xa0mi)' '16.7\\xa0km (10.4\\xa0mi)'\n",
            " '53.1\\xa0km (33.0\\xa0mi)' '68.2\\xa0km (42.4\\xa0mi)' '71\\xa0km (44\\xa0mi)'\n",
            " '13.9\\xa0km (8.6\\xa0mi)' '67.4\\xa0km (41.9\\xa0mi)'\n",
            " '38.9\\xa0km (24.2\\xa0mi)' '199.2\\xa0km (123.8\\xa0mi)'\n",
            " '20\\xa0km (12\\xa0mi)' '7.8\\xa0km (4.8\\xa0mi)' '38.7\\xa0km (24.0\\xa0mi)'\n",
            " '67.7\\xa0km (42.1\\xa0mi)' '89.3\\xa0km (55.5\\xa0mi)'\n",
            " '10.4\\xa0km (6.5\\xa0mi)' '402\\xa0km (250\\xa0mi)' '34\\xa0km (21\\xa0mi)'\n",
            " '76.6\\xa0km (47.6\\xa0mi)' '24.9\\xa0km (15.5\\xa0mi)' '61\\xa0km (38\\xa0mi)'\n",
            " '165.4\\xa0km (102.8\\xa0mi)' '31\\xa0km (19\\xa0mi)'\n",
            " '28.0\\xa0km (17.4\\xa0mi)' '39.3\\xa0km (24.4\\xa0mi)'\n",
            " '399\\xa0km (248\\xa0mi)' '22.5\\xa0km (14.0\\xa0mi)'\n",
            " '22.2\\xa0km (13.8\\xa0mi)' '59.1\\xa0km (36.7\\xa0mi)'\n",
            " '22.9\\xa0km (14.2\\xa0mi)' '191.5\\xa0km (119.0\\xa0mi)'\n",
            " '17.2\\xa0km (10.7\\xa0mi)' '206\\xa0km (128\\xa0mi)'\n",
            " '59.1\\xa0km (36.7\\xa0mi)' '67.2\\xa0km (41.8\\xa0mi)'\n",
            " '13.1\\xa0km (8.1\\xa0mi)']\n",
            "[ 19  78  10  13  98  27   9  33  59  19  27  20  22  28  41  19  89  44\n",
            "  68  75  53 119 370  59 135  43 284 238  99  15  61  74 254  55 254  62\n",
            " 133  43  99  40  32 103  20  33  94 191  93  28 116 146 403  28  85 303\n",
            "  60 154  23  15 181  21  18 254  80  66 173  51 143  27  58  39  33  15\n",
            "  74  30  60  40  29 308  28  37  23 175  93  96  49  66  48  31  63  42\n",
            " 230  11  56  11   9  24  40  21  40  36  21  10  13  20  35  22   2  18\n",
            " 123  17  10   8 112  27  73  23  36  22  28  31  87 100  46  29  99 142\n",
            "   8  40   6  11  17 108  88  22  20  56 279  86  16 129  46 163  38  39\n",
            "  71   5 101  26  31  26  33  13  38  50  37  56  11 289  15  14  72  10\n",
            "   9 134 132  42 242 100  14  37 119  18  22  60  53  13  57  39 128  17\n",
            "   6  30  52  53  15 272  45  38  14  51 145  18  16  23 424  21  13  72\n",
            "  13  47  16  98  48  49  12]\n"
          ]
        },
        {
          "output_type": "display_data",
          "data": {
            "text/plain": [
              "<Figure size 640x480 with 1 Axes>"
            ],
            "image/png": "[encoded data removed]"
          },
          "metadata": {}
        }
      ]
    },
    {
      "cell_type": "code",
      "source": [
        "import numpy as np\n",
        "import pandas as pd\n",
        "\n",
        "# isna indicate missing values\n",
        "# Dropna drop missing values\n",
        "\n",
        "df1 = pd.read_csv('/content/drive/MyDrive/abhi.csv')\n",
        " #data = df1.values.tolist()\n",
        "print(df1)\n",
        "\n",
        "# Drop the rows where at least one element is missing.\n",
        "a=df1.dropna()\n",
        "print(a)\n",
        "\n",
        "# Drop the columns where at least one element is missing.\n",
        "b=df1.dropna(axis='columns')\n",
        "print(b)\n",
        "\n",
        "#Drop the rows where all elements are missing.\n",
        "c=df1.dropna(how='all')\n",
        "print(c)"
      ],
      "metadata": {
        "colab": {
          "base_uri": "https://localhost:8080/"
        },
        "id": "U2ob--pL_LJq",
        "outputId": "e4f63c7f-c6e6-462c-8172-c531fa32f34e"
      },
      "execution_count": null,
      "outputs": [
        {
          "output_type": "stream",
          "name": "stdout",
          "text": [
            "   name  roll no.  marks\n",
            "0     A         1     20\n",
            "1     B         2     30\n",
            "2     C         3     20\n",
            "3     D         4     40\n",
            "4     E         5     50\n",
            "5     F         6     60\n",
            "6     G         7     52\n",
            "7     H         8     80\n",
            "8     I         9     63\n",
            "9     J        10     26\n",
            "10    K        11     23\n",
            "11    L        12     28\n",
            "12    M        13     90\n",
            "   name  roll no.  marks\n",
            "0     A         1     20\n",
            "1     B         2     30\n",
            "2     C         3     20\n",
            "3     D         4     40\n",
            "4     E         5     50\n",
            "5     F         6     60\n",
            "6     G         7     52\n",
            "7     H         8     80\n",
            "8     I         9     63\n",
            "9     J        10     26\n",
            "10    K        11     23\n",
            "11    L        12     28\n",
            "12    M        13     90\n",
            "   name  roll no.  marks\n",
            "0     A         1     20\n",
            "1     B         2     30\n",
            "2     C         3     20\n",
            "3     D         4     40\n",
            "4     E         5     50\n",
            "5     F         6     60\n",
            "6     G         7     52\n",
            "7     H         8     80\n",
            "8     I         9     63\n",
            "9     J        10     26\n",
            "10    K        11     23\n",
            "11    L        12     28\n",
            "12    M        13     90\n",
            "   name  roll no.  marks\n",
            "0     A         1     20\n",
            "1     B         2     30\n",
            "2     C         3     20\n",
            "3     D         4     40\n",
            "4     E         5     50\n",
            "5     F         6     60\n",
            "6     G         7     52\n",
            "7     H         8     80\n",
            "8     I         9     63\n",
            "9     J        10     26\n",
            "10    K        11     23\n",
            "11    L        12     28\n",
            "12    M        13     90\n"
          ]
        }
      ]
    },
    {
      "cell_type": "code",
      "source": [
        "import numpy as np\n",
        "import pandas as pd\n",
        "\n",
        "#read excel\n",
        "df1 = pd.read_csv('/content/drive/MyDrive/abhi.csv'))\n",
        "data = df1.values.tolist()\n",
        "print(data)\n",
        "\n",
        "#head will fetch top 5 record\n",
        "a1df1.head ()\n",
        "print(al)\n",
        "\n",
        "# Pandas dataframe.isna() function is used to detect missing values.\n",
        " a2 = df1[df1.isna().any (axis=1)]\n",
        "print(a2)\n",
        "\n",
        "#Remove all rows wit NULL values from the DataFrame.\n",
        "a3 = df1.dropna(how='all')\n",
        "print(a3)"
      ],
      "metadata": {
        "id": "98CJ2EGPEwFf"
      },
      "execution_count": null,
      "outputs": []
    },
    {
      "cell_type": "code",
      "source": [
        "import numpy  as np\n",
        "import pandas as pd\n",
        "import matplotlib.pyplot as plt #isna indicate missing values\n",
        "# Dropna drop missing values #read data set\n",
        "df1 = pd.read_csv('/content/drive/MyDrive/test.csv')\n",
        "a= df1.head()\n",
        "#data Preprocessing\n",
        "x = df1.iloc[:,:-1]\n",
        "y = df1.iloc[:,1]\n",
        "#splitting dataset\n",
        "from sklearn.model_selection import train_test_split\n",
        "x_train, x_test, y_train, y_test = train_test_split(x,y,test_size = 1/3, random_state=0)\n",
        "from sklearn.linear_model import LinearRegression\n",
        "regressor= LinearRegression()\n",
        "regressor.fit(x_train,y_train)\n",
        "y_pred=regressor.predict(x_test)\n",
        "y_pred\n",
        "y_test\n",
        "plt.scatter (x_train, y_train, color='red') # plotting the observation line plt.plot(x_train, regressor.predict(x_train), color='blue') # plotting the regression line\n",
        "plt.title(\"Salary vs Experience (Training set)\") # stating the title of the graph plt.xlabel(\"Years of experience\") # adding the name of x-axis\n",
        "plt.ylabel(\"Salaries\") # adding the name of y-axis\n",
        "plt.show() # specifies end of graph"
      ],
      "metadata": {
        "colab": {
          "base_uri": "https://localhost:8080/",
          "height": 452
        },
        "id": "bV1-lhUqFfbk",
        "outputId": "1a950c7a-dbb3-45ce-87aa-615f952b77a0"
      },
      "execution_count": null,
      "outputs": [
        {
          "output_type": "display_data",
          "data": {
            "text/plain": [
              "<Figure size 640x480 with 1 Axes>"
            ],
            "image/png": "[encoded data removed]"
          },
          "metadata": {}
        }
      ]
    },
    {
      "cell_type": "code",
      "source": [],
      "metadata": {
        "id": "qir1Es0AHjmJ"
      },
      "execution_count": null,
      "outputs": []
    },
    {
      "cell_type": "code",
      "source": [
        "import numpy as np import pandas as pd\n",
        "\n",
        "import matplotlib.pyplot as plt\n",
        "\n",
        "#read data set df1 = pd.read_excel(\n",
        "a = df1.head() #data Preprocessing\n",
        "\n",
        "x = df1.iloc[:,:-1]\n",
        "\n",
        "y = df1.iloc[,1]\n",
        "\n",
        "#splitting dataset from sklearn.model_selection import tra\n",
        "\n",
        "x_train, x_test, y_train, y_test = trai from sklearn.linear_model import Linear regressor Linear Regression() regressor.fit(x_train, y_train) y_pred regressor.predict(x_test)\n",
        "\n",
        "y_pred y_test\n",
        "\n",
        "plt.scatter (x_train, y_train, color='re plt.plot(x_train, regressor.predict(x_t\n",
        "\n",
        "plt.title(\"Salary vs Experience (Traini plt.xlabel(\"Years of experience\") # add plt.ylabel(\"Salaries\") # adding the nam plt.show() # specifies end of graph"
      ],
      "metadata": {
        "id": "1Agq99c5HjjA"
      },
      "execution_count": null,
      "outputs": []
    },
    {
      "cell_type": "code",
      "source": [
        "import csv\n",
        "import matplotlib.pyplot as plt\n",
        "with open('/content/drive/MyDrive/CSV !.csv', 'r') as csvfile:\n",
        "    reader = csv.reader(csvfile)\n",
        "    data = list(reader)\n",
        "def fun(i,j):\n",
        "  for row in data:\n",
        "    print(row)\n",
        "i = 0\n",
        "while i < len(data):\n",
        "    print(data[i])\n",
        "    i += 1\n",
        "groups = []\n",
        "for i in range(10):\n",
        "    group = []\n",
        "    for j in range(len(data)):\n",
        "        if i == j%5:\n",
        "            group.append(data[j])\n",
        "    groups.append(group)\n",
        "for group in groups:\n",
        "    print(group)\n",
        "for i in range(10):\n",
        "    plt.plot([x[0] for x in groups[i]], [x[1] for x in groups[i]])\n",
        "    plt.title(\"Group {i}\")\n",
        "    plt.show()\n",
        "fun(i,j)"
      ],
      "metadata": {
        "colab": {
          "base_uri": "https://localhost:8080/",
          "height": 235
        },
        "id": "PKISZ3DjhIQV",
        "outputId": "fe7c61bc-83d4-4179-f0dc-2a98b8da3533"
      },
      "execution_count": null,
      "outputs": [
        {
          "output_type": "error",
          "ename": "FileNotFoundError",
          "evalue": "ignored",
          "traceback": [
            "\u001b[0;31m---------------------------------------------------------------------------\u001b[0m",
            "\u001b[0;31mFileNotFoundError\u001b[0m                         Traceback (most recent call last)",
            "\u001b[0;32m<ipython-input-1-6381cabfabaf>\u001b[0m in \u001b[0;36m<cell line: 3>\u001b[0;34m()\u001b[0m\n\u001b[1;32m      1\u001b[0m \u001b[0;32mimport\u001b[0m \u001b[0mcsv\u001b[0m\u001b[0;34m\u001b[0m\u001b[0;34m\u001b[0m\u001b[0m\n\u001b[1;32m      2\u001b[0m \u001b[0;32mimport\u001b[0m \u001b[0mmatplotlib\u001b[0m\u001b[0;34m.\u001b[0m\u001b[0mpyplot\u001b[0m \u001b[0;32mas\u001b[0m \u001b[0mplt\u001b[0m\u001b[0;34m\u001b[0m\u001b[0;34m\u001b[0m\u001b[0m\n\u001b[0;32m----> 3\u001b[0;31m \u001b[0;32mwith\u001b[0m \u001b[0mopen\u001b[0m\u001b[0;34m(\u001b[0m\u001b[0;34m'/content/drive/MyDrive/CSV !.csv'\u001b[0m\u001b[0;34m,\u001b[0m \u001b[0;34m'r'\u001b[0m\u001b[0;34m)\u001b[0m \u001b[0;32mas\u001b[0m \u001b[0mcsvfile\u001b[0m\u001b[0;34m:\u001b[0m\u001b[0;34m\u001b[0m\u001b[0;34m\u001b[0m\u001b[0m\n\u001b[0m\u001b[1;32m      4\u001b[0m     \u001b[0mreader\u001b[0m \u001b[0;34m=\u001b[0m \u001b[0mcsv\u001b[0m\u001b[0;34m.\u001b[0m\u001b[0mreader\u001b[0m\u001b[0;34m(\u001b[0m\u001b[0mcsvfile\u001b[0m\u001b[0;34m)\u001b[0m\u001b[0;34m\u001b[0m\u001b[0;34m\u001b[0m\u001b[0m\n\u001b[1;32m      5\u001b[0m     \u001b[0mdata\u001b[0m \u001b[0;34m=\u001b[0m \u001b[0mlist\u001b[0m\u001b[0;34m(\u001b[0m\u001b[0mreader\u001b[0m\u001b[0;34m)\u001b[0m\u001b[0;34m\u001b[0m\u001b[0;34m\u001b[0m\u001b[0m\n",
            "\u001b[0;31mFileNotFoundError\u001b[0m: [Errno 2] No such file or directory: '/content/drive/MyDrive/CSV !.csv'"
          ]
        }
      ]
    },
    {
      "cell_type": "code",
      "source": [
        "# into a single iterable where elements from corresponding positions are paired together\n",
        "import matplotlib.pyplot as plt\n",
        "from sklearn.neighbors import KNeighborsClassifier\n",
        "x=[4, 5, 10, 4, 3, 11, 14 8, 10, 12]\n",
        "y=[21, 19, 24, 17. 16, 25, 24, 22, 21, 21]\n",
        "classes [0, 0, 1, 0, 0, 1, 1, 0, 1, 1]\n",
        " plt.scatter(x, y, c=classes)\n",
        "plt.show()\n",
        "data= list(zip(x, y))\n",
        "knn KNeighborsClassifier(n_neighbors=1)\n",
        "knn.fit(data, classes)\n",
        "new_x=8\n",
        "new_y=21\n",
        "new point [(new_x, new_y)]\n",
        "prediction knn.predict(new point)\n",
        "plt.scatter(x+[new_x], y +[new_y], c=classes [prediction[0]])\n",
        "plt.text(x=new_x-1.7, y=new_y-0.7, s=f\"new point, class: (prediction[0])\")\n",
        "plt.show()"
      ],
      "metadata": {
        "colab": {
          "base_uri": "https://localhost:8080/",
          "height": 130
        },
        "id": "ET6jHGClCzKM",
        "outputId": "755f2650-e056-4ef3-ffd8-db9da61c41a8"
      },
      "execution_count": null,
      "outputs": [
        {
          "output_type": "error",
          "ename": "SyntaxError",
          "evalue": "ignored",
          "traceback": [
            "\u001b[0;36m  File \u001b[0;32m\"<ipython-input-3-c689dbcbf015>\"\u001b[0;36m, line \u001b[0;32m4\u001b[0m\n\u001b[0;31m    x=[4, 5, 10, 4, 3, 11, 14 8, 10, 12]\u001b[0m\n\u001b[0m                           ^\u001b[0m\n\u001b[0;31mSyntaxError\u001b[0m\u001b[0;31m:\u001b[0m invalid syntax. Perhaps you forgot a comma?\n"
          ]
        }
      ]
    },
    {
      "cell_type": "code",
      "source": [
        "import matplotlib.pyplot as plt\n",
        "from sklearn.cluster import KMeans\n",
        "x = [4, 5, 10, 4, 3, 11, 14, 6, 10, 12]\n",
        "y= [21, 19, 24, 17, 16, 25, 24, 22, 21, 21]\n",
        "plt.scatter(x, y)\n",
        "plt.show()\n",
        "data = list(zip(x, y))\n",
        "inertia = []\n",
        "for i in range(1,11):\n",
        "    kmeans = KMeans(n_clusters=i)\n",
        "    kmeans.fit(data)\n",
        "    inertia.append(kmeans.inertia_)\n",
        "plt.plot(range(1,11), inertia, marker='o')\n",
        "plt.xlabel('Number of clusters')\n",
        "plt.ylabel('Inertia')\n",
        "plt.show()\n",
        "kmeans = KMeans(n_clusters=5)\n",
        "kmeans.fit(data)\n",
        "plt.scatter (x, y, c=kmeans.labels_)\n",
        "plt.show()"
      ],
      "metadata": {
        "colab": {
          "base_uri": "https://localhost:8080/",
          "height": 1000
        },
        "id": "8VYUplxYJgKb",
        "outputId": "8dc21291-6ced-4ccd-8e46-d135a339dc74"
      },
      "execution_count": null,
      "outputs": [
        {
          "output_type": "display_data",
          "data": {
            "text/plain": [
              "<Figure size 640x480 with 1 Axes>"
            ],
            "image/png": "[encoded data removed]"
          },
          "metadata": {}
        },
        {
          "output_type": "stream",
          "name": "stderr",
          "text": [
            "/usr/local/lib/python3.10/dist-packages/sklearn/cluster/_kmeans.py:870: FutureWarning: The default value of `n_init` will change from 10 to 'auto' in 1.4. Set the value of `n_init` explicitly to suppress the warning\n",
            "  warnings.warn(\n",
            "/usr/local/lib/python3.10/dist-packages/sklearn/cluster/_kmeans.py:870: FutureWarning: The default value of `n_init` will change from 10 to 'auto' in 1.4. Set the value of `n_init` explicitly to suppress the warning\n",
            "  warnings.warn(\n",
            "/usr/local/lib/python3.10/dist-packages/sklearn/cluster/_kmeans.py:870: FutureWarning: The default value of `n_init` will change from 10 to 'auto' in 1.4. Set the value of `n_init` explicitly to suppress the warning\n",
            "  warnings.warn(\n",
            "/usr/local/lib/python3.10/dist-packages/sklearn/cluster/_kmeans.py:870: FutureWarning: The default value of `n_init` will change from 10 to 'auto' in 1.4. Set the value of `n_init` explicitly to suppress the warning\n",
            "  warnings.warn(\n",
            "/usr/local/lib/python3.10/dist-packages/sklearn/cluster/_kmeans.py:870: FutureWarning: The default value of `n_init` will change from 10 to 'auto' in 1.4. Set the value of `n_init` explicitly to suppress the warning\n",
            "  warnings.warn(\n",
            "/usr/local/lib/python3.10/dist-packages/sklearn/cluster/_kmeans.py:870: FutureWarning: The default value of `n_init` will change from 10 to 'auto' in 1.4. Set the value of `n_init` explicitly to suppress the warning\n",
            "  warnings.warn(\n",
            "/usr/local/lib/python3.10/dist-packages/sklearn/cluster/_kmeans.py:870: FutureWarning: The default value of `n_init` will change from 10 to 'auto' in 1.4. Set the value of `n_init` explicitly to suppress the warning\n",
            "  warnings.warn(\n",
            "/usr/local/lib/python3.10/dist-packages/sklearn/cluster/_kmeans.py:870: FutureWarning: The default value of `n_init` will change from 10 to 'auto' in 1.4. Set the value of `n_init` explicitly to suppress the warning\n",
            "  warnings.warn(\n",
            "/usr/local/lib/python3.10/dist-packages/sklearn/cluster/_kmeans.py:870: FutureWarning: The default value of `n_init` will change from 10 to 'auto' in 1.4. Set the value of `n_init` explicitly to suppress the warning\n",
            "  warnings.warn(\n",
            "/usr/local/lib/python3.10/dist-packages/sklearn/cluster/_kmeans.py:870: FutureWarning: The default value of `n_init` will change from 10 to 'auto' in 1.4. Set the value of `n_init` explicitly to suppress the warning\n",
            "  warnings.warn(\n"
          ]
        },
        {
          "output_type": "display_data",
          "data": {
            "text/plain": [
              "<Figure size 640x480 with 1 Axes>"
            ],
            "image/png": "[encoded data removed]"
          },
          "metadata": {}
        },
        {
          "output_type": "stream",
          "name": "stderr",
          "text": [
            "/usr/local/lib/python3.10/dist-packages/sklearn/cluster/_kmeans.py:870: FutureWarning: The default value of `n_init` will change from 10 to 'auto' in 1.4. Set the value of `n_init` explicitly to suppress the warning\n",
            "  warnings.warn(\n"
          ]
        },
        {
          "output_type": "display_data",
          "data": {
            "text/plain": [
              "<Figure size 640x480 with 1 Axes>"
            ],
            "image/png": "[encoded data removed]"
          },
          "metadata": {}
        }
      ]
    },
    {
      "cell_type": "code",
      "source": [
        "import matplotlib.pyplot as plt\n",
        "from sklearn.neighbors import KNeighborsClassifier\n",
        "x= [4, 5, 10, 4, 3, 11, 14, 8, 10, 12]\n",
        "y= [21, 19, 24, 17, 16, 25, 24, 22, 21, 21]\n",
        "classes= [0, 0, 1, 0, 0, 1, 1, 8, 1, 1]\n",
        "plt.scatter(x, y, c=classes)\n",
        "plt.show()\n",
        "data= list(zip(x, y))\n",
        "knn = KNeighborsClassifier(n_neighbors=1)\n",
        "knn.fit(data, classes)\n",
        "new_x = 8\n",
        "new_y = 21\n",
        "new_point = [(new_x, new_y)]\n",
        "prediction = knn.predict(new_point)\n",
        "plt.scatter(x + [new_x], y + [new_y], c=classes + [prediction[0]])\n",
        "plt.text(x=new_x-1.7, y=new_y-0.7, s=f\"new point, class: {prediction[0]}\")\n",
        "plt.show"
      ],
      "metadata": {
        "id": "Ox0N9pj0KzLn",
        "outputId": "63c90565-513f-4b00-cd6c-34637523c87e",
        "colab": {
          "base_uri": "https://localhost:8080/",
          "height": 860
        }
      },
      "execution_count": null,
      "outputs": [
        {
          "output_type": "display_data",
          "data": {
            "text/plain": [
              "<Figure size 640x480 with 1 Axes>"
            ],
            "image/png": "[encoded data removed]"
          },
          "metadata": {}
        },
        {
          "output_type": "execute_result",
          "data": {
            "text/plain": [
              "<function matplotlib.pyplot.show(close=None, block=None)>"
            ]
          },
          "metadata": {},
          "execution_count": 5
        },
        {
          "output_type": "display_data",
          "data": {
            "text/plain": [
              "<Figure size 640x480 with 1 Axes>"
            ],
            "image/png": "[encoded data removed]"
          },
          "metadata": {}
        }
      ]
    }
  ]
}